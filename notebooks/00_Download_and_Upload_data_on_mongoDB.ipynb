{
 "cells": [
  {
   "cell_type": "code",
   "execution_count": 1,
   "metadata": {},
   "outputs": [],
   "source": [
    "import pymongo\n",
    "import json\n",
    "from sshtunnel import SSHTunnelForwarder\n",
    "import os\n",
    "from bson.objectid import ObjectId\n",
    "import pandas as pd\n",
    "import numpy as np"
   ]
  },
  {
   "cell_type": "markdown",
   "metadata": {},
   "source": [
    "All the data downloaded from Twitch and Twitter for this project is stored in a MongoDB of a Virtual Machine."
   ]
  },
  {
   "cell_type": "markdown",
   "metadata": {},
   "source": [
    "A copy of the data from this db can be found in the 'dataset' folder, so that it can be uploaded to a local MongoDB instance and accessed by someone without access to the VM."
   ]
  },
  {
   "cell_type": "markdown",
   "metadata": {},
   "source": [
    "In this notebook there are the code chunks used for downloading a copy of the data stored in the VM collection and the ones useful for inserting the data in another local instance.\n",
    "The recommended way for exporting and importing data on MongoDB is through the \"mongoimport\" and \"mongoexport\" utilities. We have chosen to use a programmatic approach because it helps us to filter the data we'd like to export: in particular we just wanted to export data stored before the 28th of June because that was the week when we wrote the project report."
   ]
  },
  {
   "cell_type": "markdown",
   "metadata": {},
   "source": [
    "The copy of the data for Twitch and Twitter stored in the MongoDB of the VM can be found as zipped files in the \"dataset\" folder. The VGChartz data is stored in the same folder as the csv file 'vgsales.csv' created from scraping the VGChartz database."
   ]
  },
  {
   "cell_type": "markdown",
   "metadata": {},
   "source": [
    "# Insert data on a MongoDB Instance"
   ]
  },
  {
   "cell_type": "markdown",
   "metadata": {},
   "source": [
    "## Important: please change all IP and path according to your sistem configuration. Do not change the DB and collections names, otherwise the other notebooks won't work"
   ]
  },
  {
   "cell_type": "code",
   "execution_count": 2,
   "metadata": {},
   "outputs": [
    {
     "data": {
      "text/plain": [
       "[]"
      ]
     },
     "execution_count": 2,
     "metadata": {},
     "output_type": "execute_result"
    }
   ],
   "source": [
    "client = pymongo.MongoClient(\"localhost\", 27017)\n",
    "db = client[\"dm_project\"]\n",
    "db.list_collection_names()"
   ]
  },
  {
   "cell_type": "code",
   "execution_count": 3,
   "metadata": {},
   "outputs": [],
   "source": [
    "from bson.json_util import loads"
   ]
  },
  {
   "cell_type": "code",
   "execution_count": 4,
   "metadata": {},
   "outputs": [],
   "source": [
    "def load_json_dump(fn):\n",
    "    with open(fn) as f:\n",
    "        collection = loads(f.read())\n",
    "    return collection\n"
   ]
  },
  {
   "cell_type": "markdown",
   "metadata": {},
   "source": [
    "### Inserting Twitch Data"
   ]
  },
  {
   "cell_type": "markdown",
   "metadata": {},
   "source": [
    "Please unzip the files inside the 'dataset' folder before proceeding."
   ]
  },
  {
   "cell_type": "markdown",
   "metadata": {},
   "source": [
    "The json files that we are now going to upload to the local MongoDB collection contain 5GB of data, so that the process may take a few minutes. This is only a part of the full database on the VM!"
   ]
  },
  {
   "cell_type": "code",
   "execution_count": 5,
   "metadata": {},
   "outputs": [],
   "source": [
    "twitch_files = [\"../dataset/twitch_before_06_15.json\", \"../dataset/twitch_06_15_20.json\", \"../dataset/twitch_06_20_24.json\", \"../dataset/twitch_06_24_28.json\"]"
   ]
  },
  {
   "cell_type": "code",
   "execution_count": 6,
   "metadata": {},
   "outputs": [
    {
     "name": "stdout",
     "output_type": "stream",
     "text": [
      "../dataset/twitch_before_06_15.json\n",
      "Loaded\n",
      "Inserted!\n",
      "../dataset/twitch_06_15_20.json\n",
      "Loaded\n",
      "Inserted!\n",
      "../dataset/twitch_06_20_24.json\n",
      "Loaded\n",
      "Inserted!\n",
      "../dataset/twitch_06_24_28.json\n",
      "Loaded\n",
      "Inserted!\n"
     ]
    }
   ],
   "source": [
    "for file in twitch_files:\n",
    "    print(file)\n",
    "    collection = load_json_dump(file)\n",
    "    print(\"Loaded\")\n",
    "    db.twitch.insert_many(collection)\n",
    "    print(\"Inserted!\")"
   ]
  },
  {
   "cell_type": "markdown",
   "metadata": {},
   "source": [
    "Check if data was loaded correctly"
   ]
  },
  {
   "cell_type": "code",
   "execution_count": 12,
   "metadata": {},
   "outputs": [],
   "source": [
    "test_doc = db.twitch.find_one({'timestamp' : {\"$lt\" : \"2019-06-01\"}})"
   ]
  },
  {
   "cell_type": "markdown",
   "metadata": {},
   "source": [
    "Each document uploaded to the db has two fields, apart from the '_id', a timestamp and a data field "
   ]
  },
  {
   "cell_type": "code",
   "execution_count": 13,
   "metadata": {
    "scrolled": true
   },
   "outputs": [
    {
     "data": {
      "text/plain": [
       "dict_keys(['_id', 'timestamp', 'data'])"
      ]
     },
     "execution_count": 13,
     "metadata": {},
     "output_type": "execute_result"
    }
   ],
   "source": [
    "test_doc.keys()"
   ]
  },
  {
   "cell_type": "markdown",
   "metadata": {},
   "source": [
    "The timestamp is the time of collection:"
   ]
  },
  {
   "cell_type": "code",
   "execution_count": 14,
   "metadata": {},
   "outputs": [
    {
     "data": {
      "text/plain": [
       "'2019-05-27 18:46:09.148466'"
      ]
     },
     "execution_count": 14,
     "metadata": {},
     "output_type": "execute_result"
    }
   ],
   "source": [
    "test_doc['timestamp']"
   ]
  },
  {
   "cell_type": "markdown",
   "metadata": {},
   "source": [
    "The data is an array of documents, each related to a game:"
   ]
  },
  {
   "cell_type": "code",
   "execution_count": 15,
   "metadata": {
    "scrolled": true
   },
   "outputs": [
    {
     "data": {
      "text/plain": [
       "[{'game': {'name': 'Fortnite',\n",
       "   'popularity': 171268,\n",
       "   '_id': 33214,\n",
       "   'giantbomb_id': 37030,\n",
       "   'box': {'large': 'https://static-cdn.jtvnw.net/ttv-boxart/Fortnite-272x380.jpg'},\n",
       "   'logo': {'large': 'https://static-cdn.jtvnw.net/ttv-logoart/Fortnite-240x144.jpg'},\n",
       "   'localized_name': 'Fortnite',\n",
       "   'norm_name': 'fortnite',\n",
       "   'unary_name': 'fortnite'},\n",
       "  'viewers': 181860,\n",
       "  'channels': 14657},\n",
       " {'game': {'name': 'Grand Theft Auto V',\n",
       "   'popularity': 121282,\n",
       "   '_id': 32982,\n",
       "   'giantbomb_id': 36765,\n",
       "   'box': {'large': 'https://static-cdn.jtvnw.net/ttv-boxart/Grand%20Theft%20Auto%20V-272x380.jpg'},\n",
       "   'logo': {'large': 'https://static-cdn.jtvnw.net/ttv-logoart/Grand%20Theft%20Auto%20V-240x144.jpg'},\n",
       "   'localized_name': 'Grand Theft Auto V',\n",
       "   'norm_name': 'grand theft auto v',\n",
       "   'unary_name': 'grand theft auto v'},\n",
       "  'viewers': 134132,\n",
       "  'channels': 1571},\n",
       " {'game': {'name': 'League of Legends',\n",
       "   'popularity': 128373,\n",
       "   '_id': 21779,\n",
       "   'giantbomb_id': 24024,\n",
       "   'box': {'large': 'https://static-cdn.jtvnw.net/ttv-boxart/League%20of%20Legends-272x380.jpg'},\n",
       "   'logo': {'large': 'https://static-cdn.jtvnw.net/ttv-logoart/League%20of%20Legends-240x144.jpg'},\n",
       "   'localized_name': 'League of Legends',\n",
       "   'norm_name': 'league of legends',\n",
       "   'unary_name': 'league of legends'},\n",
       "  'viewers': 134001,\n",
       "  'channels': 3766},\n",
       " {'game': {'name': 'World of Warcraft',\n",
       "   'popularity': 101336,\n",
       "   '_id': 18122,\n",
       "   'giantbomb_id': 19783,\n",
       "   'box': {'large': 'https://static-cdn.jtvnw.net/ttv-boxart/World%20of%20Warcraft-272x380.jpg'},\n",
       "   'logo': {'large': 'https://static-cdn.jtvnw.net/ttv-logoart/World%20of%20Warcraft-240x144.jpg'},\n",
       "   'localized_name': 'World of Warcraft',\n",
       "   'norm_name': 'world of warcraft',\n",
       "   'unary_name': 'world of warcraft'},\n",
       "  'viewers': 105755,\n",
       "  'channels': 1889},\n",
       " {'game': {'name': 'Just Chatting',\n",
       "   'popularity': 102985,\n",
       "   '_id': 509658,\n",
       "   'giantbomb_id': 0,\n",
       "   'box': {'large': 'https://static-cdn.jtvnw.net/ttv-boxart/Just%20Chatting-272x380.jpg'},\n",
       "   'logo': {'large': 'https://static-cdn.jtvnw.net/ttv-logoart/Just%20Chatting-240x144.jpg'},\n",
       "   'localized_name': 'Just Chatting',\n",
       "   'norm_name': 'just chatting',\n",
       "   'unary_name': 'just chatting'},\n",
       "  'viewers': 103444,\n",
       "  'channels': 1574}]"
      ]
     },
     "execution_count": 15,
     "metadata": {},
     "output_type": "execute_result"
    }
   ],
   "source": [
    "test_doc['data'][:5]"
   ]
  },
  {
   "cell_type": "markdown",
   "metadata": {},
   "source": [
    "Note that at some point the structure of the data was slighlty changed, so that the 'game' field in the data collected in June has been flattened for better readibility, and some fields have been added or deleted."
   ]
  },
  {
   "cell_type": "code",
   "execution_count": 16,
   "metadata": {},
   "outputs": [],
   "source": [
    "test_doc2 = db.twitch.find_one({'timestamp' : {\"$gt\" : \"2019-06-13\"}})"
   ]
  },
  {
   "cell_type": "code",
   "execution_count": 17,
   "metadata": {},
   "outputs": [
    {
     "data": {
      "text/plain": [
       "[{'channels': 1789,\n",
       "  'game__id': 21779,\n",
       "  'game_box_large': 'https://static-cdn.jtvnw.net/ttv-boxart/League%20of%20Legends-272x380.jpg',\n",
       "  'game_giantbomb_id': 24024,\n",
       "  'game_logo_large': 'https://static-cdn.jtvnw.net/ttv-logoart/League%20of%20Legends-240x144.jpg',\n",
       "  'game_name': 'League of Legends',\n",
       "  'game_norm_name': 'league of legends',\n",
       "  'game_popularity': 111662,\n",
       "  'viewers': 137213},\n",
       " {'channels': 834,\n",
       "  'game__id': 509658,\n",
       "  'game_box_large': 'https://static-cdn.jtvnw.net/ttv-boxart/Just%20Chatting-272x380.jpg',\n",
       "  'game_giantbomb_id': 0,\n",
       "  'game_logo_large': 'https://static-cdn.jtvnw.net/ttv-logoart/Just%20Chatting-240x144.jpg',\n",
       "  'game_name': 'Just Chatting',\n",
       "  'game_norm_name': 'just chatting',\n",
       "  'game_popularity': 61477,\n",
       "  'viewers': 66157},\n",
       " {'channels': 3472,\n",
       "  'game__id': 33214,\n",
       "  'game_box_large': 'https://static-cdn.jtvnw.net/ttv-boxart/Fortnite-272x380.jpg',\n",
       "  'game_giantbomb_id': 37030,\n",
       "  'game_logo_large': 'https://static-cdn.jtvnw.net/ttv-logoart/Fortnite-240x144.jpg',\n",
       "  'game_name': 'Fortnite',\n",
       "  'game_norm_name': 'fortnite',\n",
       "  'game_popularity': 63837,\n",
       "  'viewers': 62606}]"
      ]
     },
     "execution_count": 17,
     "metadata": {},
     "output_type": "execute_result"
    }
   ],
   "source": [
    "test_doc2['data'][:3]"
   ]
  },
  {
   "cell_type": "markdown",
   "metadata": {},
   "source": [
    "The following is the count of documents in all the collection: keep in mind that each document contains the data field, with is an array of more than 1000 documents, sometimes more than 2000."
   ]
  },
  {
   "cell_type": "code",
   "execution_count": 18,
   "metadata": {},
   "outputs": [
    {
     "data": {
      "text/plain": [
       "8204"
      ]
     },
     "execution_count": 18,
     "metadata": {},
     "output_type": "execute_result"
    }
   ],
   "source": [
    "db.twitch.estimated_document_count()"
   ]
  },
  {
   "cell_type": "code",
   "execution_count": 19,
   "metadata": {},
   "outputs": [
    {
     "data": {
      "text/plain": [
       "1281"
      ]
     },
     "execution_count": 19,
     "metadata": {},
     "output_type": "execute_result"
    }
   ],
   "source": [
    "len(test_doc2['data'])"
   ]
  },
  {
   "cell_type": "markdown",
   "metadata": {},
   "source": [
    "We create an index on the collection that should speed up some queries:"
   ]
  },
  {
   "cell_type": "code",
   "execution_count": 20,
   "metadata": {},
   "outputs": [
    {
     "data": {
      "text/plain": [
       "'timestamp_1'"
      ]
     },
     "execution_count": 20,
     "metadata": {},
     "output_type": "execute_result"
    }
   ],
   "source": [
    "db.twitch.create_index(\"timestamp\", background=True)"
   ]
  },
  {
   "cell_type": "markdown",
   "metadata": {},
   "source": [
    "### Inserting Twitter Data"
   ]
  },
  {
   "cell_type": "code",
   "execution_count": 21,
   "metadata": {},
   "outputs": [],
   "source": [
    "twitter_collection = load_json_dump(\"../dataset/twitter.json\")"
   ]
  },
  {
   "cell_type": "code",
   "execution_count": 22,
   "metadata": {},
   "outputs": [
    {
     "data": {
      "text/plain": [
       "<pymongo.results.InsertManyResult at 0x1e83925db08>"
      ]
     },
     "execution_count": 22,
     "metadata": {},
     "output_type": "execute_result"
    }
   ],
   "source": [
    "db.twitter.insert_many(twitter_collection)"
   ]
  },
  {
   "cell_type": "code",
   "execution_count": 23,
   "metadata": {},
   "outputs": [
    {
     "data": {
      "text/plain": [
       "{'_id': ObjectId('5d0fa455b2b670923ac1437d'),\n",
       " 'retweets': 0,\n",
       " 'text': \"@Didact343 I spent far too long considering this. Went with Cyberpunk as it's a totally new IP and Death Stranding… https://t.co/jN5UmcffS0\",\n",
       " 'user_followers': 450,\n",
       " 'language': 'en',\n",
       " 'query': 'death stranding',\n",
       " 'username': 'Biggus Bennus',\n",
       " 'likes': 1,\n",
       " 'date': datetime.datetime(2019, 6, 13, 23, 58, 57),\n",
       " 'user_location': 'Cardiff, Wales'}"
      ]
     },
     "execution_count": 23,
     "metadata": {},
     "output_type": "execute_result"
    }
   ],
   "source": [
    "db.twitter.find_one()"
   ]
  },
  {
   "cell_type": "code",
   "execution_count": 24,
   "metadata": {},
   "outputs": [
    {
     "data": {
      "text/plain": [
       "87412"
      ]
     },
     "execution_count": 24,
     "metadata": {},
     "output_type": "execute_result"
    }
   ],
   "source": [
    "db.twitter.estimated_document_count()"
   ]
  },
  {
   "cell_type": "markdown",
   "metadata": {},
   "source": [
    "### Inserting VGChartz Data"
   ]
  },
  {
   "cell_type": "code",
   "execution_count": 25,
   "metadata": {},
   "outputs": [
    {
     "data": {
      "text/html": [
       "<div>\n",
       "<style scoped>\n",
       "    .dataframe tbody tr th:only-of-type {\n",
       "        vertical-align: middle;\n",
       "    }\n",
       "\n",
       "    .dataframe tbody tr th {\n",
       "        vertical-align: top;\n",
       "    }\n",
       "\n",
       "    .dataframe thead th {\n",
       "        text-align: right;\n",
       "    }\n",
       "</style>\n",
       "<table border=\"1\" class=\"dataframe\">\n",
       "  <thead>\n",
       "    <tr style=\"text-align: right;\">\n",
       "      <th></th>\n",
       "      <th>Rank</th>\n",
       "      <th>Name</th>\n",
       "      <th>Platform</th>\n",
       "      <th>Year</th>\n",
       "      <th>href_Genre</th>\n",
       "      <th>Publisher</th>\n",
       "      <th>Developer</th>\n",
       "      <th>Critic_Score</th>\n",
       "      <th>User_Score</th>\n",
       "      <th>NA_Sales</th>\n",
       "      <th>PAL_Sales</th>\n",
       "      <th>JP_Sales</th>\n",
       "      <th>Other_Sales</th>\n",
       "      <th>Global_Sales</th>\n",
       "    </tr>\n",
       "  </thead>\n",
       "  <tbody>\n",
       "    <tr>\n",
       "      <th>0</th>\n",
       "      <td>1</td>\n",
       "      <td>Wii Sports</td>\n",
       "      <td>Wii</td>\n",
       "      <td>2006.0</td>\n",
       "      <td>http://www.vgchartz.com/game/2667/wii-sports/?...</td>\n",
       "      <td>Nintendo</td>\n",
       "      <td>Nintendo EAD</td>\n",
       "      <td>7.7</td>\n",
       "      <td>NaN</td>\n",
       "      <td>41.36</td>\n",
       "      <td>29.02</td>\n",
       "      <td>3.77</td>\n",
       "      <td>8.51</td>\n",
       "      <td>82.65</td>\n",
       "    </tr>\n",
       "    <tr>\n",
       "      <th>1</th>\n",
       "      <td>2</td>\n",
       "      <td>Super Mario Bros.</td>\n",
       "      <td>NES</td>\n",
       "      <td>1985.0</td>\n",
       "      <td>http://www.vgchartz.com/game/6455/super-mario-...</td>\n",
       "      <td>Nintendo</td>\n",
       "      <td>Nintendo EAD</td>\n",
       "      <td>10.0</td>\n",
       "      <td>8.2</td>\n",
       "      <td>29.08</td>\n",
       "      <td>3.58</td>\n",
       "      <td>6.81</td>\n",
       "      <td>0.77</td>\n",
       "      <td>40.24</td>\n",
       "    </tr>\n",
       "    <tr>\n",
       "      <th>2</th>\n",
       "      <td>3</td>\n",
       "      <td>Mario Kart Wii</td>\n",
       "      <td>Wii</td>\n",
       "      <td>2008.0</td>\n",
       "      <td>http://www.vgchartz.com/game/6968/mario-kart-w...</td>\n",
       "      <td>Nintendo</td>\n",
       "      <td>Nintendo EAD</td>\n",
       "      <td>8.2</td>\n",
       "      <td>9.1</td>\n",
       "      <td>15.91</td>\n",
       "      <td>12.92</td>\n",
       "      <td>3.80</td>\n",
       "      <td>3.35</td>\n",
       "      <td>35.98</td>\n",
       "    </tr>\n",
       "    <tr>\n",
       "      <th>3</th>\n",
       "      <td>4</td>\n",
       "      <td>PLAYERUNKNOWN'S BATTLEGROUNDS</td>\n",
       "      <td>PC</td>\n",
       "      <td>2017.0</td>\n",
       "      <td>http://www.vgchartz.com/game/215988/playerunkn...</td>\n",
       "      <td>PUBG Corporation</td>\n",
       "      <td>PUBG Corporation</td>\n",
       "      <td>NaN</td>\n",
       "      <td>NaN</td>\n",
       "      <td>NaN</td>\n",
       "      <td>NaN</td>\n",
       "      <td>NaN</td>\n",
       "      <td>NaN</td>\n",
       "      <td>NaN</td>\n",
       "    </tr>\n",
       "    <tr>\n",
       "      <th>4</th>\n",
       "      <td>5</td>\n",
       "      <td>Wii Sports Resort</td>\n",
       "      <td>Wii</td>\n",
       "      <td>2009.0</td>\n",
       "      <td>http://www.vgchartz.com/game/24656/wii-sports-...</td>\n",
       "      <td>Nintendo</td>\n",
       "      <td>Nintendo EAD</td>\n",
       "      <td>8.0</td>\n",
       "      <td>8.8</td>\n",
       "      <td>15.61</td>\n",
       "      <td>10.99</td>\n",
       "      <td>3.29</td>\n",
       "      <td>3.02</td>\n",
       "      <td>32.90</td>\n",
       "    </tr>\n",
       "  </tbody>\n",
       "</table>\n",
       "</div>"
      ],
      "text/plain": [
       "   Rank                           Name Platform    Year  \\\n",
       "0     1                     Wii Sports      Wii  2006.0   \n",
       "1     2              Super Mario Bros.      NES  1985.0   \n",
       "2     3                 Mario Kart Wii      Wii  2008.0   \n",
       "3     4  PLAYERUNKNOWN'S BATTLEGROUNDS       PC  2017.0   \n",
       "4     5              Wii Sports Resort      Wii  2009.0   \n",
       "\n",
       "                                          href_Genre           Publisher  \\\n",
       "0  http://www.vgchartz.com/game/2667/wii-sports/?...          Nintendo     \n",
       "1  http://www.vgchartz.com/game/6455/super-mario-...          Nintendo     \n",
       "2  http://www.vgchartz.com/game/6968/mario-kart-w...          Nintendo     \n",
       "3  http://www.vgchartz.com/game/215988/playerunkn...  PUBG Corporation     \n",
       "4  http://www.vgchartz.com/game/24656/wii-sports-...          Nintendo     \n",
       "\n",
       "            Developer  Critic_Score  User_Score  NA_Sales  PAL_Sales  \\\n",
       "0      Nintendo EAD             7.7         NaN     41.36      29.02   \n",
       "1      Nintendo EAD            10.0         8.2     29.08       3.58   \n",
       "2      Nintendo EAD             8.2         9.1     15.91      12.92   \n",
       "3  PUBG Corporation             NaN         NaN       NaN        NaN   \n",
       "4      Nintendo EAD             8.0         8.8     15.61      10.99   \n",
       "\n",
       "   JP_Sales  Other_Sales  Global_Sales  \n",
       "0      3.77         8.51         82.65  \n",
       "1      6.81         0.77         40.24  \n",
       "2      3.80         3.35         35.98  \n",
       "3       NaN          NaN           NaN  \n",
       "4      3.29         3.02         32.90  "
      ]
     },
     "execution_count": 25,
     "metadata": {},
     "output_type": "execute_result"
    }
   ],
   "source": [
    "vgsales = pd.read_csv(\"../dataset/vgsales.csv\")\n",
    "vgsales.head()"
   ]
  },
  {
   "cell_type": "code",
   "execution_count": 26,
   "metadata": {},
   "outputs": [
    {
     "data": {
      "text/html": [
       "<div>\n",
       "<style scoped>\n",
       "    .dataframe tbody tr th:only-of-type {\n",
       "        vertical-align: middle;\n",
       "    }\n",
       "\n",
       "    .dataframe tbody tr th {\n",
       "        vertical-align: top;\n",
       "    }\n",
       "\n",
       "    .dataframe thead th {\n",
       "        text-align: right;\n",
       "    }\n",
       "</style>\n",
       "<table border=\"1\" class=\"dataframe\">\n",
       "  <thead>\n",
       "    <tr style=\"text-align: right;\">\n",
       "      <th></th>\n",
       "      <th>Rank</th>\n",
       "      <th>Name</th>\n",
       "      <th>Platform</th>\n",
       "      <th>Year</th>\n",
       "      <th>href_Genre</th>\n",
       "      <th>Publisher</th>\n",
       "      <th>Developer</th>\n",
       "      <th>Critic_Score</th>\n",
       "      <th>User_Score</th>\n",
       "      <th>NA_Sales</th>\n",
       "      <th>PAL_Sales</th>\n",
       "      <th>JP_Sales</th>\n",
       "      <th>Other_Sales</th>\n",
       "      <th>Global_Sales</th>\n",
       "    </tr>\n",
       "  </thead>\n",
       "  <tbody>\n",
       "    <tr>\n",
       "      <th>0</th>\n",
       "      <td>1</td>\n",
       "      <td>Wii Sports</td>\n",
       "      <td>Wii</td>\n",
       "      <td>2006.0</td>\n",
       "      <td>http://www.vgchartz.com/game/2667/wii-sports/?...</td>\n",
       "      <td>Nintendo</td>\n",
       "      <td>Nintendo EAD</td>\n",
       "      <td>7.7</td>\n",
       "      <td>NaN</td>\n",
       "      <td>41.36</td>\n",
       "      <td>29.02</td>\n",
       "      <td>3.77</td>\n",
       "      <td>8.51</td>\n",
       "      <td>82.65</td>\n",
       "    </tr>\n",
       "    <tr>\n",
       "      <th>1</th>\n",
       "      <td>2</td>\n",
       "      <td>Super Mario Bros.</td>\n",
       "      <td>NES</td>\n",
       "      <td>1985.0</td>\n",
       "      <td>http://www.vgchartz.com/game/6455/super-mario-...</td>\n",
       "      <td>Nintendo</td>\n",
       "      <td>Nintendo EAD</td>\n",
       "      <td>10.0</td>\n",
       "      <td>8.2</td>\n",
       "      <td>29.08</td>\n",
       "      <td>3.58</td>\n",
       "      <td>6.81</td>\n",
       "      <td>0.77</td>\n",
       "      <td>40.24</td>\n",
       "    </tr>\n",
       "    <tr>\n",
       "      <th>2</th>\n",
       "      <td>3</td>\n",
       "      <td>Mario Kart Wii</td>\n",
       "      <td>Wii</td>\n",
       "      <td>2008.0</td>\n",
       "      <td>http://www.vgchartz.com/game/6968/mario-kart-w...</td>\n",
       "      <td>Nintendo</td>\n",
       "      <td>Nintendo EAD</td>\n",
       "      <td>8.2</td>\n",
       "      <td>9.1</td>\n",
       "      <td>15.91</td>\n",
       "      <td>12.92</td>\n",
       "      <td>3.80</td>\n",
       "      <td>3.35</td>\n",
       "      <td>35.98</td>\n",
       "    </tr>\n",
       "    <tr>\n",
       "      <th>4</th>\n",
       "      <td>5</td>\n",
       "      <td>Wii Sports Resort</td>\n",
       "      <td>Wii</td>\n",
       "      <td>2009.0</td>\n",
       "      <td>http://www.vgchartz.com/game/24656/wii-sports-...</td>\n",
       "      <td>Nintendo</td>\n",
       "      <td>Nintendo EAD</td>\n",
       "      <td>8.0</td>\n",
       "      <td>8.8</td>\n",
       "      <td>15.61</td>\n",
       "      <td>10.99</td>\n",
       "      <td>3.29</td>\n",
       "      <td>3.02</td>\n",
       "      <td>32.90</td>\n",
       "    </tr>\n",
       "    <tr>\n",
       "      <th>5</th>\n",
       "      <td>6</td>\n",
       "      <td>Pokémon Red / Green / Blue Version</td>\n",
       "      <td>GB</td>\n",
       "      <td>1998.0</td>\n",
       "      <td>http://www.vgchartz.com/game/4030/pokemon-red-...</td>\n",
       "      <td>Nintendo</td>\n",
       "      <td>Game Freak</td>\n",
       "      <td>9.4</td>\n",
       "      <td>NaN</td>\n",
       "      <td>11.27</td>\n",
       "      <td>8.89</td>\n",
       "      <td>10.22</td>\n",
       "      <td>1.00</td>\n",
       "      <td>31.37</td>\n",
       "    </tr>\n",
       "  </tbody>\n",
       "</table>\n",
       "</div>"
      ],
      "text/plain": [
       "   Rank                                Name Platform    Year  \\\n",
       "0     1                          Wii Sports      Wii  2006.0   \n",
       "1     2                   Super Mario Bros.      NES  1985.0   \n",
       "2     3                      Mario Kart Wii      Wii  2008.0   \n",
       "4     5                   Wii Sports Resort      Wii  2009.0   \n",
       "5     6  Pokémon Red / Green / Blue Version       GB  1998.0   \n",
       "\n",
       "                                          href_Genre   Publisher  \\\n",
       "0  http://www.vgchartz.com/game/2667/wii-sports/?...  Nintendo     \n",
       "1  http://www.vgchartz.com/game/6455/super-mario-...  Nintendo     \n",
       "2  http://www.vgchartz.com/game/6968/mario-kart-w...  Nintendo     \n",
       "4  http://www.vgchartz.com/game/24656/wii-sports-...  Nintendo     \n",
       "5  http://www.vgchartz.com/game/4030/pokemon-red-...  Nintendo     \n",
       "\n",
       "        Developer  Critic_Score  User_Score  NA_Sales  PAL_Sales  JP_Sales  \\\n",
       "0  Nintendo EAD             7.7         NaN     41.36      29.02      3.77   \n",
       "1  Nintendo EAD            10.0         8.2     29.08       3.58      6.81   \n",
       "2  Nintendo EAD             8.2         9.1     15.91      12.92      3.80   \n",
       "4  Nintendo EAD             8.0         8.8     15.61      10.99      3.29   \n",
       "5    Game Freak             9.4         NaN     11.27       8.89     10.22   \n",
       "\n",
       "   Other_Sales  Global_Sales  \n",
       "0         8.51         82.65  \n",
       "1         0.77         40.24  \n",
       "2         3.35         35.98  \n",
       "4         3.02         32.90  \n",
       "5         1.00         31.37  "
      ]
     },
     "execution_count": 26,
     "metadata": {},
     "output_type": "execute_result"
    }
   ],
   "source": [
    "vgsales_without_na = vgsales[np.isfinite(vgsales['Global_Sales'])]\n",
    "vgsales_without_na.head()"
   ]
  },
  {
   "cell_type": "code",
   "execution_count": 27,
   "metadata": {},
   "outputs": [],
   "source": [
    "df_dict = vgsales_without_na.to_dict('records')"
   ]
  },
  {
   "cell_type": "code",
   "execution_count": 28,
   "metadata": {},
   "outputs": [
    {
     "data": {
      "text/plain": [
       "<pymongo.results.InsertManyResult at 0x1e850df8c88>"
      ]
     },
     "execution_count": 28,
     "metadata": {},
     "output_type": "execute_result"
    }
   ],
   "source": [
    "db.vgchartz.insert_many(df_dict)"
   ]
  },
  {
   "cell_type": "code",
   "execution_count": 29,
   "metadata": {},
   "outputs": [
    {
     "data": {
      "text/plain": [
       "{'_id': ObjectId('5d206c00f0bd0629f4a0722c'),\n",
       " 'Rank': 1,\n",
       " 'Name': 'Wii Sports',\n",
       " 'Platform': 'Wii',\n",
       " 'Year': 2006.0,\n",
       " 'href_Genre': 'http://www.vgchartz.com/game/2667/wii-sports/?region=All',\n",
       " 'Publisher': 'Nintendo  ',\n",
       " 'Developer': 'Nintendo EAD  ',\n",
       " 'Critic_Score': 7.7,\n",
       " 'User_Score': nan,\n",
       " 'NA_Sales': 41.36,\n",
       " 'PAL_Sales': 29.02,\n",
       " 'JP_Sales': 3.77,\n",
       " 'Other_Sales': 8.51,\n",
       " 'Global_Sales': 82.65}"
      ]
     },
     "execution_count": 29,
     "metadata": {},
     "output_type": "execute_result"
    }
   ],
   "source": [
    "db.vgchartz.find_one()"
   ]
  },
  {
   "cell_type": "markdown",
   "metadata": {},
   "source": [
    "Now all the collections are loaded on the db:"
   ]
  },
  {
   "cell_type": "code",
   "execution_count": 30,
   "metadata": {},
   "outputs": [
    {
     "data": {
      "text/plain": [
       "['vgchartz', 'twitch', 'twitter']"
      ]
     },
     "execution_count": 30,
     "metadata": {},
     "output_type": "execute_result"
    }
   ],
   "source": [
    "db.list_collection_names()"
   ]
  },
  {
   "cell_type": "markdown",
   "metadata": {},
   "source": [
    "# Download data from VM collections"
   ]
  },
  {
   "cell_type": "markdown",
   "metadata": {},
   "source": [
    "The follwing code was run to download a copy of the data from the database on the VM. It should not be run without access to the VM."
   ]
  },
  {
   "cell_type": "markdown",
   "metadata": {},
   "source": [
    "### SSH Tunnel"
   ]
  },
  {
   "cell_type": "code",
   "execution_count": null,
   "metadata": {},
   "outputs": [],
   "source": [
    "with open('../keys.json') as k:\n",
    "    keys = json.loads(k.read())\n",
    "    MONGO_HOST = keys[\"SSH\"][\"MONGO_HOST\"] # i.e. 10.9.13.14\n",
    "    MONGO_DB = keys[\"SSH\"][\"MONGO_DB\"] # i.e. dm_project \n",
    "    MONGO_USER = keys[\"SSH\"][\"MONGO_USER\"] # i.e. studente\n",
    "    MONGO_PASS = keys[\"SSH\"][\"MONGO_PASS\"] # i.e. la password della vm\n",
    "\n",
    "server = SSHTunnelForwarder(\n",
    "    MONGO_HOST,\n",
    "    ssh_username=MONGO_USER,\n",
    "    ssh_password=MONGO_PASS,\n",
    "    remote_bind_address=('127.0.0.1', 27017)\n",
    ")"
   ]
  },
  {
   "cell_type": "code",
   "execution_count": null,
   "metadata": {},
   "outputs": [],
   "source": [
    "server.start() # remember to stop"
   ]
  },
  {
   "cell_type": "code",
   "execution_count": null,
   "metadata": {},
   "outputs": [],
   "source": [
    "client = pymongo.MongoClient('127.0.0.1', server.local_bind_port) # server.local_bind_port is assigned local port\n",
    "db = client[MONGO_DB]\n",
    "db.list_collection_names()"
   ]
  },
  {
   "cell_type": "markdown",
   "metadata": {},
   "source": [
    "The import of the dumps function is useful for converting ObjectID and datetime structures in JSON-Compatible ones"
   ]
  },
  {
   "cell_type": "code",
   "execution_count": null,
   "metadata": {},
   "outputs": [],
   "source": [
    "from bson.json_util import dumps"
   ]
  },
  {
   "cell_type": "markdown",
   "metadata": {},
   "source": [
    "### Export twitch data"
   ]
  },
  {
   "cell_type": "markdown",
   "metadata": {},
   "source": [
    "The Twitch collection is by far the biggest one on our project. For this reason we will work on smaller subsets, so that it will be possible to download the collection files without incurring in Memory Errors."
   ]
  },
  {
   "cell_type": "code",
   "execution_count": null,
   "metadata": {},
   "outputs": [],
   "source": [
    "pipeline = [{ \"$match\" : {'timestamp' : {'$lt' : '2019-06-15'}}}]\n",
    "twitch_cursor = db.twitch.aggregate(pipeline)\n"
   ]
  },
  {
   "cell_type": "code",
   "execution_count": null,
   "metadata": {},
   "outputs": [],
   "source": [
    "twitch_dump_before_06_15 = dumps(twitch_cursor)"
   ]
  },
  {
   "cell_type": "code",
   "execution_count": null,
   "metadata": {},
   "outputs": [],
   "source": [
    "with open(\"twitch_before_06_15.json\", \"w\") as f:\n",
    "        f.write(twitch_dump_before_06_15)"
   ]
  },
  {
   "cell_type": "code",
   "execution_count": null,
   "metadata": {},
   "outputs": [],
   "source": [
    "pipeline_15_20 = [{ \"$match\" : {'$and' : [\n",
    "                {'timestamp' : {'$gte' : '2019-06-15'}},\n",
    "                {'timestamp' : {'$lt' : '2019-06-20'}}\n",
    "            ]}}]\n",
    "twitch_cursor_15_20 = db.twitch.aggregate(pipeline_15_20)\n",
    "twitch_dump_15_20 = dumps(twitch_cursor_15_20)\n",
    "with open(\"twitch_06_15_20.json\", \"w\") as f:\n",
    "        f.write(twitch_dump_15_20)"
   ]
  },
  {
   "cell_type": "code",
   "execution_count": null,
   "metadata": {},
   "outputs": [],
   "source": [
    "pipeline_20_24 = [{ \"$match\" : {'$and' : [\n",
    "                {'timestamp' : {'$gte' : '2019-06-20'}},\n",
    "                {'timestamp' : {'$lt' : '2019-06-24'}}\n",
    "            ]}}]\n",
    "twitch_cursor_20_24 = db.twitch.aggregate(pipeline_20_24)\n",
    "twitch_dump_20_24 = dumps(twitch_cursor_20_24)\n",
    "with open(\"twitch_06_20_24.json\", \"w\") as f:\n",
    "        f.write(twitch_dump_20_24)"
   ]
  },
  {
   "cell_type": "code",
   "execution_count": null,
   "metadata": {},
   "outputs": [],
   "source": [
    "del twitch_dump_20_24"
   ]
  },
  {
   "cell_type": "code",
   "execution_count": null,
   "metadata": {},
   "outputs": [],
   "source": [
    "pipeline_24_28 = [{ \"$match\" : {'$and' : [\n",
    "                {'timestamp' : {'$gte' : '2019-06-24'}},\n",
    "                {'timestamp' : {'$lt' : '2019-06-28'}}\n",
    "            ]}}]\n",
    "twitch_cursor_24_28 = db.twitch.aggregate(pipeline_24_28)\n",
    "twitch_dump_24_28 = dumps(twitch_cursor_24_28)\n",
    "with open(\"twitch_06_24_28.json\", \"w\") as f:\n",
    "        f.write(twitch_dump_24_28)"
   ]
  },
  {
   "cell_type": "code",
   "execution_count": null,
   "metadata": {},
   "outputs": [],
   "source": [
    "del twitch_dump_24_28"
   ]
  },
  {
   "cell_type": "markdown",
   "metadata": {},
   "source": [
    "### Export twitter collection"
   ]
  },
  {
   "cell_type": "code",
   "execution_count": null,
   "metadata": {},
   "outputs": [],
   "source": [
    "db.twitter.find_one()"
   ]
  },
  {
   "cell_type": "code",
   "execution_count": null,
   "metadata": {},
   "outputs": [],
   "source": [
    "from datetime import datetime\n",
    "end = datetime(2019, 6, 28, 0, 0, 0)"
   ]
  },
  {
   "cell_type": "code",
   "execution_count": null,
   "metadata": {},
   "outputs": [],
   "source": [
    "pipeline = [{ \"$match\" : {'date' : {'$lt' : end}}}]\n",
    "twitter = db.twitter.aggregate(pipeline)\n",
    "twitter_dump = dumps(twitter)\n",
    "with open(\"twitter.json\", \"w\") as f:\n",
    "        f.write(twitter_dump)"
   ]
  },
  {
   "cell_type": "markdown",
   "metadata": {},
   "source": [
    "**Rember to close the connection!**"
   ]
  },
  {
   "cell_type": "code",
   "execution_count": null,
   "metadata": {},
   "outputs": [],
   "source": [
    "server.stop()"
   ]
  }
 ],
 "metadata": {
  "kernelspec": {
   "display_name": "Python 3",
   "language": "python",
   "name": "python3"
  },
  "language_info": {
   "codemirror_mode": {
    "name": "ipython",
    "version": 3
   },
   "file_extension": ".py",
   "mimetype": "text/x-python",
   "name": "python",
   "nbconvert_exporter": "python",
   "pygments_lexer": "ipython3",
   "version": "3.6.8"
  }
 },
 "nbformat": 4,
 "nbformat_minor": 2
}
