{
 "cells": [
  {
   "cell_type": "code",
   "execution_count": 1,
   "metadata": {},
   "outputs": [],
   "source": [
    "from bson.son import SON\n",
    "import json\n",
    "from pymongo import MongoClient\n",
    "from bson.objectid import ObjectId\n",
    "import pandas as pd\n",
    "from pandas.io.json import json_normalize\n",
    "from datetime import datetime\n",
    "import numpy as np\n",
    "import matplotlib.pyplot as plt\n",
    "import matplotlib.cbook as cbook\n",
    "import matplotlib.dates as mdates\n",
    "from matplotlib import rcParams\n",
    "import seaborn as sns\n",
    "from datetime import datetime"
   ]
  },
  {
   "cell_type": "markdown",
   "metadata": {},
   "source": [
    "## Connect to remote mongodb"
   ]
  },
  {
   "cell_type": "code",
   "execution_count": 2,
   "metadata": {},
   "outputs": [],
   "source": [
    "from sshtunnel import SSHTunnelForwarder\n",
    "import pymongo"
   ]
  },
  {
   "cell_type": "code",
   "execution_count": 3,
   "metadata": {},
   "outputs": [],
   "source": [
    "with open('../keys.json') as k:\n",
    "    keys = json.loads(k.read())\n",
    "    MONGO_HOST = keys[\"SSH\"][\"MONGO_HOST\"] # i.e. 10.9.13.14\n",
    "    MONGO_DB = keys[\"SSH\"][\"MONGO_DB\"] # i.e. dm_project \n",
    "    MONGO_USER = keys[\"SSH\"][\"MONGO_USER\"] # i.e. studente\n",
    "    MONGO_PASS = keys[\"SSH\"][\"MONGO_PASS\"] # i.e. la password della vm"
   ]
  },
  {
   "cell_type": "code",
   "execution_count": 4,
   "metadata": {},
   "outputs": [],
   "source": [
    "server = SSHTunnelForwarder(\n",
    "    MONGO_HOST,\n",
    "    ssh_username=MONGO_USER,\n",
    "    ssh_password=MONGO_PASS,\n",
    "    remote_bind_address=('127.0.0.1', 27017)\n",
    ")"
   ]
  },
  {
   "cell_type": "code",
   "execution_count": 5,
   "metadata": {},
   "outputs": [],
   "source": [
    "server.start() # remember to stop"
   ]
  },
  {
   "cell_type": "code",
   "execution_count": 6,
   "metadata": {},
   "outputs": [],
   "source": [
    "client = pymongo.MongoClient('127.0.0.1', server.local_bind_port) # server.local_bind_port is assigned local port"
   ]
  },
  {
   "cell_type": "code",
   "execution_count": 7,
   "metadata": {},
   "outputs": [],
   "source": [
    "db = client[MONGO_DB]"
   ]
  },
  {
   "cell_type": "code",
   "execution_count": 8,
   "metadata": {},
   "outputs": [
    {
     "data": {
      "text/plain": [
       "['system.indexes', 'twitch', 'twitter']"
      ]
     },
     "execution_count": 8,
     "metadata": {},
     "output_type": "execute_result"
    }
   ],
   "source": [
    "db.list_collection_names()"
   ]
  },
  {
   "cell_type": "markdown",
   "metadata": {},
   "source": [
    "# Integration of previous locally dowloaded data. \n",
    "### Script on VM started on 23/06/2019"
   ]
  },
  {
   "cell_type": "code",
   "execution_count": 9,
   "metadata": {},
   "outputs": [],
   "source": [
    "# with open('20190613_0932_data.json', \"r\", encoding = 'utf8') as json_file:\n",
    "#     inserted_ids = []\n",
    "#     for line in json_file:\n",
    "#         data = json.loads(line)\n",
    "#         post_id = db.twitch.insert_one(data).inserted_id\n",
    "#         inserted_ids.append(post_id)"
   ]
  },
  {
   "cell_type": "markdown",
   "metadata": {},
   "source": [
    "# Count of documents in each collection"
   ]
  },
  {
   "cell_type": "markdown",
   "metadata": {},
   "source": [
    "## Twitch"
   ]
  },
  {
   "cell_type": "code",
   "execution_count": 10,
   "metadata": {},
   "outputs": [
    {
     "data": {
      "text/plain": [
       "5857"
      ]
     },
     "execution_count": 10,
     "metadata": {},
     "output_type": "execute_result"
    }
   ],
   "source": [
    "db.twitch.count()"
   ]
  },
  {
   "cell_type": "markdown",
   "metadata": {},
   "source": [
    "## Twitter"
   ]
  },
  {
   "cell_type": "code",
   "execution_count": 11,
   "metadata": {},
   "outputs": [
    {
     "data": {
      "text/plain": [
       "68900"
      ]
     },
     "execution_count": 11,
     "metadata": {},
     "output_type": "execute_result"
    }
   ],
   "source": [
    "db.twitter.count()"
   ]
  },
  {
   "cell_type": "markdown",
   "metadata": {},
   "source": [
    "# Querying Twitch"
   ]
  },
  {
   "cell_type": "code",
   "execution_count": 12,
   "metadata": {},
   "outputs": [],
   "source": [
    "pipeline = [{\"$project\":\n",
    "             {'_id': 0,\n",
    "              'time':'$timestamp'} }]"
   ]
  },
  {
   "cell_type": "code",
   "execution_count": 13,
   "metadata": {},
   "outputs": [],
   "source": [
    "tsmps = list(db.twitch.aggregate(pipeline))"
   ]
  },
  {
   "cell_type": "code",
   "execution_count": 14,
   "metadata": {},
   "outputs": [
    {
     "data": {
      "text/plain": [
<<<<<<< HEAD
       "5857"
=======
       "5772"
>>>>>>> 6bc7684af033b7b9bc39105577b5d7005e3a882d
      ]
     },
     "execution_count": 14,
     "metadata": {},
     "output_type": "execute_result"
    }
   ],
   "source": [
    "len(tsmps)"
   ]
  },
  {
   "cell_type": "code",
   "execution_count": 15,
   "metadata": {},
   "outputs": [
    {
     "data": {
      "text/plain": [
       "(datetime.datetime(2019, 6, 13, 9, 32, 34, 348514),\n",
<<<<<<< HEAD
       " datetime.datetime(2019, 6, 25, 14, 31, 34, 77487))"
=======
       " datetime.datetime(2019, 6, 25, 10, 16, 34, 77397))"
>>>>>>> 6bc7684af033b7b9bc39105577b5d7005e3a882d
      ]
     },
     "execution_count": 15,
     "metadata": {},
     "output_type": "execute_result"
    }
   ],
   "source": [
    "start = tsmps[3]['time'] # this is the oldest timestamp\n",
    "end = tsmps[-1]['time'] # this is the most recent one\n",
    "start = datetime.strptime(start, \"%Y-%m-%d %H:%M:%S.%f\")\n",
    "end = datetime.strptime(end, \"%Y-%m-%d %H:%M:%S.%f\")\n",
    "\n",
    "start, end"
   ]
  },
  {
   "cell_type": "code",
   "execution_count": 16,
   "metadata": {},
   "outputs": [
    {
     "data": {
      "text/plain": [
<<<<<<< HEAD
       "5859.665160961112"
=======
       "5774.665160461111"
>>>>>>> 6bc7684af033b7b9bc39105577b5d7005e3a882d
      ]
     },
     "execution_count": 16,
     "metadata": {},
     "output_type": "execute_result"
    }
   ],
   "source": [
    "(end-start).total_seconds() / 180"
   ]
  },
  {
   "cell_type": "markdown",
   "metadata": {},
   "source": [
    "The following is the list of games we are interested in, so that we can restrict the queries on them if we want."
   ]
  },
  {
   "cell_type": "code",
   "execution_count": 17,
   "metadata": {},
   "outputs": [
    {
     "data": {
      "text/plain": [
       "'top_games = [\\'Apex Legends\\', \\'Auto Chess\\', \\'Bio Inc. Redemption\\', \\'Call of Duty: Advanced Warfare\\',\\n             \\'Call of Duty: Black Ops\\', \\'Call of Duty: Black Ops 4\\',\\n             \\'Call of Duty: Black Ops II\\', \\'Call of Duty: Black Ops III\\',\\n             \\'Call of Duty: Ghosts\\', \\'Call of Duty: Modern Warfare 3\\',\\n             \\'Clam Man\\', \\'Counter-Strike: Global Offensive\\',\\n             \\'Dead by Daylight\\', \\'Death Stranding\\', \\'Dota 2\\', \\'Duck Hunt\\', \\'FIFA 19\\', \\'Fortnite\\',\\n             \\'Grand Theft Auto IV\\', \\'Grand Theft Auto V\\', \\'Grand Theft Auto: San Andreas\\', \\'Hearthstone\\',\\n             \\'Just Chatting\\', \\'Layers of Fear 2\\', \\'League of Legends\\', \\'Magic: The Gathering\\',\\n             \\'Mario Kart DS\\', \\'Mario Kart Wii\\', \\'Minecraft\\', \\'Modern Warfare 2\\',\\n             \\'Music & Performing Arts\\', \\'New Super Mario Bros.\\',\\n             \\'New Super Mario Bros. Wii\\', \\'Overwatch\\',\\n             \"PLAYERUNKNOWN\\'S BATTLEGROUNDS\", \\'Pokémon Gold/Silver\\',\\n             \\'Pokémon Red/Blue\\', \\'Slots\\', \\'Splitgate: Arena Warfare\\', \\'Super Mario Bros.\\',\\n             \\'Super Mario World\\', \\'Talk Shows & Podcasts\\', \\'Tetris\\', \\'The Elder Scrolls V: Skyrim\\',\\n             \"Tom Clancy\\'s Rainbow Six: Siege\", \\'Total War: Three Kingdoms\\',\\n             \\'Wii Play\\', \\'Wii Sports\\', \\'Wii Sports Resort\\', \\'World of Warcraft\\']'"
      ]
     },
     "execution_count": 17,
     "metadata": {},
     "output_type": "execute_result"
    }
   ],
   "source": [
    "\"\"\"top_games = ['Apex Legends', 'Auto Chess', 'Bio Inc. Redemption', 'Call of Duty: Advanced Warfare',\n",
    "             'Call of Duty: Black Ops', 'Call of Duty: Black Ops 4',\n",
    "             'Call of Duty: Black Ops II', 'Call of Duty: Black Ops III',\n",
    "             'Call of Duty: Ghosts', 'Call of Duty: Modern Warfare 3',\n",
    "             'Clam Man', 'Counter-Strike: Global Offensive',\n",
    "             'Dead by Daylight', 'Death Stranding', 'Dota 2', 'Duck Hunt', 'FIFA 19', 'Fortnite',\n",
    "             'Grand Theft Auto IV', 'Grand Theft Auto V', 'Grand Theft Auto: San Andreas', 'Hearthstone',\n",
    "             'Just Chatting', 'Layers of Fear 2', 'League of Legends', 'Magic: The Gathering',\n",
    "             'Mario Kart DS', 'Mario Kart Wii', 'Minecraft', 'Modern Warfare 2',\n",
    "             'Music & Performing Arts', 'New Super Mario Bros.',\n",
    "             'New Super Mario Bros. Wii', 'Overwatch',\n",
    "             \"PLAYERUNKNOWN'S BATTLEGROUNDS\", 'Pokémon Gold/Silver',\n",
    "             'Pokémon Red/Blue', 'Slots', 'Splitgate: Arena Warfare', 'Super Mario Bros.',\n",
    "             'Super Mario World', 'Talk Shows & Podcasts', 'Tetris', 'The Elder Scrolls V: Skyrim',\n",
    "             \"Tom Clancy's Rainbow Six: Siege\", 'Total War: Three Kingdoms',\n",
<<<<<<< HEAD
    "             'Wii Play', 'Wii Sports', 'Wii Sports Resort', 'World of Warcraft']\"\"\""
=======
    "             'Wii Play', 'Wii Sports', 'Wii Sports Resort', 'World of Warcraft']"
   ]
  },
  {
   "cell_type": "markdown",
   "metadata": {},
   "source": [
    "More games, in case one is interested in specific ones."
   ]
  },
  {
   "cell_type": "code",
   "execution_count": 16,
   "metadata": {},
   "outputs": [],
   "source": [
    "add_games = top_games + ['Monster Hunter World', 'Super Smash Bros. Melee',\n",
    "                         'Super Smash Bros. Ultimate', 'Sekiro: Shadows Die Twice',\n",
    "                         'Dark Souls', 'Dragon Ball FighterZ']"
   ]
  },
  {
   "cell_type": "code",
   "execution_count": 17,
   "metadata": {},
   "outputs": [],
   "source": [
    "#list(db.twitch.find({ 'data.game_name': 'Dragon Ball FighterZ' }, {'timestamp':1, 'data.$': 1}))[0]"
   ]
  },
  {
   "cell_type": "markdown",
   "metadata": {},
   "source": [
    "Average daily views for each game:"
   ]
  },
  {
   "cell_type": "code",
   "execution_count": 18,
   "metadata": {},
   "outputs": [],
   "source": [
    "pipeline = [{\"$unwind\": \"$data\"},\n",
    "            {\"$match\" : { \"data.game_name\" : { \"$in\" : \n",
    "                                              #top_games },  }},\n",
    "                                              add_games },  }},\n",
    "            { \"$group\": {\n",
    "                \"_id\": {\"name\": \"$data.game_name\",\n",
    "                        \"year\" :  { \"$substr\" : [\"$timestamp\", 0, 4 ] }, \n",
    "                        \"month\" : { \"$substr\" : [\"$timestamp\", 5, 2 ] },     \n",
    "                        \"day\" :   { \"$substr\" : [\"$timestamp\", 8, 2 ] } },\n",
    "                \"avgViewers\": { \"$avg\": '$data.viewers'}\n",
    "            }},\n",
    "            {\"$sort\": {\"_id\": 1} }]"
   ]
  },
  {
   "cell_type": "code",
   "execution_count": 19,
   "metadata": {},
   "outputs": [],
   "source": [
    "# this is pretty slow\n",
    "result = list(db.twitch.aggregate(pipeline))"
>>>>>>> 6bc7684af033b7b9bc39105577b5d7005e3a882d
   ]
  },
  {
   "cell_type": "markdown",
   "metadata": {},
   "source": [
    "Alternative (and I think more elegant) way to do it:"
   ]
  },
  {
   "cell_type": "code",
   "execution_count": 20,
   "metadata": {},
   "outputs": [
    {
     "data": {
      "text/plain": [
       "['Fortnite',\n",
       " 'Call of Duty: Black Ops II',\n",
       " 'Grand Theft Auto: San Andreas',\n",
       " 'Clam Man',\n",
       " 'Wii Play',\n",
       " 'Modern Warfare 2',\n",
       " 'Super Mario Bros.',\n",
       " 'Apex Legends',\n",
       " 'Duck Hunt',\n",
       " 'Dead by Daylight',\n",
       " 'Super Mario World',\n",
       " 'Call of Duty: Modern Warfare 3',\n",
       " 'Call of Duty: Ghosts',\n",
       " 'Grand Theft Auto V',\n",
       " 'Call of Duty: Black Ops',\n",
       " 'Death Stranding',\n",
       " 'Bio Inc. Redemption',\n",
       " 'Hearthstone',\n",
       " 'Slots',\n",
       " 'Just Chatting',\n",
       " 'Mario Kart Wii',\n",
       " 'Total War: Three Kingdoms',\n",
       " 'Mario Kart DS',\n",
       " 'League of Legends',\n",
       " 'Magic: The Gathering',\n",
       " 'Overwatch',\n",
       " 'FIFA 19',\n",
       " 'Wii Sports',\n",
       " 'Call of Duty: Black Ops 4',\n",
       " 'Pokémon Gold/Silver',\n",
       " 'World of Warcraft',\n",
       " \"Tom Clancy's Rainbow Six: Siege\",\n",
       " 'Counter-Strike: Global Offensive',\n",
       " 'The Elder Scrolls V: Skyrim',\n",
       " 'Minecraft',\n",
       " \"PLAYERUNKNOWN'S BATTLEGROUNDS\",\n",
       " 'Dota 2',\n",
       " 'Call of Duty: Black Ops III',\n",
       " 'Layers of Fear 2',\n",
       " 'Tetris',\n",
       " 'Call of Duty: Advanced Warfare',\n",
       " 'Splitgate: Arena Warfare',\n",
       " 'Wii Sports Resort',\n",
       " 'Talk Shows & Podcasts',\n",
       " 'Pokémon Red/Blue',\n",
       " 'New Super Mario Bros.',\n",
       " 'Auto Chess',\n",
       " 'Music & Performing Arts',\n",
       " 'Grand Theft Auto IV',\n",
       " 'New Super Mario Bros. Wii']"
      ]
     },
     "execution_count": 20,
     "metadata": {},
     "output_type": "execute_result"
    }
   ],
   "source": [
    "with open(\"../top_50_games_to_monitor_n.json\", \"r\") as f:\n",
    "    game_list = json.load(f)\n",
    "\n",
    "    top_games = game_list[\"selected_top_50_games\"][\"name\"]\n",
    "top_games"
   ]
  },
  {
   "cell_type": "markdown",
   "metadata": {},
   "source": [
    "Average daily views for each game:"
   ]
  },
  {
   "cell_type": "code",
   "execution_count": 21,
   "metadata": {},
<<<<<<< HEAD
=======
   "outputs": [
    {
     "data": {
      "text/html": [
       "<div>\n",
       "<style scoped>\n",
       "    .dataframe tbody tr th:only-of-type {\n",
       "        vertical-align: middle;\n",
       "    }\n",
       "\n",
       "    .dataframe tbody tr th {\n",
       "        vertical-align: top;\n",
       "    }\n",
       "\n",
       "    .dataframe thead th {\n",
       "        text-align: right;\n",
       "    }\n",
       "</style>\n",
       "<table border=\"1\" class=\"dataframe\">\n",
       "  <thead>\n",
       "    <tr style=\"text-align: right;\">\n",
       "      <th></th>\n",
       "      <th>name</th>\n",
       "      <th>day</th>\n",
       "      <th>month</th>\n",
       "      <th>year</th>\n",
       "      <th>avgViewers</th>\n",
       "    </tr>\n",
       "  </thead>\n",
       "  <tbody>\n",
       "    <tr>\n",
       "      <th>0</th>\n",
       "      <td>Apex Legends</td>\n",
       "      <td>13</td>\n",
       "      <td>06</td>\n",
       "      <td>2019</td>\n",
       "      <td>17491.647059</td>\n",
       "    </tr>\n",
       "    <tr>\n",
       "      <th>1</th>\n",
       "      <td>Apex Legends</td>\n",
       "      <td>14</td>\n",
       "      <td>06</td>\n",
       "      <td>2019</td>\n",
       "      <td>15606.502083</td>\n",
       "    </tr>\n",
       "    <tr>\n",
       "      <th>2</th>\n",
       "      <td>Apex Legends</td>\n",
       "      <td>15</td>\n",
       "      <td>06</td>\n",
       "      <td>2019</td>\n",
       "      <td>15781.329167</td>\n",
       "    </tr>\n",
       "    <tr>\n",
       "      <th>3</th>\n",
       "      <td>Apex Legends</td>\n",
       "      <td>16</td>\n",
       "      <td>06</td>\n",
       "      <td>2019</td>\n",
       "      <td>18600.824635</td>\n",
       "    </tr>\n",
       "    <tr>\n",
       "      <th>4</th>\n",
       "      <td>Apex Legends</td>\n",
       "      <td>17</td>\n",
       "      <td>06</td>\n",
       "      <td>2019</td>\n",
       "      <td>19137.743750</td>\n",
       "    </tr>\n",
       "  </tbody>\n",
       "</table>\n",
       "</div>"
      ],
      "text/plain": [
       "           name day month  year    avgViewers\n",
       "0  Apex Legends  13    06  2019  17491.647059\n",
       "1  Apex Legends  14    06  2019  15606.502083\n",
       "2  Apex Legends  15    06  2019  15781.329167\n",
       "3  Apex Legends  16    06  2019  18600.824635\n",
       "4  Apex Legends  17    06  2019  19137.743750"
      ]
     },
     "execution_count": 21,
     "metadata": {},
     "output_type": "execute_result"
    }
   ],
   "source": [
    "df = json_normalize(result)\n",
    "df = df.rename(index=str, columns={\"_id.name\": \"name\", \"_id.day\": \"day\",\"_id.month\": \"month\",\"_id.year\": \"year\"})\n",
    "df = df[['name', 'day', 'month', 'year', 'avgViewers']]\n",
    "\n",
    "df.head()"
   ]
  },
  {
   "cell_type": "markdown",
   "metadata": {},
   "source": [
    "We add the column 'daily_top', which is the game's position in the ordered list of daily most streamed games on average."
   ]
  },
  {
   "cell_type": "code",
   "execution_count": 22,
   "metadata": {},
>>>>>>> 6bc7684af033b7b9bc39105577b5d7005e3a882d
   "outputs": [],
   "source": [
    "pipeline = [{\"$unwind\": \"$data\"},\n",
    "            {\"$match\" : { \"data.game_name\" : { \"$in\" : top_games },  }},\n",
    "            { \"$group\": {\n",
    "                \"_id\": {\"name\": \"$data.game_name\",\n",
    "                        \"year\" :  { \"$substr\" : [\"$timestamp\", 0, 4 ] }, \n",
    "                        \"month\" : { \"$substr\" : [\"$timestamp\", 5, 2 ] },     \n",
    "                        \"day\" :   { \"$substr\" : [\"$timestamp\", 8, 2 ] } },\n",
    "                \"avgViewers\": { \"$avg\": '$data.viewers'}\n",
    "            }},\n",
    "            {\"$sort\": {\"_id\": 1} }]"
   ]
  },
  {
   "cell_type": "code",
<<<<<<< HEAD
   "execution_count": 21,
=======
   "execution_count": 23,
>>>>>>> 6bc7684af033b7b9bc39105577b5d7005e3a882d
   "metadata": {},
   "outputs": [
    {
     "data": {
<<<<<<< HEAD
      "text/plain": [
       "datetime.timedelta(0, 34, 30329)"
=======
      "text/html": [
       "<div>\n",
       "<style scoped>\n",
       "    .dataframe tbody tr th:only-of-type {\n",
       "        vertical-align: middle;\n",
       "    }\n",
       "\n",
       "    .dataframe tbody tr th {\n",
       "        vertical-align: top;\n",
       "    }\n",
       "\n",
       "    .dataframe thead th {\n",
       "        text-align: right;\n",
       "    }\n",
       "</style>\n",
       "<table border=\"1\" class=\"dataframe\">\n",
       "  <thead>\n",
       "    <tr style=\"text-align: right;\">\n",
       "      <th></th>\n",
       "      <th>name</th>\n",
       "      <th>day</th>\n",
       "      <th>month</th>\n",
       "      <th>year</th>\n",
       "      <th>avgViewers</th>\n",
       "      <th>daily_top</th>\n",
       "    </tr>\n",
       "  </thead>\n",
       "  <tbody>\n",
       "    <tr>\n",
       "      <th>299</th>\n",
       "      <td>League of Legends</td>\n",
       "      <td>13</td>\n",
       "      <td>06</td>\n",
       "      <td>2019</td>\n",
       "      <td>139492.283737</td>\n",
       "      <td>1</td>\n",
       "    </tr>\n",
       "    <tr>\n",
       "      <th>208</th>\n",
       "      <td>Fortnite</td>\n",
       "      <td>13</td>\n",
       "      <td>06</td>\n",
       "      <td>2019</td>\n",
       "      <td>117869.685121</td>\n",
       "      <td>2</td>\n",
       "    </tr>\n",
       "    <tr>\n",
       "      <th>234</th>\n",
       "      <td>Grand Theft Auto V</td>\n",
       "      <td>13</td>\n",
       "      <td>06</td>\n",
       "      <td>2019</td>\n",
       "      <td>97704.619377</td>\n",
       "      <td>3</td>\n",
       "    </tr>\n",
       "    <tr>\n",
       "      <th>273</th>\n",
       "      <td>Just Chatting</td>\n",
       "      <td>13</td>\n",
       "      <td>06</td>\n",
       "      <td>2019</td>\n",
       "      <td>97585.868512</td>\n",
       "      <td>4</td>\n",
       "    </tr>\n",
       "    <tr>\n",
       "      <th>167</th>\n",
       "      <td>Dota 2</td>\n",
       "      <td>13</td>\n",
       "      <td>06</td>\n",
       "      <td>2019</td>\n",
       "      <td>69030.173010</td>\n",
       "      <td>5</td>\n",
       "    </tr>\n",
       "  </tbody>\n",
       "</table>\n",
       "</div>"
      ],
      "text/plain": [
       "                   name day month  year     avgViewers  daily_top\n",
       "299   League of Legends  13    06  2019  139492.283737          1\n",
       "208            Fortnite  13    06  2019  117869.685121          2\n",
       "234  Grand Theft Auto V  13    06  2019   97704.619377          3\n",
       "273       Just Chatting  13    06  2019   97585.868512          4\n",
       "167              Dota 2  13    06  2019   69030.173010          5"
>>>>>>> 6bc7684af033b7b9bc39105577b5d7005e3a882d
      ]
     },
     "execution_count": 21,
     "metadata": {},
     "output_type": "execute_result"
    }
   ],
   "source": [
<<<<<<< HEAD
    "# this is pretty slow\n",
    "from datetime import datetime\n",
    "start = datetime.now()\n",
    "result = list(db.twitch.aggregate(pipeline))\n",
    "end = datetime.now()\n",
    "end-start"
   ]
  },
  {
   "cell_type": "markdown",
   "metadata": {},
   "source": [
    "The following are the games initially chosen as top games, but that have not been collected again on twitch."
   ]
  },
  {
   "cell_type": "code",
   "execution_count": null,
   "metadata": {},
   "outputs": [],
   "source": [
    "result_set = set([elem['_id']['name'] for elem in result])\n",
    "top_set = set(top_games)\n",
    "\n",
    "top_set - result_set"
   ]
  },
  {
   "cell_type": "code",
   "execution_count": null,
   "metadata": {},
   "outputs": [],
   "source": [
    "df = json_normalize(result)\n",
    "df = df.rename(index=str, columns={\"_id.name\": \"name\", \"_id.day\": \"day\",\"_id.month\": \"month\",\"_id.year\": \"year\"})\n",
    "df = df[['name', 'day', 'month', 'year', 'avgViewers']]\n",
    "\n",
    "df.head(20)"
   ]
  },
  {
   "cell_type": "code",
   "execution_count": null,
   "metadata": {},
   "outputs": [],
   "source": [
    "server.stop()"
   ]
  },
  {
   "cell_type": "code",
   "execution_count": null,
   "metadata": {
    "scrolled": true
   },
   "outputs": [],
   "source": [
    "df[df['name'] == 'Tetris']"
   ]
  },
  {
   "cell_type": "markdown",
   "metadata": {},
   "source": [
    "We add the column 'daily_top', which is the game's position in the ordered list of daily most streamed games on average."
   ]
  },
  {
   "cell_type": "code",
   "execution_count": null,
   "metadata": {},
   "outputs": [],
   "source": [
    "df['daily_top']=df.sort_values(['day', 'month', 'year', 'avgViewers'],\n",
    "                               ascending=[True, True, True, False]).groupby(['day', 'month', 'year']).cumcount()\n",
    "df['daily_top'] = df['daily_top'] + 1"
   ]
  },
  {
   "cell_type": "code",
   "execution_count": null,
   "metadata": {},
   "outputs": [],
   "source": [
    "df.sort_values(['day', 'month', 'year', 'avgViewers'], ascending=[True, True, True, False]).head(20)"
=======
    "df.sort_values(['day', 'month', 'year', 'avgViewers'], ascending=[True, True, True, False]).head()"
>>>>>>> 6bc7684af033b7b9bc39105577b5d7005e3a882d
   ]
  },
  {
   "cell_type": "code",
   "execution_count": 28,
   "metadata": {},
   "outputs": [],
   "source": [
    "def add_text(i):\n",
    "    i = str(i)\n",
    "    suff = 'th'\n",
    "    if i[-1] == '1':\n",
    "        suff = 'st'\n",
    "    if i[-1] == '2':\n",
    "        suff = 'nd'\n",
    "    if i[-1] == '3':\n",
    "        suff = 'rd'\n",
    "    suff = suff + ' most viewed'\n",
    "    return(i+suff)\n",
    "\n",
    "def plot_game_daily(gn):\n",
    "    gn_df = df[df.name == gn].sort_values('avgViewers', ascending = False)\n",
    "    gn_df['date'] = gn_df['day'] + '-' + gn_df['month'] + '-' + gn_df['year']\n",
    "    gn_df['date'] = gn_df['date'].apply(lambda x: datetime.strptime(x, '%d-%m-%Y'))\n",
    "    \n",
    "    sns.set_style(\"white\")\n",
    "    \n",
    "    plt.figure(figsize=(10, 6))\n",
    "    ax = sns.lineplot(x=\"date\", y=\"avgViewers\", data=gn_df#, marker=\"o\"\n",
    "                     )\n",
    "    \n",
    "    ax.set_title(\"Average daily views of {} on Twitch\".format(gn))\n",
    "    ax.set(xlabel='', ylabel='Average daily views')\n",
    "    \n",
    "    ax.xaxis.set_major_locator(mdates.DayLocator(interval=1))\n",
    "    plt.xticks(rotation=60)\n",
    "    \n",
    "    top = np.argmin(gn_df['daily_top'])\n",
    "    top2 = np.argmax(gn_df['avgViewers'])\n",
    "    \n",
    "    ax.text(gn_df.date[top], gn_df.avgViewers[top],\n",
    "        add_text(gn_df.daily_top[top]),\n",
    "        horizontalalignment='center', size='large', color='firebrick', fontsize = 13)\n",
    "    \n",
    "    if top2 != top:\n",
    "        ax.text(gn_df.date[top2], gn_df.avgViewers[top2],\n",
    "                add_text(gn_df.daily_top[top2]),\n",
    "                horizontalalignment='center', size='large', color='firebrick', fontsize = 13)\n",
    "    \n",
    "    plt.xticks(rotation=60)\n",
    "    \n",
    "    plt.show()"
   ]
  },
  {
   "cell_type": "code",
   "execution_count": 29,
   "metadata": {
    "scrolled": false
   },
   "outputs": [
    {
     "data": {
      "image/png": "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\n",
      "text/plain": [
       "<Figure size 720x432 with 1 Axes>"
      ]
     },
     "metadata": {},
     "output_type": "display_data"
    }
   ],
   "source": [
    "plot_game_daily('Minecraft')"
   ]
  },
  {
   "cell_type": "markdown",
   "metadata": {},
   "source": [
    "## Hourly"
   ]
  },
  {
   "cell_type": "markdown",
   "metadata": {},
   "source": [
    "We get better visualizations if we take hourly averages..."
   ]
  },
  {
   "cell_type": "markdown",
   "metadata": {},
   "source": [
    "Average hourly views for each game in the list:"
   ]
  },
  {
   "cell_type": "code",
   "execution_count": 30,
   "metadata": {},
   "outputs": [],
   "source": [
    "#pipelineh = [{\"$unwind\": \"$data\"},\n",
    "#            {\"$match\" : { \"data.game_name\" : { \"$in\" : #top_games },  }},\n",
    "#                                                       add_games },  }},\n",
    "#            { \"$group\": {\n",
    "#                \"_id\": {\"name\": \"$data.game_name\",\n",
    "#                        \"year\" :  { \"$substr\" : [\"$timestamp\", 0, 4 ] }, \n",
    "#                        \"month\" : { \"$substr\" : [\"$timestamp\", 5, 2 ] },     \n",
    "#                        \"day\" :   { \"$substr\" : [\"$timestamp\", 8, 2 ] },\n",
    "#                        \"hour\": { \"$substr\" : [\"$timestamp\", 11, 2 ] } },\n",
    "#                \"avgViewers\": { \"$avg\": '$data.viewers'}\n",
    "#            }},\n",
    "#            {\"$sort\": {\"_id\": 1} }]"
   ]
  },
  {
   "cell_type": "code",
   "execution_count": 31,
   "metadata": {},
   "outputs": [],
   "source": [
    "#result_hour = list(db.twitch.aggregate(pipelineh))"
   ]
  },
  {
   "cell_type": "markdown",
   "metadata": {},
   "source": [
    "Query for every game on twitch (much slower, requires disk usage), but data about hourly top is more accurate."
   ]
  },
  {
   "cell_type": "code",
<<<<<<< HEAD
   "execution_count": 53,
=======
   "execution_count": 32,
>>>>>>> 6bc7684af033b7b9bc39105577b5d7005e3a882d
   "metadata": {},
   "outputs": [],
   "source": [
    "pipelineh = [{\"$unwind\": \"$data\"},\n",
    "            { \"$group\": {\n",
    "                \"_id\": {\"name\": \"$data.game_name\",\n",
    "                        \"year\" :  { \"$substr\" : [\"$timestamp\", 0, 4 ] }, \n",
    "                        \"month\" : { \"$substr\" : [\"$timestamp\", 5, 2 ] },     \n",
    "                        \"day\" :   { \"$substr\" : [\"$timestamp\", 8, 2 ] },\n",
    "                        \"hour\": { \"$substr\" : [\"$timestamp\", 11, 2 ] } },\n",
    "                \"avgViewers\": { \"$avg\": '$data.viewers'}\n",
    "            }},\n",
    "            {\"$sort\": {\"_id\": 1} }]"
   ]
  },
  {
   "cell_type": "code",
<<<<<<< HEAD
   "execution_count": 54,
=======
   "execution_count": 33,
   "metadata": {},
   "outputs": [],
   "source": [
    "# this is very slow\n",
    "result_hour = list(db.twitch.aggregate(pipelineh, allowDiskUse = True))"
   ]
  },
  {
   "cell_type": "code",
   "execution_count": 34,
   "metadata": {},
   "outputs": [],
   "source": [
    "dfh = json_normalize(result_hour)\n",
    "dfh = dfh.rename(index=str, columns={\"_id.name\": \"name\", \"_id.hour\": \"hour\",\n",
    "                                   \"_id.day\": \"day\",\"_id.month\": \"month\",\"_id.year\": \"year\"})\n",
    "dfh = dfh[['name','day', 'month', 'year', 'hour', 'avgViewers']]"
   ]
  },
  {
   "cell_type": "code",
   "execution_count": 35,
>>>>>>> 6bc7684af033b7b9bc39105577b5d7005e3a882d
   "metadata": {},
   "outputs": [
    {
     "data": {
      "text/html": [
       "<div>\n",
       "<style scoped>\n",
       "    .dataframe tbody tr th:only-of-type {\n",
       "        vertical-align: middle;\n",
       "    }\n",
       "\n",
       "    .dataframe tbody tr th {\n",
       "        vertical-align: top;\n",
       "    }\n",
       "\n",
       "    .dataframe thead th {\n",
       "        text-align: right;\n",
       "    }\n",
       "</style>\n",
       "<table border=\"1\" class=\"dataframe\">\n",
       "  <thead>\n",
       "    <tr style=\"text-align: right;\">\n",
       "      <th></th>\n",
       "      <th>name</th>\n",
       "      <th>day</th>\n",
       "      <th>month</th>\n",
       "      <th>year</th>\n",
       "      <th>hour</th>\n",
       "      <th>avgViewers</th>\n",
       "    </tr>\n",
       "  </thead>\n",
       "  <tbody>\n",
       "    <tr>\n",
       "      <th>0</th>\n",
       "      <td>8 To Glory - The Official Game of the PBR</td>\n",
       "      <td>14</td>\n",
       "      <td>06</td>\n",
       "      <td>2019</td>\n",
       "      <td>18</td>\n",
       "      <td>1.000000</td>\n",
       "    </tr>\n",
       "    <tr>\n",
       "      <th>1</th>\n",
       "      <td>8 To Glory - The Official Game of the PBR</td>\n",
       "      <td>22</td>\n",
       "      <td>06</td>\n",
       "      <td>2019</td>\n",
       "      <td>05</td>\n",
       "      <td>5.000000</td>\n",
       "    </tr>\n",
       "    <tr>\n",
       "      <th>2</th>\n",
       "      <td>F1 2019</td>\n",
       "      <td>20</td>\n",
       "      <td>06</td>\n",
       "      <td>2019</td>\n",
       "      <td>17</td>\n",
       "      <td>10.000000</td>\n",
       "    </tr>\n",
       "    <tr>\n",
       "      <th>3</th>\n",
       "      <td>F1 2019</td>\n",
       "      <td>20</td>\n",
       "      <td>06</td>\n",
       "      <td>2019</td>\n",
       "      <td>18</td>\n",
       "      <td>24.842105</td>\n",
       "    </tr>\n",
       "    <tr>\n",
       "      <th>4</th>\n",
<<<<<<< HEAD
       "      <td>apex legends</td>\n",
       "      <td>17</td>\n",
       "      <td>6</td>\n",
       "      <td>2019</td>\n",
       "      <td>112</td>\n",
       "      <td>692</td>\n",
       "      <td>16</td>\n",
       "    </tr>\n",
       "    <tr>\n",
       "      <th>5</th>\n",
       "      <td>apex legends</td>\n",
       "      <td>18</td>\n",
       "      <td>6</td>\n",
       "      <td>2019</td>\n",
       "      <td>3517</td>\n",
       "      <td>15684</td>\n",
       "      <td>200</td>\n",
       "    </tr>\n",
       "    <tr>\n",
       "      <th>6</th>\n",
       "      <td>apex legends</td>\n",
       "      <td>19</td>\n",
       "      <td>6</td>\n",
       "      <td>2019</td>\n",
       "      <td>493</td>\n",
       "      <td>1366</td>\n",
       "      <td>79</td>\n",
       "    </tr>\n",
       "    <tr>\n",
       "      <th>7</th>\n",
       "      <td>apex legends</td>\n",
       "      <td>20</td>\n",
       "      <td>6</td>\n",
       "      <td>2019</td>\n",
       "      <td>615</td>\n",
       "      <td>3137</td>\n",
       "      <td>200</td>\n",
       "    </tr>\n",
       "    <tr>\n",
       "      <th>8</th>\n",
       "      <td>apex legends</td>\n",
       "      <td>21</td>\n",
       "      <td>6</td>\n",
       "      <td>2019</td>\n",
       "      <td>421</td>\n",
       "      <td>2873</td>\n",
       "      <td>200</td>\n",
       "    </tr>\n",
       "    <tr>\n",
       "      <th>9</th>\n",
       "      <td>apex legends</td>\n",
       "      <td>22</td>\n",
       "      <td>6</td>\n",
       "      <td>2019</td>\n",
       "      <td>228</td>\n",
       "      <td>1229</td>\n",
       "      <td>200</td>\n",
       "    </tr>\n",
       "    <tr>\n",
       "      <th>10</th>\n",
       "      <td>apex legends</td>\n",
       "      <td>23</td>\n",
       "      <td>6</td>\n",
       "      <td>2019</td>\n",
       "      <td>109</td>\n",
       "      <td>1204</td>\n",
       "      <td>200</td>\n",
       "    </tr>\n",
       "    <tr>\n",
       "      <th>11</th>\n",
       "      <td>apex legends</td>\n",
       "      <td>24</td>\n",
       "      <td>6</td>\n",
       "      <td>2019</td>\n",
       "      <td>324</td>\n",
       "      <td>1610</td>\n",
       "      <td>200</td>\n",
       "    </tr>\n",
       "    <tr>\n",
       "      <th>12</th>\n",
       "      <td>auto chess</td>\n",
       "      <td>13</td>\n",
       "      <td>6</td>\n",
       "      <td>2019</td>\n",
       "      <td>113</td>\n",
       "      <td>671</td>\n",
       "      <td>56</td>\n",
       "    </tr>\n",
       "    <tr>\n",
       "      <th>13</th>\n",
       "      <td>auto chess</td>\n",
       "      <td>14</td>\n",
       "      <td>6</td>\n",
       "      <td>2019</td>\n",
       "      <td>37</td>\n",
       "      <td>635</td>\n",
       "      <td>200</td>\n",
       "    </tr>\n",
       "    <tr>\n",
       "      <th>14</th>\n",
       "      <td>auto chess</td>\n",
       "      <td>15</td>\n",
       "      <td>6</td>\n",
       "      <td>2019</td>\n",
       "      <td>29</td>\n",
       "      <td>1320</td>\n",
       "      <td>200</td>\n",
       "    </tr>\n",
       "    <tr>\n",
       "      <th>15</th>\n",
       "      <td>auto chess</td>\n",
       "      <td>16</td>\n",
       "      <td>6</td>\n",
       "      <td>2019</td>\n",
       "      <td>49</td>\n",
       "      <td>630</td>\n",
       "      <td>200</td>\n",
       "    </tr>\n",
       "    <tr>\n",
       "      <th>16</th>\n",
       "      <td>auto chess</td>\n",
       "      <td>17</td>\n",
       "      <td>6</td>\n",
       "      <td>2019</td>\n",
       "      <td>187</td>\n",
       "      <td>2506</td>\n",
       "      <td>200</td>\n",
       "    </tr>\n",
       "    <tr>\n",
       "      <th>17</th>\n",
       "      <td>auto chess</td>\n",
       "      <td>18</td>\n",
       "      <td>6</td>\n",
       "      <td>2019</td>\n",
       "      <td>28</td>\n",
       "      <td>367</td>\n",
       "      <td>200</td>\n",
       "    </tr>\n",
       "    <tr>\n",
       "      <th>18</th>\n",
       "      <td>auto chess</td>\n",
       "      <td>19</td>\n",
       "      <td>6</td>\n",
       "      <td>2019</td>\n",
       "      <td>22</td>\n",
       "      <td>520</td>\n",
       "      <td>200</td>\n",
       "    </tr>\n",
       "    <tr>\n",
       "      <th>19</th>\n",
       "      <td>auto chess</td>\n",
       "      <td>20</td>\n",
       "      <td>6</td>\n",
       "      <td>2019</td>\n",
       "      <td>45</td>\n",
       "      <td>801</td>\n",
       "      <td>200</td>\n",
=======
       "      <td>F1 2019</td>\n",
       "      <td>20</td>\n",
       "      <td>06</td>\n",
       "      <td>2019</td>\n",
       "      <td>19</td>\n",
       "      <td>29.250000</td>\n",
       "    </tr>\n",
       "    <tr>\n",
       "      <th>5</th>\n",
       "      <td>F1 2019</td>\n",
       "      <td>21</td>\n",
       "      <td>06</td>\n",
       "      <td>2019</td>\n",
       "      <td>07</td>\n",
       "      <td>17.200000</td>\n",
       "    </tr>\n",
       "    <tr>\n",
       "      <th>6</th>\n",
       "      <td>F1 2019</td>\n",
       "      <td>21</td>\n",
       "      <td>06</td>\n",
       "      <td>2019</td>\n",
       "      <td>08</td>\n",
       "      <td>1198.350000</td>\n",
       "    </tr>\n",
       "    <tr>\n",
       "      <th>7</th>\n",
       "      <td>F1 2019</td>\n",
       "      <td>21</td>\n",
       "      <td>06</td>\n",
       "      <td>2019</td>\n",
       "      <td>09</td>\n",
       "      <td>1308.200000</td>\n",
       "    </tr>\n",
       "    <tr>\n",
       "      <th>8</th>\n",
       "      <td>F1 2019</td>\n",
       "      <td>21</td>\n",
       "      <td>06</td>\n",
       "      <td>2019</td>\n",
       "      <td>10</td>\n",
       "      <td>962.700000</td>\n",
       "    </tr>\n",
       "    <tr>\n",
       "      <th>9</th>\n",
       "      <td>F1 2019</td>\n",
       "      <td>21</td>\n",
       "      <td>06</td>\n",
       "      <td>2019</td>\n",
       "      <td>11</td>\n",
       "      <td>723.350000</td>\n",
>>>>>>> 6bc7684af033b7b9bc39105577b5d7005e3a882d
       "    </tr>\n",
       "  </tbody>\n",
       "</table>\n",
       "</div>"
      ],
      "text/plain": [
<<<<<<< HEAD
       "            name  day  month  year  tot_retweets  tot_likes  tweet_count\n",
       "0   apex legends   13      6  2019            54        349           96\n",
       "1   apex legends   14      6  2019           140       1022          200\n",
       "2   apex legends   15      6  2019           160       1154          200\n",
       "3   apex legends   16      6  2019           173       1491          169\n",
       "4   apex legends   17      6  2019           112        692           16\n",
       "5   apex legends   18      6  2019          3517      15684          200\n",
       "6   apex legends   19      6  2019           493       1366           79\n",
       "7   apex legends   20      6  2019           615       3137          200\n",
       "8   apex legends   21      6  2019           421       2873          200\n",
       "9   apex legends   22      6  2019           228       1229          200\n",
       "10  apex legends   23      6  2019           109       1204          200\n",
       "11  apex legends   24      6  2019           324       1610          200\n",
       "12    auto chess   13      6  2019           113        671           56\n",
       "13    auto chess   14      6  2019            37        635          200\n",
       "14    auto chess   15      6  2019            29       1320          200\n",
       "15    auto chess   16      6  2019            49        630          200\n",
       "16    auto chess   17      6  2019           187       2506          200\n",
       "17    auto chess   18      6  2019            28        367          200\n",
       "18    auto chess   19      6  2019            22        520          200\n",
       "19    auto chess   20      6  2019            45        801          200"
      ]
     },
     "execution_count": 54,
=======
       "                                         name day month  year hour  \\\n",
       "0   8 To Glory - The Official Game of the PBR  14    06  2019   18   \n",
       "1   8 To Glory - The Official Game of the PBR  22    06  2019   05   \n",
       "2                                     F1 2019  20    06  2019   17   \n",
       "3                                     F1 2019  20    06  2019   18   \n",
       "4                                     F1 2019  20    06  2019   19   \n",
       "5                                     F1 2019  21    06  2019   07   \n",
       "6                                     F1 2019  21    06  2019   08   \n",
       "7                                     F1 2019  21    06  2019   09   \n",
       "8                                     F1 2019  21    06  2019   10   \n",
       "9                                     F1 2019  21    06  2019   11   \n",
       "\n",
       "    avgViewers  \n",
       "0     1.000000  \n",
       "1     5.000000  \n",
       "2    10.000000  \n",
       "3    24.842105  \n",
       "4    29.250000  \n",
       "5    17.200000  \n",
       "6  1198.350000  \n",
       "7  1308.200000  \n",
       "8   962.700000  \n",
       "9   723.350000  "
      ]
     },
     "execution_count": 35,
>>>>>>> 6bc7684af033b7b9bc39105577b5d7005e3a882d
     "metadata": {},
     "output_type": "execute_result"
    }
   ],
   "source": [
    "dfh.head(10)"
   ]
  },
  {
   "cell_type": "code",
<<<<<<< HEAD
   "execution_count": 55,
   "metadata": {
    "scrolled": false
   },
=======
   "execution_count": 36,
   "metadata": {},
   "outputs": [],
   "source": [
    "dfh['hourly_top'] = dfh.sort_values(['day', 'month', 'year', 'hour', 'avgViewers'],\n",
    "                               ascending=[True, True, True, True, False]).groupby(['day', 'month', 'year', 'hour']).cumcount()\n",
    "dfh['hourly_top'] = dfh['hourly_top'] + 1"
   ]
  },
  {
   "cell_type": "code",
   "execution_count": 37,
   "metadata": {},
>>>>>>> 6bc7684af033b7b9bc39105577b5d7005e3a882d
   "outputs": [
    {
     "data": {
      "text/html": [
       "<div>\n",
       "<style scoped>\n",
       "    .dataframe tbody tr th:only-of-type {\n",
       "        vertical-align: middle;\n",
       "    }\n",
       "\n",
       "    .dataframe tbody tr th {\n",
       "        vertical-align: top;\n",
       "    }\n",
       "\n",
       "    .dataframe thead th {\n",
       "        text-align: right;\n",
       "    }\n",
       "</style>\n",
       "<table border=\"1\" class=\"dataframe\">\n",
       "  <thead>\n",
       "    <tr style=\"text-align: right;\">\n",
       "      <th></th>\n",
       "      <th>name</th>\n",
       "      <th>day</th>\n",
       "      <th>month</th>\n",
       "      <th>year</th>\n",
       "      <th>hour</th>\n",
       "      <th>avgViewers</th>\n",
       "      <th>hourly_top</th>\n",
       "    </tr>\n",
       "  </thead>\n",
       "  <tbody>\n",
       "    <tr>\n",
<<<<<<< HEAD
       "      <th>526</th>\n",
       "      <td>tetris</td>\n",
       "      <td>13</td>\n",
       "      <td>6</td>\n",
=======
       "      <th>0</th>\n",
       "      <td>8 To Glory - The Official Game of the PBR</td>\n",
       "      <td>14</td>\n",
       "      <td>06</td>\n",
>>>>>>> 6bc7684af033b7b9bc39105577b5d7005e3a882d
       "      <td>2019</td>\n",
       "      <td>18</td>\n",
       "      <td>1.000000</td>\n",
       "      <td>2206</td>\n",
       "    </tr>\n",
       "    <tr>\n",
<<<<<<< HEAD
       "      <th>527</th>\n",
       "      <td>tetris</td>\n",
       "      <td>14</td>\n",
       "      <td>6</td>\n",
=======
       "      <th>1</th>\n",
       "      <td>8 To Glory - The Official Game of the PBR</td>\n",
       "      <td>22</td>\n",
       "      <td>06</td>\n",
>>>>>>> 6bc7684af033b7b9bc39105577b5d7005e3a882d
       "      <td>2019</td>\n",
       "      <td>05</td>\n",
       "      <td>5.000000</td>\n",
       "      <td>1250</td>\n",
       "    </tr>\n",
       "    <tr>\n",
<<<<<<< HEAD
       "      <th>528</th>\n",
       "      <td>tetris</td>\n",
       "      <td>15</td>\n",
       "      <td>6</td>\n",
       "      <td>2019</td>\n",
       "      <td>60</td>\n",
       "      <td>597</td>\n",
       "      <td>200</td>\n",
       "    </tr>\n",
       "    <tr>\n",
       "      <th>529</th>\n",
       "      <td>tetris</td>\n",
       "      <td>16</td>\n",
       "      <td>6</td>\n",
       "      <td>2019</td>\n",
       "      <td>143</td>\n",
       "      <td>903</td>\n",
       "      <td>200</td>\n",
       "    </tr>\n",
       "    <tr>\n",
       "      <th>530</th>\n",
       "      <td>tetris</td>\n",
       "      <td>17</td>\n",
       "      <td>6</td>\n",
       "      <td>2019</td>\n",
       "      <td>175</td>\n",
       "      <td>830</td>\n",
       "      <td>200</td>\n",
       "    </tr>\n",
       "    <tr>\n",
       "      <th>531</th>\n",
       "      <td>tetris</td>\n",
       "      <td>18</td>\n",
       "      <td>6</td>\n",
       "      <td>2019</td>\n",
       "      <td>360</td>\n",
       "      <td>1830</td>\n",
       "      <td>110</td>\n",
       "    </tr>\n",
       "    <tr>\n",
       "      <th>532</th>\n",
       "      <td>tetris</td>\n",
       "      <td>19</td>\n",
       "      <td>6</td>\n",
       "      <td>2019</td>\n",
       "      <td>317</td>\n",
       "      <td>1547</td>\n",
       "      <td>200</td>\n",
       "    </tr>\n",
       "    <tr>\n",
       "      <th>533</th>\n",
       "      <td>tetris</td>\n",
       "      <td>20</td>\n",
       "      <td>6</td>\n",
       "      <td>2019</td>\n",
       "      <td>764</td>\n",
       "      <td>11352</td>\n",
       "      <td>200</td>\n",
       "    </tr>\n",
       "    <tr>\n",
       "      <th>534</th>\n",
       "      <td>tetris</td>\n",
       "      <td>21</td>\n",
       "      <td>6</td>\n",
       "      <td>2019</td>\n",
       "      <td>188</td>\n",
       "      <td>1452</td>\n",
       "      <td>200</td>\n",
       "    </tr>\n",
       "    <tr>\n",
       "      <th>535</th>\n",
       "      <td>tetris</td>\n",
       "      <td>22</td>\n",
       "      <td>6</td>\n",
       "      <td>2019</td>\n",
       "      <td>38</td>\n",
       "      <td>305</td>\n",
       "      <td>29</td>\n",
       "    </tr>\n",
       "    <tr>\n",
       "      <th>536</th>\n",
       "      <td>tetris</td>\n",
       "      <td>23</td>\n",
       "      <td>6</td>\n",
       "      <td>2019</td>\n",
       "      <td>125</td>\n",
       "      <td>791</td>\n",
       "      <td>200</td>\n",
       "    </tr>\n",
       "    <tr>\n",
       "      <th>537</th>\n",
       "      <td>tetris</td>\n",
       "      <td>24</td>\n",
       "      <td>6</td>\n",
       "      <td>2019</td>\n",
       "      <td>112</td>\n",
       "      <td>1456</td>\n",
       "      <td>200</td>\n",
=======
       "      <th>2</th>\n",
       "      <td>F1 2019</td>\n",
       "      <td>20</td>\n",
       "      <td>06</td>\n",
       "      <td>2019</td>\n",
       "      <td>17</td>\n",
       "      <td>10.000000</td>\n",
       "      <td>1034</td>\n",
       "    </tr>\n",
       "    <tr>\n",
       "      <th>3</th>\n",
       "      <td>F1 2019</td>\n",
       "      <td>20</td>\n",
       "      <td>06</td>\n",
       "      <td>2019</td>\n",
       "      <td>18</td>\n",
       "      <td>24.842105</td>\n",
       "      <td>726</td>\n",
       "    </tr>\n",
       "    <tr>\n",
       "      <th>4</th>\n",
       "      <td>F1 2019</td>\n",
       "      <td>20</td>\n",
       "      <td>06</td>\n",
       "      <td>2019</td>\n",
       "      <td>19</td>\n",
       "      <td>29.250000</td>\n",
       "      <td>727</td>\n",
>>>>>>> 6bc7684af033b7b9bc39105577b5d7005e3a882d
       "    </tr>\n",
       "  </tbody>\n",
       "</table>\n",
       "</div>"
      ],
      "text/plain": [
<<<<<<< HEAD
       "       name  day  month  year  tot_retweets  tot_likes  tweet_count\n",
       "526  tetris   13      6  2019            28        282          200\n",
       "527  tetris   14      6  2019           726       4310           76\n",
       "528  tetris   15      6  2019            60        597          200\n",
       "529  tetris   16      6  2019           143        903          200\n",
       "530  tetris   17      6  2019           175        830          200\n",
       "531  tetris   18      6  2019           360       1830          110\n",
       "532  tetris   19      6  2019           317       1547          200\n",
       "533  tetris   20      6  2019           764      11352          200\n",
       "534  tetris   21      6  2019           188       1452          200\n",
       "535  tetris   22      6  2019            38        305           29\n",
       "536  tetris   23      6  2019           125        791          200\n",
       "537  tetris   24      6  2019           112       1456          200"
      ]
     },
     "execution_count": 55,
=======
       "                                         name day month  year hour  \\\n",
       "0   8 To Glory - The Official Game of the PBR  14    06  2019   18   \n",
       "1   8 To Glory - The Official Game of the PBR  22    06  2019   05   \n",
       "2                                     F1 2019  20    06  2019   17   \n",
       "3                                     F1 2019  20    06  2019   18   \n",
       "4                                     F1 2019  20    06  2019   19   \n",
       "\n",
       "   avgViewers  hourly_top  \n",
       "0    1.000000        2206  \n",
       "1    5.000000        1250  \n",
       "2   10.000000        1034  \n",
       "3   24.842105         726  \n",
       "4   29.250000         727  "
      ]
     },
     "execution_count": 37,
>>>>>>> 6bc7684af033b7b9bc39105577b5d7005e3a882d
     "metadata": {},
     "output_type": "execute_result"
    }
   ],
   "source": [
    "dfh.head()"
   ]
  },
  {
   "cell_type": "code",
<<<<<<< HEAD
   "execution_count": null,
=======
   "execution_count": 38,
   "metadata": {},
   "outputs": [],
   "source": [
    "def add_text_twitch(i):\n",
    "    i = str(i)\n",
    "    suff = 'th'\n",
    "    if i[-1] == '1':\n",
    "        suff = 'st'\n",
    "    if i[-1] == '2':\n",
    "        suff = 'nd'\n",
    "    if i[-1] == '3':\n",
    "        suff = 'rd'\n",
    "    suff = suff + ' most viewed'\n",
    "    return(i+suff)\n",
    "\n",
    "def plot_twitch_hourly(gn, df):\n",
    "    gn_df = df[df.name == gn].sort_values('avgViewers', ascending = False)\n",
    "    gn_df['date'] = gn_df['day'] + '-' + gn_df['month'] + '-' + gn_df['year'] + ' ' + gn_df['hour']\n",
    "    gn_df['date'] =  pd.to_datetime(gn_df['date'], format='%d-%m-%Y %H')\n",
    "    \n",
    "    # fill missing values between times\n",
    "    gn_df.index = gn_df['date']\n",
    "    gn_df = gn_df.resample('H', how='mean')\n",
    "    gn_df['date'] = gn_df.index\n",
    "    gn_df.index = pd.RangeIndex(len(gn_df.index))\n",
    "    gn_df['avgViewers'] = gn_df['avgViewers'].fillna(0) # fill avgViewers NAs with 0\n",
    "    \n",
    "    # restore old index\n",
    "    gn_df.index = pd.RangeIndex(len(gn_df.index))\n",
    "    #gn_df['date'] = gn_df['date'].apply(lambda x: datetime.strptime(x, '%d-%m-%Y %H:%M:%S'))\n",
    "    \n",
    "    sns.set_style(\"white\")\n",
    "    # rcParams['font.family'] = 'garamond'\n",
    "    # rcParams['font.family'] = 'helvetica'\n",
    "    rcParams['font.family'] = 'serif'\n",
    "    \n",
    "    fig = plt.figure(figsize=(15, 10))\n",
    "     \n",
    "    ax = sns.lineplot(x=\"date\", y=\"avgViewers\", data=gn_df#, marker=\"o\"\n",
    "                     )\n",
    "    \n",
    "    ax.set_title(\"Average hourly views of {} on Twitch\".format(gn), fontsize=18)\n",
    "    \n",
    "    ax.set_ylabel('', fontsize=16)\n",
    "    ax.set_xlabel('', fontsize=20)\n",
    "    \n",
    "    \n",
    "    ax.xaxis.set_major_locator(mdates.DayLocator(interval=1))\n",
    "    \n",
    "    plt.xticks(rotation=45, fontsize = 13)\n",
    "    plt.yticks(fontsize = 13)\n",
    "    \n",
    "    top = np.argmin(gn_df['hourly_top'])\n",
    "    top2 = np.argmax(gn_df['avgViewers'])\n",
    "    \n",
    "    ax.text(gn_df.date[top], gn_df.avgViewers[top],\n",
    "        add_text_twitch(int(gn_df.hourly_top[top])),\n",
    "        horizontalalignment='center', size='large', color='firebrick', fontsize = 13)\n",
    "    \n",
    "    if int(top) not in range(int(top2)-10, int(top2)+10):\n",
    "        ax.text(gn_df.date[top2], gn_df.avgViewers[top2],\n",
    "                add_text_twitch(int(gn_df.hourly_top[top2])),\n",
    "                horizontalalignment='center', size='large', color='firebrick', fontsize = 13)\n",
    "    \n",
    "    plt.show()"
   ]
  },
  {
   "cell_type": "code",
   "execution_count": 39,
   "metadata": {
    "scrolled": false
   },
   "outputs": [
    {
     "data": {
      "image/png": "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\n",
      "text/plain": [
       "<Figure size 1080x720 with 1 Axes>"
      ]
     },
     "metadata": {},
     "output_type": "display_data"
    }
   ],
   "source": [
    "plot_twitch_hourly(\"Super Smash Bros. Melee\", dfh)"
   ]
  },
  {
   "cell_type": "markdown",
   "metadata": {},
   "source": [
    "# Twitter"
   ]
  },
  {
   "cell_type": "code",
   "execution_count": 40,
   "metadata": {},
   "outputs": [],
   "source": [
    "# games queried on twitter\n",
    "twit_top = [\"death stranding\", \"new super mario bros. wii\",\n",
    " \"pokémon red/blue\", \"mario kart ds\",\n",
    " \"grand theft auto iv\", \"dota ii\", \"new super mario bros.\",\n",
    " \"total war three kingdoms\", \"call of duty black ops iii\",\n",
    " \"wii play\", \"tetris\", \"wii sports\", \"super mario world\",\n",
    " \"bio inc. redemption\", \"duck hunt\", \"just chatting\", \"world of warcraft\",\n",
    " \"wii sports resort\", \"call of duty advanced warfare\", \"layers of fear ii\", \n",
    " \"league of legends\", \"talk shows & podcasts\", \"overwatch\", \"mario kart wii\",\n",
    " \"super mario bros.\", \"counter-strike global offensive\", \"clam man\",\n",
    " \"the elder scrolls v skyrim\", \"splitgate arena warfare\",\n",
    " \"tom clancy's rainbow six siege\", \"minecraft\", \"apex legends\",\n",
    " \"call of duty black ops\", \"call of duty black ops ii\", \"auto chess\",\n",
    " \"slots\", \"magic the gathering\", \"call of duty ghosts\",\n",
    " \"music & performing arts\", \"playerunknown's battlegrounds\", \"fortnite\", \"dead by daylight\",\n",
    " \"grand theft auto v\", \"modern warfare ii\", \"fifa xix\", \"grand theft auto san andreas\",\n",
    " \"hearthstone\", \"call of duty black ops iv\", \"call of duty modern warfare iii\", \"pokémon gold/silver\"]"
   ]
  },
  {
   "cell_type": "markdown",
   "metadata": {},
   "source": [
    "Daily total retweets and likes for each game:"
   ]
  },
  {
   "cell_type": "code",
   "execution_count": 41,
   "metadata": {},
   "outputs": [],
   "source": [
    "pipeline = [#{\"$match\" : { \"query\" : { \"$in\" : twit_top },  }}, # restrict to top games\n",
    "            { \"$group\": {\n",
    "                \"_id\": {\"name\": \"$query\",\n",
    "                        \"day\": { \"$dayOfMonth\": \"$date\" },\n",
    "                        \"month\": { \"$month\": \"$date\" },\n",
    "                        \"year\": { \"$year\": \"$date\" }},\n",
    "                \"tot_retweets\": { \"$sum\": \"$retweets\" },\n",
    "                \"tot_likes\": { \"$sum\" : \"$likes\"},\n",
    "                \"tweet_count\" : { \"$sum\": 1 }\n",
    "            }},\n",
    "            {\"$sort\": {\"_id\": 1} }]"
   ]
  },
  {
   "cell_type": "code",
   "execution_count": 42,
   "metadata": {
    "scrolled": true
   },
   "outputs": [],
   "source": [
    "# start the server first\n",
    "result2 = list(db.twitter.aggregate(pipeline))\n",
    "\n",
    "df2 = json_normalize(result2)\n",
    "df2 = df2.rename(index=str, columns={\"_id.name\": \"name\", \"_id.day\": \"day\",\"_id.month\": \"month\",\"_id.year\": \"year\"})\n",
    "df2 = df2[['name', 'day', 'month', 'year', 'tot_retweets', 'tot_likes', 'tweet_count']]\n",
    "#df2.head(20)"
   ]
  },
  {
   "cell_type": "code",
   "execution_count": 43,
>>>>>>> 6bc7684af033b7b9bc39105577b5d7005e3a882d
   "metadata": {},
   "outputs": [],
   "source": []
  },
  {
   "cell_type": "markdown",
   "metadata": {},
   "source": [
    "We add the column 'daily_top', which is the game's position in the ordered list of daily most liked tweets."
   ]
  },
  {
   "cell_type": "code",
<<<<<<< HEAD
   "execution_count": 56,
=======
   "execution_count": 44,
>>>>>>> 6bc7684af033b7b9bc39105577b5d7005e3a882d
   "metadata": {},
   "outputs": [],
   "source": [
    "df2['daily_top'] = df2.sort_values(['day', 'month', 'year', 'tot_likes'], \n",
    "                                   ascending=[True, True, True, False]\n",
    "                                  ).groupby(['day', 'month', 'year']).cumcount()\n",
    "df2['daily_top'] = df2['daily_top'] + 1"
   ]
  },
  {
   "cell_type": "code",
<<<<<<< HEAD
   "execution_count": 57,
   "metadata": {},
=======
   "execution_count": 45,
   "metadata": {
    "scrolled": true
   },
>>>>>>> 6bc7684af033b7b9bc39105577b5d7005e3a882d
   "outputs": [
    {
     "data": {
      "text/html": [
       "<div>\n",
       "<style scoped>\n",
       "    .dataframe tbody tr th:only-of-type {\n",
       "        vertical-align: middle;\n",
       "    }\n",
       "\n",
       "    .dataframe tbody tr th {\n",
       "        vertical-align: top;\n",
       "    }\n",
       "\n",
       "    .dataframe thead th {\n",
       "        text-align: right;\n",
       "    }\n",
       "</style>\n",
       "<table border=\"1\" class=\"dataframe\">\n",
       "  <thead>\n",
       "    <tr style=\"text-align: right;\">\n",
       "      <th></th>\n",
       "      <th>name</th>\n",
       "      <th>day</th>\n",
       "      <th>month</th>\n",
       "      <th>year</th>\n",
       "      <th>tot_retweets</th>\n",
       "      <th>tot_likes</th>\n",
       "      <th>tweet_count</th>\n",
       "      <th>daily_top</th>\n",
       "    </tr>\n",
       "  </thead>\n",
       "  <tbody>\n",
       "    <tr>\n",
<<<<<<< HEAD
       "      <th>186</th>\n",
=======
       "      <th>173</th>\n",
>>>>>>> 6bc7684af033b7b9bc39105577b5d7005e3a882d
       "      <td>fortnite</td>\n",
       "      <td>13</td>\n",
       "      <td>6</td>\n",
       "      <td>2019</td>\n",
       "      <td>419</td>\n",
       "      <td>7344</td>\n",
       "      <td>200</td>\n",
       "      <td>1</td>\n",
       "    </tr>\n",
       "    <tr>\n",
<<<<<<< HEAD
       "      <th>246</th>\n",
=======
       "      <th>233</th>\n",
>>>>>>> 6bc7684af033b7b9bc39105577b5d7005e3a882d
       "      <td>just chatting</td>\n",
       "      <td>13</td>\n",
       "      <td>6</td>\n",
       "      <td>2019</td>\n",
       "      <td>170</td>\n",
       "      <td>4403</td>\n",
       "      <td>179</td>\n",
       "      <td>2</td>\n",
       "    </tr>\n",
       "    <tr>\n",
<<<<<<< HEAD
       "      <th>310</th>\n",
=======
       "      <th>297</th>\n",
>>>>>>> 6bc7684af033b7b9bc39105577b5d7005e3a882d
       "      <td>minecraft</td>\n",
       "      <td>13</td>\n",
       "      <td>6</td>\n",
       "      <td>2019</td>\n",
       "      <td>290</td>\n",
       "      <td>2815</td>\n",
       "      <td>200</td>\n",
       "      <td>3</td>\n",
       "    </tr>\n",
       "    <tr>\n",
<<<<<<< HEAD
       "      <th>437</th>\n",
=======
       "      <th>411</th>\n",
>>>>>>> 6bc7684af033b7b9bc39105577b5d7005e3a882d
       "      <td>slots</td>\n",
       "      <td>13</td>\n",
       "      <td>6</td>\n",
       "      <td>2019</td>\n",
       "      <td>379</td>\n",
       "      <td>2018</td>\n",
       "      <td>200</td>\n",
       "      <td>4</td>\n",
       "    </tr>\n",
       "    <tr>\n",
<<<<<<< HEAD
       "      <th>379</th>\n",
=======
       "      <th>359</th>\n",
>>>>>>> 6bc7684af033b7b9bc39105577b5d7005e3a882d
       "      <td>overwatch</td>\n",
       "      <td>13</td>\n",
       "      <td>6</td>\n",
       "      <td>2019</td>\n",
       "      <td>144</td>\n",
       "      <td>696</td>\n",
       "      <td>200</td>\n",
       "      <td>5</td>\n",
       "    </tr>\n",
<<<<<<< HEAD
       "    <tr>\n",
       "      <th>12</th>\n",
       "      <td>auto chess</td>\n",
       "      <td>13</td>\n",
       "      <td>6</td>\n",
       "      <td>2019</td>\n",
       "      <td>113</td>\n",
       "      <td>671</td>\n",
       "      <td>56</td>\n",
       "      <td>6</td>\n",
       "    </tr>\n",
       "    <tr>\n",
       "      <th>234</th>\n",
       "      <td>hearthstone</td>\n",
       "      <td>13</td>\n",
       "      <td>6</td>\n",
       "      <td>2019</td>\n",
       "      <td>37</td>\n",
       "      <td>588</td>\n",
       "      <td>115</td>\n",
       "      <td>7</td>\n",
       "    </tr>\n",
       "    <tr>\n",
       "      <th>262</th>\n",
       "      <td>league of legends</td>\n",
       "      <td>13</td>\n",
       "      <td>6</td>\n",
       "      <td>2019</td>\n",
       "      <td>70</td>\n",
       "      <td>548</td>\n",
       "      <td>200</td>\n",
       "      <td>8</td>\n",
       "    </tr>\n",
       "    <tr>\n",
       "      <th>610</th>\n",
       "      <td>world of warcraft</td>\n",
       "      <td>13</td>\n",
       "      <td>6</td>\n",
       "      <td>2019</td>\n",
       "      <td>80</td>\n",
       "      <td>501</td>\n",
       "      <td>161</td>\n",
       "      <td>9</td>\n",
       "    </tr>\n",
       "    <tr>\n",
       "      <th>0</th>\n",
       "      <td>apex legends</td>\n",
       "      <td>13</td>\n",
       "      <td>6</td>\n",
       "      <td>2019</td>\n",
       "      <td>54</td>\n",
       "      <td>349</td>\n",
       "      <td>96</td>\n",
       "      <td>10</td>\n",
       "    </tr>\n",
       "    <tr>\n",
       "      <th>129</th>\n",
       "      <td>dead by daylight</td>\n",
       "      <td>13</td>\n",
       "      <td>6</td>\n",
       "      <td>2019</td>\n",
       "      <td>81</td>\n",
       "      <td>348</td>\n",
       "      <td>194</td>\n",
       "      <td>11</td>\n",
       "    </tr>\n",
       "    <tr>\n",
       "      <th>39</th>\n",
       "      <td>call of duty black ops</td>\n",
       "      <td>13</td>\n",
       "      <td>6</td>\n",
       "      <td>2019</td>\n",
       "      <td>59</td>\n",
       "      <td>334</td>\n",
       "      <td>200</td>\n",
       "      <td>12</td>\n",
       "    </tr>\n",
       "    <tr>\n",
       "      <th>274</th>\n",
       "      <td>magic the gathering</td>\n",
       "      <td>13</td>\n",
       "      <td>6</td>\n",
       "      <td>2019</td>\n",
       "      <td>30</td>\n",
       "      <td>288</td>\n",
       "      <td>52</td>\n",
       "      <td>13</td>\n",
       "    </tr>\n",
       "    <tr>\n",
       "      <th>526</th>\n",
       "      <td>tetris</td>\n",
       "      <td>13</td>\n",
       "      <td>6</td>\n",
       "      <td>2019</td>\n",
       "      <td>28</td>\n",
       "      <td>282</td>\n",
       "      <td>200</td>\n",
       "      <td>14</td>\n",
       "    </tr>\n",
       "    <tr>\n",
       "      <th>586</th>\n",
       "      <td>wii sports</td>\n",
       "      <td>13</td>\n",
       "      <td>6</td>\n",
       "      <td>2019</td>\n",
       "      <td>21</td>\n",
       "      <td>231</td>\n",
       "      <td>43</td>\n",
       "      <td>15</td>\n",
       "    </tr>\n",
       "    <tr>\n",
       "      <th>470</th>\n",
       "      <td>super mario bros.</td>\n",
       "      <td>13</td>\n",
       "      <td>6</td>\n",
       "      <td>2019</td>\n",
       "      <td>20</td>\n",
       "      <td>215</td>\n",
       "      <td>75</td>\n",
       "      <td>16</td>\n",
       "    </tr>\n",
       "    <tr>\n",
       "      <th>141</th>\n",
       "      <td>death stranding</td>\n",
       "      <td>13</td>\n",
       "      <td>6</td>\n",
       "      <td>2019</td>\n",
       "      <td>22</td>\n",
       "      <td>205</td>\n",
       "      <td>136</td>\n",
       "      <td>17</td>\n",
       "    </tr>\n",
       "    <tr>\n",
       "      <th>174</th>\n",
       "      <td>duck hunt</td>\n",
       "      <td>13</td>\n",
       "      <td>6</td>\n",
       "      <td>2019</td>\n",
       "      <td>5</td>\n",
       "      <td>146</td>\n",
       "      <td>79</td>\n",
       "      <td>18</td>\n",
       "    </tr>\n",
       "    <tr>\n",
       "      <th>574</th>\n",
       "      <td>wii play</td>\n",
       "      <td>13</td>\n",
       "      <td>6</td>\n",
       "      <td>2019</td>\n",
       "      <td>0</td>\n",
       "      <td>100</td>\n",
       "      <td>58</td>\n",
       "      <td>19</td>\n",
       "    </tr>\n",
       "    <tr>\n",
       "      <th>550</th>\n",
       "      <td>tom clancy's rainbow six siege</td>\n",
       "      <td>13</td>\n",
       "      <td>6</td>\n",
       "      <td>2019</td>\n",
       "      <td>12</td>\n",
       "      <td>45</td>\n",
       "      <td>79</td>\n",
       "      <td>20</td>\n",
       "    </tr>\n",
=======
>>>>>>> 6bc7684af033b7b9bc39105577b5d7005e3a882d
       "  </tbody>\n",
       "</table>\n",
       "</div>"
      ],
      "text/plain": [
<<<<<<< HEAD
       "                               name  day  month  year  tot_retweets  \\\n",
       "186                        fortnite   13      6  2019           419   \n",
       "246                   just chatting   13      6  2019           170   \n",
       "310                       minecraft   13      6  2019           290   \n",
       "437                           slots   13      6  2019           379   \n",
       "379                       overwatch   13      6  2019           144   \n",
       "12                       auto chess   13      6  2019           113   \n",
       "234                     hearthstone   13      6  2019            37   \n",
       "262               league of legends   13      6  2019            70   \n",
       "610               world of warcraft   13      6  2019            80   \n",
       "0                      apex legends   13      6  2019            54   \n",
       "129                dead by daylight   13      6  2019            81   \n",
       "39           call of duty black ops   13      6  2019            59   \n",
       "274             magic the gathering   13      6  2019            30   \n",
       "526                          tetris   13      6  2019            28   \n",
       "586                      wii sports   13      6  2019            21   \n",
       "470               super mario bros.   13      6  2019            20   \n",
       "141                 death stranding   13      6  2019            22   \n",
       "174                       duck hunt   13      6  2019             5   \n",
       "574                        wii play   13      6  2019             0   \n",
       "550  tom clancy's rainbow six siege   13      6  2019            12   \n",
       "\n",
       "     tot_likes  tweet_count  daily_top  \n",
       "186       7344          200          1  \n",
       "246       4403          179          2  \n",
       "310       2815          200          3  \n",
       "437       2018          200          4  \n",
       "379        696          200          5  \n",
       "12         671           56          6  \n",
       "234        588          115          7  \n",
       "262        548          200          8  \n",
       "610        501          161          9  \n",
       "0          349           96         10  \n",
       "129        348          194         11  \n",
       "39         334          200         12  \n",
       "274        288           52         13  \n",
       "526        282          200         14  \n",
       "586        231           43         15  \n",
       "470        215           75         16  \n",
       "141        205          136         17  \n",
       "174        146           79         18  \n",
       "574        100           58         19  \n",
       "550         45           79         20  "
      ]
     },
     "execution_count": 57,
=======
       "              name  day  month  year  tot_retweets  tot_likes  tweet_count  \\\n",
       "173       fortnite   13      6  2019           419       7344          200   \n",
       "233  just chatting   13      6  2019           170       4403          179   \n",
       "297      minecraft   13      6  2019           290       2815          200   \n",
       "411          slots   13      6  2019           379       2018          200   \n",
       "359      overwatch   13      6  2019           144        696          200   \n",
       "\n",
       "     daily_top  \n",
       "173          1  \n",
       "233          2  \n",
       "297          3  \n",
       "411          4  \n",
       "359          5  "
      ]
     },
     "execution_count": 45,
     "metadata": {},
     "output_type": "execute_result"
    }
   ],
   "source": [
    "df2.sort_values(['day', 'month', 'year', 'tot_likes'], ascending=[True, True, True, False]).head()"
   ]
  },
  {
   "cell_type": "code",
   "execution_count": 46,
   "metadata": {},
   "outputs": [],
   "source": [
    "def add_text_tweet(i):\n",
    "    i = str(i)\n",
    "    suff = 'th'\n",
    "    if i[-1] == '1':\n",
    "        suff = 'st'\n",
    "    if i[-1] == '2':\n",
    "        suff = 'nd'\n",
    "    if i[-1] == '3':\n",
    "        suff = 'rd'\n",
    "    suff = suff + ' most liked'\n",
    "    return(i+suff)\n",
    "\n",
    "def plot_twitter_daily(gn, df):\n",
    "    ogn = gn\n",
    "    gn = gn.lower()\n",
    "    gn_df = df[df.name == gn].sort_values('tot_likes', ascending = False)\n",
    "    gn_df['day'] = gn_df['day'].astype(str)\n",
    "    gn_df['month'] = gn_df['month'].astype(str)\n",
    "    gn_df['year'] = gn_df['year'].astype(str)\n",
    "    gn_df['date'] = gn_df['day'] + '-' + gn_df['month'] + '-' + gn_df['year']\n",
    "    gn_df['date'] =  pd.to_datetime(gn_df['date'], format='%d-%m-%Y')\n",
    "    \n",
    "    # fill missing values between times\n",
    "    gn_df.index = gn_df['date']\n",
    "    gn_df = gn_df.resample('D', how='mean')\n",
    "    gn_df['date'] = gn_df.index\n",
    "    gn_df.index = pd.RangeIndex(len(gn_df.index))\n",
    "    gn_df['tot_likes'] = gn_df['tot_likes'].fillna(0) # fill avgViewers NAs with 0\n",
    "    \n",
    "    # restore old index\n",
    "    gn_df.index = pd.RangeIndex(len(gn_df.index))\n",
    "    #gn_df['date'] = gn_df['date'].apply(lambda x: datetime.strptime(x, '%d-%m-%Y %H:%M:%S'))\n",
    "    \n",
    "    sns.set_style(\"white\")\n",
    "    # rcParams['font.family'] = 'garamond'\n",
    "    # rcParams['font.family'] = 'helvetica'\n",
    "    rcParams['font.family'] = 'serif'\n",
    "    \n",
    "    fig = plt.figure(figsize=(15, 10))\n",
    "     \n",
    "    ax = sns.lineplot(x=\"date\", y=\"tot_likes\", data=gn_df#, marker=\"o\"\n",
    "                     )\n",
    "    \n",
    "    ax.set_title(\"Daily total tweet likes for {} on Twitter\".format(ogn), fontsize=18)\n",
    "    \n",
    "    ax.set_ylabel('', fontsize=16)\n",
    "    ax.set_xlabel('', fontsize=20)\n",
    "    \n",
    "    \n",
    "    ax.xaxis.set_major_locator(mdates.DayLocator(interval=1))\n",
    "    \n",
    "    plt.xticks(rotation=45, fontsize = 13)\n",
    "    plt.yticks(fontsize = 13)\n",
    "    \n",
    "    top = np.argmin(gn_df['daily_top'])\n",
    "    top2 = np.argmax(gn_df['tot_likes'])\n",
    "    \n",
    "    ax.text(gn_df.date[top], gn_df.tot_likes[top],\n",
    "        add_text_tweet(int(gn_df.daily_top[top])),\n",
    "        horizontalalignment='center', size='large', color='firebrick', fontsize = 13)\n",
    "    \n",
    "    if int(top) not in range(int(top2)-10, int(top2)+10):\n",
    "        ax.text(gn_df.date[top2], gn_df.tot_likes[top2],\n",
    "                add_text_tweet(int(gn_df.daily_top[top2])),\n",
    "                horizontalalignment='center', size='large', color='firebrick', fontsize = 13)\n",
    "    \n",
    "    plt.show()"
   ]
  },
  {
   "cell_type": "code",
   "execution_count": 47,
   "metadata": {},
   "outputs": [
    {
     "data": {
      "image/png": "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\n",
      "text/plain": [
       "<Figure size 1080x720 with 1 Axes>"
      ]
     },
     "metadata": {},
     "output_type": "display_data"
    }
   ],
   "source": [
    "plot_twitter_daily('League of Legends', df2)"
   ]
  },
  {
   "cell_type": "code",
   "execution_count": 48,
   "metadata": {
    "scrolled": true
   },
   "outputs": [
    {
     "data": {
      "text/plain": [
       "False"
      ]
     },
     "execution_count": 48,
>>>>>>> 6bc7684af033b7b9bc39105577b5d7005e3a882d
     "metadata": {},
     "output_type": "execute_result"
    }
   ],
   "source": [
    "server.is_active"
   ]
  },
  {
   "cell_type": "markdown",
   "metadata": {},
   "source": [
    "## Which is the  game with the highest retweet value on a given day?"
   ]
  },
  {
   "cell_type": "markdown",
   "metadata": {},
   "source": [
    "### Pandas solution"
   ]
  },
  {
   "cell_type": "code",
   "execution_count": 64,
   "metadata": {},
   "outputs": [
    {
     "data": {
      "text/html": [
       "<div>\n",
       "<style scoped>\n",
       "    .dataframe tbody tr th:only-of-type {\n",
       "        vertical-align: middle;\n",
       "    }\n",
       "\n",
       "    .dataframe tbody tr th {\n",
       "        vertical-align: top;\n",
       "    }\n",
       "\n",
       "    .dataframe thead th {\n",
       "        text-align: right;\n",
       "    }\n",
       "</style>\n",
       "<table border=\"1\" class=\"dataframe\">\n",
       "  <thead>\n",
       "    <tr style=\"text-align: right;\">\n",
       "      <th></th>\n",
       "      <th>name</th>\n",
       "      <th>day</th>\n",
       "      <th>month</th>\n",
       "      <th>year</th>\n",
       "      <th>tot_retweets</th>\n",
       "      <th>tot_likes</th>\n",
       "      <th>tweet_count</th>\n",
       "      <th>daily_top</th>\n",
       "    </tr>\n",
       "  </thead>\n",
       "  <tbody>\n",
       "    <tr>\n",
       "      <th>186</th>\n",
       "      <td>fortnite</td>\n",
       "      <td>13</td>\n",
       "      <td>6</td>\n",
       "      <td>2019</td>\n",
       "      <td>419</td>\n",
       "      <td>7344</td>\n",
       "      <td>200</td>\n",
       "      <td>1</td>\n",
       "    </tr>\n",
       "    <tr>\n",
       "      <th>187</th>\n",
       "      <td>fortnite</td>\n",
       "      <td>14</td>\n",
       "      <td>6</td>\n",
       "      <td>2019</td>\n",
       "      <td>1878</td>\n",
       "      <td>34285</td>\n",
       "      <td>200</td>\n",
       "      <td>1</td>\n",
       "    </tr>\n",
       "    <tr>\n",
       "      <th>189</th>\n",
       "      <td>fortnite</td>\n",
       "      <td>16</td>\n",
       "      <td>6</td>\n",
       "      <td>2019</td>\n",
       "      <td>2268</td>\n",
       "      <td>33085</td>\n",
       "      <td>200</td>\n",
       "      <td>1</td>\n",
       "    </tr>\n",
       "    <tr>\n",
       "      <th>190</th>\n",
       "      <td>fortnite</td>\n",
       "      <td>17</td>\n",
       "      <td>6</td>\n",
       "      <td>2019</td>\n",
       "      <td>1056</td>\n",
       "      <td>35726</td>\n",
       "      <td>200</td>\n",
       "      <td>1</td>\n",
       "    </tr>\n",
       "    <tr>\n",
       "      <th>191</th>\n",
       "      <td>fortnite</td>\n",
       "      <td>18</td>\n",
       "      <td>6</td>\n",
       "      <td>2019</td>\n",
       "      <td>8851</td>\n",
       "      <td>53061</td>\n",
       "      <td>200</td>\n",
       "      <td>1</td>\n",
       "    </tr>\n",
       "    <tr>\n",
       "      <th>192</th>\n",
       "      <td>fortnite</td>\n",
       "      <td>19</td>\n",
       "      <td>6</td>\n",
       "      <td>2019</td>\n",
       "      <td>1592</td>\n",
       "      <td>15202</td>\n",
       "      <td>200</td>\n",
       "      <td>1</td>\n",
       "    </tr>\n",
       "    <tr>\n",
       "      <th>193</th>\n",
       "      <td>fortnite</td>\n",
       "      <td>20</td>\n",
       "      <td>6</td>\n",
       "      <td>2019</td>\n",
       "      <td>2154</td>\n",
       "      <td>30358</td>\n",
       "      <td>200</td>\n",
       "      <td>1</td>\n",
       "    </tr>\n",
       "    <tr>\n",
       "      <th>194</th>\n",
       "      <td>fortnite</td>\n",
       "      <td>21</td>\n",
       "      <td>6</td>\n",
       "      <td>2019</td>\n",
       "      <td>2977</td>\n",
       "      <td>22664</td>\n",
       "      <td>200</td>\n",
       "      <td>1</td>\n",
       "    </tr>\n",
       "    <tr>\n",
       "      <th>197</th>\n",
       "      <td>fortnite</td>\n",
       "      <td>24</td>\n",
       "      <td>6</td>\n",
       "      <td>2019</td>\n",
       "      <td>9168</td>\n",
       "      <td>39009</td>\n",
       "      <td>200</td>\n",
       "      <td>1</td>\n",
       "    </tr>\n",
       "    <tr>\n",
       "      <th>319</th>\n",
       "      <td>minecraft</td>\n",
       "      <td>22</td>\n",
       "      <td>6</td>\n",
       "      <td>2019</td>\n",
       "      <td>1303</td>\n",
       "      <td>43675</td>\n",
       "      <td>200</td>\n",
       "      <td>1</td>\n",
       "    </tr>\n",
       "    <tr>\n",
       "      <th>320</th>\n",
       "      <td>minecraft</td>\n",
       "      <td>23</td>\n",
       "      <td>6</td>\n",
       "      <td>2019</td>\n",
       "      <td>875</td>\n",
       "      <td>25375</td>\n",
       "      <td>200</td>\n",
       "      <td>1</td>\n",
       "    </tr>\n",
       "    <tr>\n",
       "      <th>405</th>\n",
       "      <td>pokémon gold/silver</td>\n",
       "      <td>15</td>\n",
       "      <td>6</td>\n",
       "      <td>2019</td>\n",
       "      <td>9617</td>\n",
       "      <td>48678</td>\n",
       "      <td>38</td>\n",
       "      <td>1</td>\n",
       "    </tr>\n",
       "  </tbody>\n",
       "</table>\n",
       "</div>"
      ],
      "text/plain": [
       "                    name  day  month  year  tot_retweets  tot_likes  \\\n",
       "186             fortnite   13      6  2019           419       7344   \n",
       "187             fortnite   14      6  2019          1878      34285   \n",
       "189             fortnite   16      6  2019          2268      33085   \n",
       "190             fortnite   17      6  2019          1056      35726   \n",
       "191             fortnite   18      6  2019          8851      53061   \n",
       "192             fortnite   19      6  2019          1592      15202   \n",
       "193             fortnite   20      6  2019          2154      30358   \n",
       "194             fortnite   21      6  2019          2977      22664   \n",
       "197             fortnite   24      6  2019          9168      39009   \n",
       "319            minecraft   22      6  2019          1303      43675   \n",
       "320            minecraft   23      6  2019           875      25375   \n",
       "405  pokémon gold/silver   15      6  2019          9617      48678   \n",
       "\n",
       "     tweet_count  daily_top  \n",
       "186          200          1  \n",
       "187          200          1  \n",
       "189          200          1  \n",
       "190          200          1  \n",
       "191          200          1  \n",
       "192          200          1  \n",
       "193          200          1  \n",
       "194          200          1  \n",
       "197          200          1  \n",
       "319          200          1  \n",
       "320          200          1  \n",
       "405           38          1  "
      ]
     },
     "execution_count": 64,
     "metadata": {},
     "output_type": "execute_result"
    }
   ],
   "source": [
    "df2.loc[df2.daily_top==1]"
   ]
  },
  {
   "cell_type": "markdown",
   "metadata": {},
   "source": [
    "### MongoDB solution"
   ]
  },
  {
   "cell_type": "code",
   "execution_count": 73,
   "metadata": {},
   "outputs": [
    {
     "data": {
      "text/plain": [
       "[{'max_retweets': 419,\n",
       "  'game': 'fortnite',\n",
       "  'day': 13,\n",
       "  'month': 6,\n",
       "  'year': 2019},\n",
       " {'max_retweets': 1878,\n",
       "  'game': 'fortnite',\n",
       "  'day': 14,\n",
       "  'month': 6,\n",
       "  'year': 2019},\n",
       " {'max_retweets': 9617,\n",
       "  'game': 'pokémon gold/silver',\n",
       "  'day': 15,\n",
       "  'month': 6,\n",
       "  'year': 2019},\n",
       " {'max_retweets': 3365, 'game': 'slots', 'day': 16, 'month': 6, 'year': 2019},\n",
       " {'max_retweets': 6082,\n",
       "  'game': 'overwatch',\n",
       "  'day': 17,\n",
       "  'month': 6,\n",
       "  'year': 2019},\n",
       " {'max_retweets': 8851,\n",
       "  'game': 'fortnite',\n",
       "  'day': 18,\n",
       "  'month': 6,\n",
       "  'year': 2019},\n",
       " {'max_retweets': 1592,\n",
       "  'game': 'fortnite',\n",
       "  'day': 19,\n",
       "  'month': 6,\n",
       "  'year': 2019},\n",
       " {'max_retweets': 4211,\n",
       "  'game': 'dead by daylight',\n",
       "  'day': 20,\n",
       "  'month': 6,\n",
       "  'year': 2019},\n",
       " {'max_retweets': 3442,\n",
       "  'game': 'dead by daylight',\n",
       "  'day': 21,\n",
       "  'month': 6,\n",
       "  'year': 2019},\n",
       " {'max_retweets': 1303,\n",
       "  'game': 'minecraft',\n",
       "  'day': 22,\n",
       "  'month': 6,\n",
       "  'year': 2019},\n",
       " {'max_retweets': 2149, 'game': 'slots', 'day': 23, 'month': 6, 'year': 2019},\n",
       " {'max_retweets': 9168,\n",
       "  'game': 'fortnite',\n",
       "  'day': 24,\n",
       "  'month': 6,\n",
       "  'year': 2019}]"
      ]
     },
     "execution_count": 73,
     "metadata": {},
     "output_type": "execute_result"
    }
   ],
   "source": [
    "pipeline_highest_retweet_per_day = [{\n",
    "\t\t\"$group\": {\n",
    "\t\t\t\"_id\": {\n",
    "\t\t\t\t\"name\": \"$query\",\n",
    "\t\t\t\t\"day\": {\n",
    "\t\t\t\t\t\"$dayOfMonth\": \"$date\"\n",
    "\t\t\t\t},\n",
    "\t\t\t\t\"month\": {\n",
    "\t\t\t\t\t\"$month\": \"$date\"\n",
    "\t\t\t\t},\n",
    "\t\t\t\t\"year\": {\n",
    "\t\t\t\t\t\"$year\": \"$date\"\n",
    "\t\t\t\t}\n",
    "\t\t\t},\n",
    "\t\t\t\"tot_retweets\": {\n",
    "\t\t\t\t\"$sum\": \"$retweets\"\n",
    "\t\t\t}\n",
    "\t\t}\n",
    "\t},\n",
    "\t{\n",
    "\t\t\"$sort\": {\n",
    "\t\t\t\"tot_retweets\": -1\n",
    "\t\t}\n",
    "\t},\n",
    "\t{\n",
    "\t\t\"$group\": {\n",
    "\t\t\t\"_id\": {\n",
    "\t\t\t\t\"day\": \"$_id.day\",\n",
    "\t\t\t\t\"month\": \"$_id.month\",\n",
    "\t\t\t\t\"year\": \"$_id.year\"\n",
    "\t\t\t},\n",
    "\t\t\t\"max_retweets\": {\n",
    "\t\t\t\t\"$first\": \"$tot_retweets\"\n",
    "\t\t\t},\n",
    "\t\t\t\"game\": {\n",
    "\t\t\t\t\"$first\": \"$_id.name\"\n",
    "\t\t\t}\n",
    "\t\t}\n",
    "\t},\n",
    "\t{\n",
    "\t\t\"$project\": {\n",
    "\t\t\t\"_id\": 0,\n",
    "\t\t\t\"day\": \"$_id.day\",\n",
    "\t\t\t\"month\": \"$_id.month\",\n",
    "\t\t\t\"year\": \"$_id.year\",\n",
    "\t\t\t\"max_retweets\": 1,\n",
    "\t\t\t\"game\": 1\n",
    "\n",
    "\t\t}\n",
    "\t},\n",
    "\t{\n",
    "\t\t\"$sort\": {\n",
    "\t\t\t\"day\": 1\n",
    "\t\t}\n",
    "\t}\n",
    "]\n",
    "highest_retweet_per_day = list(db.twitter.aggregate(pipeline_highest_retweet_per_day))\n",
    "highest_retweet_per_day"
   ]
  },
  {
   "cell_type": "markdown",
   "metadata": {},
   "source": [
    "### Which is the game with the highest likes for each day?"
   ]
  },
  {
   "cell_type": "code",
   "execution_count": 72,
   "metadata": {},
   "outputs": [
    {
     "data": {
      "text/plain": [
       "[{'max_likes': 7344, 'game': 'fortnite', 'day': 13, 'month': 6, 'year': 2019},\n",
       " {'max_likes': 34285, 'game': 'fortnite', 'day': 14, 'month': 6, 'year': 2019},\n",
       " {'max_likes': 48678,\n",
       "  'game': 'pokémon gold/silver',\n",
       "  'day': 15,\n",
       "  'month': 6,\n",
       "  'year': 2019},\n",
       " {'max_likes': 33085, 'game': 'fortnite', 'day': 16, 'month': 6, 'year': 2019},\n",
       " {'max_likes': 35726, 'game': 'fortnite', 'day': 17, 'month': 6, 'year': 2019},\n",
       " {'max_likes': 53061, 'game': 'fortnite', 'day': 18, 'month': 6, 'year': 2019},\n",
       " {'max_likes': 15202, 'game': 'fortnite', 'day': 19, 'month': 6, 'year': 2019},\n",
       " {'max_likes': 30358, 'game': 'fortnite', 'day': 20, 'month': 6, 'year': 2019},\n",
       " {'max_likes': 22664, 'game': 'fortnite', 'day': 21, 'month': 6, 'year': 2019},\n",
       " {'max_likes': 43675,\n",
       "  'game': 'minecraft',\n",
       "  'day': 22,\n",
       "  'month': 6,\n",
       "  'year': 2019},\n",
       " {'max_likes': 25375,\n",
       "  'game': 'minecraft',\n",
       "  'day': 23,\n",
       "  'month': 6,\n",
       "  'year': 2019},\n",
       " {'max_likes': 39009, 'game': 'fortnite', 'day': 24, 'month': 6, 'year': 2019}]"
      ]
     },
     "execution_count": 72,
     "metadata": {},
     "output_type": "execute_result"
    }
   ],
   "source": [
    "pipeline_highest_likes_per_day = [{\n",
    "\t\t\"$group\": {\n",
    "\t\t\t\"_id\": {\n",
    "\t\t\t\t\"name\": \"$query\",\n",
    "\t\t\t\t\"day\": {\n",
    "\t\t\t\t\t\"$dayOfMonth\": \"$date\"\n",
    "\t\t\t\t},\n",
    "\t\t\t\t\"month\": {\n",
    "\t\t\t\t\t\"$month\": \"$date\"\n",
    "\t\t\t\t},\n",
    "\t\t\t\t\"year\": {\n",
    "\t\t\t\t\t\"$year\": \"$date\"\n",
    "\t\t\t\t}\n",
    "\t\t\t},\n",
    "\t\t\t\"tot_likes\": {\n",
    "\t\t\t\t\"$sum\": \"$likes\"\n",
    "\t\t\t}\n",
    "\t\t}\n",
    "\t},\n",
    "\t{\n",
    "\t\t\"$sort\": {\n",
    "\t\t\t\"tot_likes\": -1\n",
    "\t\t}\n",
    "\t},\n",
    "\t{\n",
    "\t\t\"$group\": {\n",
    "\t\t\t\"_id\": {\n",
    "\t\t\t\t\"day\": \"$_id.day\",\n",
    "\t\t\t\t\"month\": \"$_id.month\",\n",
    "\t\t\t\t\"year\": \"$_id.year\"\n",
    "\t\t\t},\n",
    "\t\t\t\"max_likes\": {\n",
    "\t\t\t\t\"$first\": \"$tot_likes\"\n",
    "\t\t\t},\n",
    "\t\t\t\"game\": {\n",
    "\t\t\t\t\"$first\": \"$_id.name\"\n",
    "\t\t\t}\n",
    "\t\t}\n",
    "\t},\n",
    "\t{\n",
    "\t\t\"$project\": {\n",
    "\t\t\t\"_id\": 0,\n",
    "\t\t\t\"day\": \"$_id.day\",\n",
    "\t\t\t\"month\": \"$_id.month\",\n",
    "\t\t\t\"year\": \"$_id.year\",\n",
    "\t\t\t\"max_likes\": 1,\n",
    "\t\t\t\"game\": 1\n",
    "\n",
    "\t\t}\n",
    "\t},\n",
    "\t{\n",
    "\t\t\"$sort\": {\n",
    "\t\t\t\"day\": 1\n",
    "\t\t}\n",
    "\t}\n",
    "]\n",
    "highest_likes_per_day = list(db.twitter.aggregate(pipeline_highest_likes_per_day))\n",
    "highest_likes_per_day"
   ]
  },
  {
   "cell_type": "markdown",
   "metadata": {},
   "source": [
    "## Other queries that we may do"
   ]
  },
  {
   "cell_type": "markdown",
   "metadata": {},
   "source": [
    "- How the top 25 games on VGChartz are performing on Twitter and Twitch (just for using multiple collections)\n",
    "- Which is the day with the highest views/likes/retweets of all time? And which is the one with the lowest values?\n",
    "- Which is the day of the week with the highest \"buzz\"? And which is the one with the lowest \"buzz\"?"
   ]
  },
  {
   "cell_type": "code",
   "execution_count": null,
   "metadata": {},
   "outputs": [],
   "source": [
    "server.stop()"
   ]
  }
 ],
 "metadata": {
  "kernelspec": {
   "display_name": "Python 3",
   "language": "python",
   "name": "python3"
  },
  "language_info": {
   "codemirror_mode": {
    "name": "ipython",
    "version": 3
   },
   "file_extension": ".py",
   "mimetype": "text/x-python",
   "name": "python",
   "nbconvert_exporter": "python",
   "pygments_lexer": "ipython3",
   "version": "3.6.6"
  }
 },
 "nbformat": 4,
 "nbformat_minor": 2
}
