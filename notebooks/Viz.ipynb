{
 "cells": [
  {
   "cell_type": "code",
   "execution_count": 1,
   "metadata": {},
   "outputs": [],
   "source": [
    "from bson.son import SON\n",
    "import json\n",
    "from pymongo import MongoClient\n",
    "from bson.objectid import ObjectId\n",
    "import pandas as pd\n",
    "from pandas.io.json import json_normalize\n",
    "from datetime import datetime\n",
    "import numpy as np\n",
    "import matplotlib.pyplot as plt\n",
    "import matplotlib.cbook as cbook\n",
    "import matplotlib.dates as mdates\n",
    "from matplotlib import rcParams\n",
    "import seaborn as sns\n",
    "from datetime import datetime\n",
    "from sshtunnel import SSHTunnelForwarder\n",
    "import pymongo"
   ]
  },
  {
   "cell_type": "markdown",
   "metadata": {},
   "source": [
    "# Connect to remote mongodb"
   ]
  },
  {
   "cell_type": "code",
   "execution_count": 2,
   "metadata": {},
   "outputs": [
    {
     "data": {
      "text/plain": [
       "['system.indexes', 'twitch', 'twitter']"
      ]
     },
     "execution_count": 2,
     "metadata": {},
     "output_type": "execute_result"
    }
   ],
   "source": [
    "with open('keys.json') as k:\n",
    "    keys = json.loads(k.read())\n",
    "    MONGO_HOST = keys[\"SSH\"][\"MONGO_HOST\"] # i.e. 10.9.13.14\n",
    "    MONGO_DB = keys[\"SSH\"][\"MONGO_DB\"] # i.e. dm_project \n",
    "    MONGO_USER = keys[\"SSH\"][\"MONGO_USER\"] # i.e. studente\n",
    "    MONGO_PASS = keys[\"SSH\"][\"MONGO_PASS\"] # i.e. la password della vm\n",
    "\n",
    "server = SSHTunnelForwarder(\n",
    "    MONGO_HOST,\n",
    "    ssh_username=MONGO_USER,\n",
    "    ssh_password=MONGO_PASS,\n",
    "    remote_bind_address=('127.0.0.1', 27017)\n",
    ")\n",
    "\n",
    "server.start() # remember to stop\n",
    "\n",
    "client = pymongo.MongoClient('127.0.0.1', server.local_bind_port) # server.local_bind_port is assigned local port\n",
    "\n",
    "db = client[MONGO_DB]\n",
    "\n",
    "db.list_collection_names()"
   ]
  },
  {
   "cell_type": "markdown",
   "metadata": {},
   "source": [
    "# Twitch"
   ]
  },
  {
   "cell_type": "markdown",
   "metadata": {},
   "source": [
    "### Get daily data "
   ]
  },
  {
   "cell_type": "code",
   "execution_count": 4,
   "metadata": {},
   "outputs": [],
   "source": [
    "pipelined = [{\"$unwind\": \"$data\"},\n",
    "            { \"$group\": {\n",
    "                \"_id\": {\"name\": \"$data.game_name\",\n",
    "                        \"year\" :  { \"$substr\" : [\"$timestamp\", 0, 4 ] }, \n",
    "                        \"month\" : { \"$substr\" : [\"$timestamp\", 5, 2 ] },     \n",
    "                        \"day\" :   { \"$substr\" : [\"$timestamp\", 8, 2 ] } },\n",
    "                \"avgViewers\": { \"$avg\": '$data.viewers'}\n",
    "            }},\n",
    "            {\"$sort\": {\"_id\": 1} }]"
   ]
  },
  {
   "cell_type": "code",
   "execution_count": 5,
   "metadata": {},
   "outputs": [
    {
     "data": {
      "text/plain": [
       "36.874321"
      ]
     },
     "execution_count": 5,
     "metadata": {},
     "output_type": "execute_result"
    }
   ],
   "source": [
    "# this is very slow\n",
    "\n",
    "start = datetime.now()\n",
    "resultd = list(db.twitch.aggregate(pipelined, allowDiskUse = True))\n",
    "end = datetime.now()\n",
    "(end-start).total_seconds()"
   ]
  },
  {
   "cell_type": "code",
   "execution_count": 7,
   "metadata": {},
   "outputs": [],
   "source": [
    "dfd = json_normalize(resultd)\n",
    "dfd = dfd.rename(index=str, columns={\"_id.name\": \"name\",\n",
    "                                  \"_id.day\": \"day\",\"_id.month\": \"month\",\"_id.year\": \"year\"})\n",
    "dfd = dfd[['name','day', 'month', 'year', 'avgViewers']]"
   ]
  },
  {
   "cell_type": "code",
   "execution_count": 8,
   "metadata": {},
   "outputs": [
    {
     "data": {
      "text/html": [
       "<div>\n",
       "<style scoped>\n",
       "    .dataframe tbody tr th:only-of-type {\n",
       "        vertical-align: middle;\n",
       "    }\n",
       "\n",
       "    .dataframe tbody tr th {\n",
       "        vertical-align: top;\n",
       "    }\n",
       "\n",
       "    .dataframe thead th {\n",
       "        text-align: right;\n",
       "    }\n",
       "</style>\n",
       "<table border=\"1\" class=\"dataframe\">\n",
       "  <thead>\n",
       "    <tr style=\"text-align: right;\">\n",
       "      <th></th>\n",
       "      <th>name</th>\n",
       "      <th>day</th>\n",
       "      <th>month</th>\n",
       "      <th>year</th>\n",
       "      <th>avgViewers</th>\n",
       "    </tr>\n",
       "  </thead>\n",
       "  <tbody>\n",
       "    <tr>\n",
       "      <th>0</th>\n",
       "      <td>8 To Glory - The Official Game of the PBR</td>\n",
       "      <td>14</td>\n",
       "      <td>06</td>\n",
       "      <td>2019</td>\n",
       "      <td>1.000000</td>\n",
       "    </tr>\n",
       "    <tr>\n",
       "      <th>1</th>\n",
       "      <td>8 To Glory - The Official Game of the PBR</td>\n",
       "      <td>22</td>\n",
       "      <td>06</td>\n",
       "      <td>2019</td>\n",
       "      <td>5.000000</td>\n",
       "    </tr>\n",
       "    <tr>\n",
       "      <th>2</th>\n",
       "      <td>F1 2019</td>\n",
       "      <td>20</td>\n",
       "      <td>06</td>\n",
       "      <td>2019</td>\n",
       "      <td>22.821429</td>\n",
       "    </tr>\n",
       "    <tr>\n",
       "      <th>3</th>\n",
       "      <td>F1 2019</td>\n",
       "      <td>21</td>\n",
       "      <td>06</td>\n",
       "      <td>2019</td>\n",
       "      <td>481.517572</td>\n",
       "    </tr>\n",
       "    <tr>\n",
       "      <th>4</th>\n",
       "      <td>F1 2019</td>\n",
       "      <td>22</td>\n",
       "      <td>06</td>\n",
       "      <td>2019</td>\n",
       "      <td>207.319149</td>\n",
       "    </tr>\n",
       "  </tbody>\n",
       "</table>\n",
       "</div>"
      ],
      "text/plain": [
       "                                         name day month  year  avgViewers\n",
       "0   8 To Glory - The Official Game of the PBR  14    06  2019    1.000000\n",
       "1   8 To Glory - The Official Game of the PBR  22    06  2019    5.000000\n",
       "2                                     F1 2019  20    06  2019   22.821429\n",
       "3                                     F1 2019  21    06  2019  481.517572\n",
       "4                                     F1 2019  22    06  2019  207.319149"
      ]
     },
     "execution_count": 8,
     "metadata": {},
     "output_type": "execute_result"
    }
   ],
   "source": [
    "dfd.head()"
   ]
  },
  {
   "cell_type": "markdown",
   "metadata": {},
   "source": [
    "#### Add Daily top"
   ]
  },
  {
   "cell_type": "code",
   "execution_count": 9,
   "metadata": {},
   "outputs": [],
   "source": [
    "dfd = dfd.groupby(['name', 'day', 'month', 'year'])['avgViewers'].mean().reset_index()"
   ]
  },
  {
   "cell_type": "code",
   "execution_count": 10,
   "metadata": {},
   "outputs": [],
   "source": [
    "dfd['daily_top'] = dfd.sort_values(['day', 'month', 'year', 'avgViewers'],\n",
    "                               ascending=[True, True, True, False]).groupby(['day', 'month', 'year']).cumcount()\n",
    "dfd['daily_top'] = dfd['daily_top'] + 1"
   ]
  },
  {
   "cell_type": "code",
   "execution_count": 11,
   "metadata": {},
   "outputs": [
    {
     "data": {
      "text/html": [
       "<div>\n",
       "<style scoped>\n",
       "    .dataframe tbody tr th:only-of-type {\n",
       "        vertical-align: middle;\n",
       "    }\n",
       "\n",
       "    .dataframe tbody tr th {\n",
       "        vertical-align: top;\n",
       "    }\n",
       "\n",
       "    .dataframe thead th {\n",
       "        text-align: right;\n",
       "    }\n",
       "</style>\n",
       "<table border=\"1\" class=\"dataframe\">\n",
       "  <thead>\n",
       "    <tr style=\"text-align: right;\">\n",
       "      <th></th>\n",
       "      <th>name</th>\n",
       "      <th>day</th>\n",
       "      <th>month</th>\n",
       "      <th>year</th>\n",
       "      <th>avgViewers</th>\n",
       "      <th>daily_top</th>\n",
       "    </tr>\n",
       "  </thead>\n",
       "  <tbody>\n",
       "    <tr>\n",
       "      <th>39909</th>\n",
       "      <td>League of Legends</td>\n",
       "      <td>13</td>\n",
       "      <td>06</td>\n",
       "      <td>2019</td>\n",
       "      <td>139492.283737</td>\n",
       "      <td>1</td>\n",
       "    </tr>\n",
       "    <tr>\n",
       "      <th>27222</th>\n",
       "      <td>Fortnite</td>\n",
       "      <td>13</td>\n",
       "      <td>06</td>\n",
       "      <td>2019</td>\n",
       "      <td>117869.685121</td>\n",
       "      <td>2</td>\n",
       "    </tr>\n",
       "    <tr>\n",
       "      <th>30450</th>\n",
       "      <td>Grand Theft Auto V</td>\n",
       "      <td>13</td>\n",
       "      <td>06</td>\n",
       "      <td>2019</td>\n",
       "      <td>97704.619377</td>\n",
       "      <td>3</td>\n",
       "    </tr>\n",
       "    <tr>\n",
       "      <th>36869</th>\n",
       "      <td>Just Chatting</td>\n",
       "      <td>13</td>\n",
       "      <td>06</td>\n",
       "      <td>2019</td>\n",
       "      <td>97585.868512</td>\n",
       "      <td>4</td>\n",
       "    </tr>\n",
       "    <tr>\n",
       "      <th>19819</th>\n",
       "      <td>Dota 2</td>\n",
       "      <td>13</td>\n",
       "      <td>06</td>\n",
       "      <td>2019</td>\n",
       "      <td>69030.173010</td>\n",
       "      <td>5</td>\n",
       "    </tr>\n",
       "  </tbody>\n",
       "</table>\n",
       "</div>"
      ],
      "text/plain": [
       "                     name day month  year     avgViewers  daily_top\n",
       "39909   League of Legends  13    06  2019  139492.283737          1\n",
       "27222            Fortnite  13    06  2019  117869.685121          2\n",
       "30450  Grand Theft Auto V  13    06  2019   97704.619377          3\n",
       "36869       Just Chatting  13    06  2019   97585.868512          4\n",
       "19819              Dota 2  13    06  2019   69030.173010          5"
      ]
     },
     "execution_count": 11,
     "metadata": {},
     "output_type": "execute_result"
    }
   ],
   "source": [
    "dfd.sort_values(['day', 'month', 'year', 'avgViewers'], ascending=[True, True, True, False]).head()"
   ]
  },
  {
   "cell_type": "markdown",
   "metadata": {},
   "source": [
    "### Get hourly data"
   ]
  },
  {
   "cell_type": "code",
   "execution_count": 12,
   "metadata": {},
   "outputs": [],
   "source": [
    "pipelineh = [{\"$unwind\": \"$data\"},\n",
    "            { \"$group\": {\n",
    "                \"_id\": {\"name\": \"$data.game_name\",\n",
    "                        \"year\" :  { \"$substr\" : [\"$timestamp\", 0, 4 ] }, \n",
    "                        \"month\" : { \"$substr\" : [\"$timestamp\", 5, 2 ] },     \n",
    "                        \"day\" :   { \"$substr\" : [\"$timestamp\", 8, 2 ] },\n",
    "                        \"hour\": { \"$substr\" : [\"$timestamp\", 11, 2 ] } },\n",
    "                \"avgViewers\": { \"$avg\": '$data.viewers'}\n",
    "            }},\n",
    "            {\"$sort\": {\"_id\": 1} }]"
   ]
  },
  {
   "cell_type": "code",
   "execution_count": 13,
   "metadata": {},
   "outputs": [
    {
     "data": {
      "text/plain": [
       "73.983813"
      ]
     },
     "execution_count": 13,
     "metadata": {},
     "output_type": "execute_result"
    }
   ],
   "source": [
    "# this is very slow\n",
    "\n",
    "start = datetime.now()\n",
    "resulth = list(db.twitch.aggregate(pipelineh, allowDiskUse = True))\n",
    "end = datetime.now()\n",
    "(end-start).total_seconds()"
   ]
  },
  {
   "cell_type": "code",
   "execution_count": 14,
   "metadata": {},
   "outputs": [],
   "source": [
    "dfh = json_normalize(resulth)\n",
    "dfh = dfh.rename(index=str, columns={\"_id.name\": \"name\", \"_id.hour\": \"hour\",\n",
    "                                  \"_id.day\": \"day\",\"_id.month\": \"month\",\"_id.year\": \"year\"})\n",
    "dfh = dfh[['name','day', 'month', 'year', 'hour', 'avgViewers']]"
   ]
  },
  {
   "cell_type": "code",
   "execution_count": 15,
   "metadata": {},
   "outputs": [
    {
     "data": {
      "text/html": [
       "<div>\n",
       "<style scoped>\n",
       "    .dataframe tbody tr th:only-of-type {\n",
       "        vertical-align: middle;\n",
       "    }\n",
       "\n",
       "    .dataframe tbody tr th {\n",
       "        vertical-align: top;\n",
       "    }\n",
       "\n",
       "    .dataframe thead th {\n",
       "        text-align: right;\n",
       "    }\n",
       "</style>\n",
       "<table border=\"1\" class=\"dataframe\">\n",
       "  <thead>\n",
       "    <tr style=\"text-align: right;\">\n",
       "      <th></th>\n",
       "      <th>name</th>\n",
       "      <th>day</th>\n",
       "      <th>month</th>\n",
       "      <th>year</th>\n",
       "      <th>hour</th>\n",
       "      <th>avgViewers</th>\n",
       "    </tr>\n",
       "  </thead>\n",
       "  <tbody>\n",
       "    <tr>\n",
       "      <th>0</th>\n",
       "      <td>8 To Glory - The Official Game of the PBR</td>\n",
       "      <td>14</td>\n",
       "      <td>06</td>\n",
       "      <td>2019</td>\n",
       "      <td>18</td>\n",
       "      <td>1.000000</td>\n",
       "    </tr>\n",
       "    <tr>\n",
       "      <th>1</th>\n",
       "      <td>8 To Glory - The Official Game of the PBR</td>\n",
       "      <td>22</td>\n",
       "      <td>06</td>\n",
       "      <td>2019</td>\n",
       "      <td>05</td>\n",
       "      <td>5.000000</td>\n",
       "    </tr>\n",
       "    <tr>\n",
       "      <th>2</th>\n",
       "      <td>F1 2019</td>\n",
       "      <td>20</td>\n",
       "      <td>06</td>\n",
       "      <td>2019</td>\n",
       "      <td>17</td>\n",
       "      <td>10.000000</td>\n",
       "    </tr>\n",
       "    <tr>\n",
       "      <th>3</th>\n",
       "      <td>F1 2019</td>\n",
       "      <td>20</td>\n",
       "      <td>06</td>\n",
       "      <td>2019</td>\n",
       "      <td>18</td>\n",
       "      <td>24.842105</td>\n",
       "    </tr>\n",
       "    <tr>\n",
       "      <th>4</th>\n",
       "      <td>F1 2019</td>\n",
       "      <td>20</td>\n",
       "      <td>06</td>\n",
       "      <td>2019</td>\n",
       "      <td>19</td>\n",
       "      <td>29.250000</td>\n",
       "    </tr>\n",
       "  </tbody>\n",
       "</table>\n",
       "</div>"
      ],
      "text/plain": [
       "                                         name day month  year hour  avgViewers\n",
       "0   8 To Glory - The Official Game of the PBR  14    06  2019   18    1.000000\n",
       "1   8 To Glory - The Official Game of the PBR  22    06  2019   05    5.000000\n",
       "2                                     F1 2019  20    06  2019   17   10.000000\n",
       "3                                     F1 2019  20    06  2019   18   24.842105\n",
       "4                                     F1 2019  20    06  2019   19   29.250000"
      ]
     },
     "execution_count": 15,
     "metadata": {},
     "output_type": "execute_result"
    }
   ],
   "source": [
    "dfh.head()"
   ]
  },
  {
   "cell_type": "markdown",
   "metadata": {},
   "source": [
    "#### Add Hourly Top"
   ]
  },
  {
   "cell_type": "code",
   "execution_count": 16,
   "metadata": {},
   "outputs": [],
   "source": [
    "dfh['hourly_top'] = dfh.sort_values(['day', 'month', 'year', 'hour', 'avgViewers'],\n",
    "                               ascending=[True, True, True, True, False]).groupby(['day', 'month', 'year', 'hour']).cumcount()\n",
    "dfh['hourly_top'] = dfh['hourly_top'] + 1"
   ]
  },
  {
   "cell_type": "code",
   "execution_count": 17,
   "metadata": {},
   "outputs": [
    {
     "data": {
      "text/html": [
       "<div>\n",
       "<style scoped>\n",
       "    .dataframe tbody tr th:only-of-type {\n",
       "        vertical-align: middle;\n",
       "    }\n",
       "\n",
       "    .dataframe tbody tr th {\n",
       "        vertical-align: top;\n",
       "    }\n",
       "\n",
       "    .dataframe thead th {\n",
       "        text-align: right;\n",
       "    }\n",
       "</style>\n",
       "<table border=\"1\" class=\"dataframe\">\n",
       "  <thead>\n",
       "    <tr style=\"text-align: right;\">\n",
       "      <th></th>\n",
       "      <th>name</th>\n",
       "      <th>day</th>\n",
       "      <th>month</th>\n",
       "      <th>year</th>\n",
       "      <th>hour</th>\n",
       "      <th>avgViewers</th>\n",
       "      <th>hourly_top</th>\n",
       "    </tr>\n",
       "  </thead>\n",
       "  <tbody>\n",
       "    <tr>\n",
       "      <th>0</th>\n",
       "      <td>8 To Glory - The Official Game of the PBR</td>\n",
       "      <td>14</td>\n",
       "      <td>06</td>\n",
       "      <td>2019</td>\n",
       "      <td>18</td>\n",
       "      <td>1.000000</td>\n",
       "      <td>2206</td>\n",
       "    </tr>\n",
       "    <tr>\n",
       "      <th>1</th>\n",
       "      <td>8 To Glory - The Official Game of the PBR</td>\n",
       "      <td>22</td>\n",
       "      <td>06</td>\n",
       "      <td>2019</td>\n",
       "      <td>05</td>\n",
       "      <td>5.000000</td>\n",
       "      <td>1250</td>\n",
       "    </tr>\n",
       "    <tr>\n",
       "      <th>2</th>\n",
       "      <td>F1 2019</td>\n",
       "      <td>20</td>\n",
       "      <td>06</td>\n",
       "      <td>2019</td>\n",
       "      <td>17</td>\n",
       "      <td>10.000000</td>\n",
       "      <td>1034</td>\n",
       "    </tr>\n",
       "    <tr>\n",
       "      <th>3</th>\n",
       "      <td>F1 2019</td>\n",
       "      <td>20</td>\n",
       "      <td>06</td>\n",
       "      <td>2019</td>\n",
       "      <td>18</td>\n",
       "      <td>24.842105</td>\n",
       "      <td>726</td>\n",
       "    </tr>\n",
       "    <tr>\n",
       "      <th>4</th>\n",
       "      <td>F1 2019</td>\n",
       "      <td>20</td>\n",
       "      <td>06</td>\n",
       "      <td>2019</td>\n",
       "      <td>19</td>\n",
       "      <td>29.250000</td>\n",
       "      <td>727</td>\n",
       "    </tr>\n",
       "  </tbody>\n",
       "</table>\n",
       "</div>"
      ],
      "text/plain": [
       "                                         name day month  year hour  \\\n",
       "0   8 To Glory - The Official Game of the PBR  14    06  2019   18   \n",
       "1   8 To Glory - The Official Game of the PBR  22    06  2019   05   \n",
       "2                                     F1 2019  20    06  2019   17   \n",
       "3                                     F1 2019  20    06  2019   18   \n",
       "4                                     F1 2019  20    06  2019   19   \n",
       "\n",
       "   avgViewers  hourly_top  \n",
       "0    1.000000        2206  \n",
       "1    5.000000        1250  \n",
       "2   10.000000        1034  \n",
       "3   24.842105         726  \n",
       "4   29.250000         727  "
      ]
     },
     "execution_count": 17,
     "metadata": {},
     "output_type": "execute_result"
    }
   ],
   "source": [
    "dfh.head()"
   ]
  },
  {
   "cell_type": "markdown",
   "metadata": {},
   "source": [
    "## Twitch Viz"
   ]
  },
  {
   "cell_type": "code",
   "execution_count": null,
   "metadata": {},
   "outputs": [],
   "source": [
    "def add_text_twitch(i):\n",
    "    i = str(i)\n",
    "    suff = 'th'\n",
    "    if i[-1] == '1':\n",
    "        suff = 'st'\n",
    "    if i[-1] == '2':\n",
    "        suff = 'nd'\n",
    "    if i[-1] == '3':\n",
    "        suff = 'rd'\n",
    "    suff = suff + ' most viewed'\n",
    "    return(i+suff)"
   ]
  },
  {
   "cell_type": "code",
   "execution_count": 43,
   "metadata": {},
   "outputs": [],
   "source": [
    "def plot_twitch_daily(gn, df):\n",
    "    gn_df = df[df.name == gn].sort_values('avgViewers', ascending = False)\n",
    "    if gn_df.shape[0] == 0:\n",
    "        print(\"No Data: Invalid Game Name\")\n",
    "        return None\n",
    "        \n",
    "    gn_df['date'] = gn_df['day'] + '-' + gn_df['month'] + '-' + gn_df['year']\n",
    "    gn_df['date'] = gn_df['date'].apply(lambda x: datetime.strptime(x, '%d-%m-%Y'))\n",
    "    \n",
    "    \n",
    "    # fill missing values between times\n",
    "    gn_df.index = gn_df['date']\n",
    "    gn_df = gn_df.resample('D', how='mean')\n",
    "    gn_df['date'] = gn_df.index\n",
    "    gn_df.index = pd.RangeIndex(len(gn_df.index))\n",
    "    gn_df['avgViewers'] = gn_df['avgViewers'].fillna(0) # fill avgViewers NAs with 0\n",
    "    \n",
    "    # restore old index\n",
    "    gn_df.index = pd.RangeIndex(len(gn_df.index))\n",
    "    #gn_df['date'] = gn_df['date'].apply(lambda x: datetime.strptime(x, '%d-%m-%Y %H:%M:%S'))\n",
    "    \n",
    "    sns.set_style(\"white\")\n",
    "    \n",
    "    \n",
    "    \n",
    "    fig = plt.figure(figsize=(15, 10))\n",
    "     \n",
    "    ax = sns.lineplot(x=\"date\", y=\"avgViewers\", data=gn_df)\n",
    "    \n",
    "    ax.set_title(\"Average daily views of {} on Twitch\".format(gn), fontsize=18)\n",
    "    \n",
    "    ax.set_ylabel('', fontsize=16)\n",
    "    ax.set_xlabel('', fontsize=20)\n",
    "    \n",
    "    \n",
    "    ax.xaxis.set_major_locator(mdates.DayLocator(interval=1))\n",
    "    \n",
    "    plt.xticks(rotation=45, fontsize = 13)\n",
    "    plt.yticks(fontsize = 13)\n",
    "    \n",
    "    top = np.argmin(gn_df['daily_top'])\n",
    "    top2 = np.argmax(gn_df['avgViewers'])\n",
    "    \n",
    "    ax.text(gn_df.date[top], gn_df.avgViewers[top],\n",
    "        add_text_twitch(int(gn_df.daily_top[top])),\n",
    "        horizontalalignment='center', size='large', color='firebrick', fontsize = 13)\n",
    "    \n",
    "    if int(top) not in range(int(top2)-10, int(top2)+10):\n",
    "        ax.text(gn_df.date[top2], gn_df.avgViewers[top2],\n",
    "                add_text_twitch(int(gn_df.daily_top[top2])),\n",
    "                horizontalalignment='center', size='large', color='firebrick', fontsize = 13)\n",
    "    \n",
    "    plt.show()"
   ]
  },
  {
   "cell_type": "code",
   "execution_count": 39,
   "metadata": {},
   "outputs": [
    {
     "data": {
      "image/png": "[encoded data removed]",
      "text/plain": [
       "<Figure size 1080x720 with 1 Axes>"
      ]
     },
     "metadata": {},
     "output_type": "display_data"
    }
   ],
   "source": [
    "plot_twitch_daily('Super Smash Bros. Melee', dfd)"
   ]
  },
  {
   "cell_type": "code",
   "execution_count": 40,
   "metadata": {},
   "outputs": [],
   "source": [
    "def plot_twitch_hourly(gn, df):\n",
    "    gn_df = df[df.name == gn].sort_values('avgViewers', ascending = False)\n",
    "    if gn_df.shape[0] == 0:\n",
    "        print(\"No Data: Invalid Game Name\")\n",
    "        return None\n",
    "    gn_df['date'] = gn_df['day'] + '-' + gn_df['month'] + '-' + gn_df['year'] + ' ' + gn_df['hour']\n",
    "    gn_df['date'] =  pd.to_datetime(gn_df['date'], format='%d-%m-%Y %H')\n",
    "    \n",
    "    # fill missing values between times\n",
    "    gn_df.index = gn_df['date']\n",
    "    gn_df = gn_df.resample('H', how='mean')\n",
    "    gn_df['date'] = gn_df.index\n",
    "    gn_df.index = pd.RangeIndex(len(gn_df.index))\n",
    "    gn_df['avgViewers'] = gn_df['avgViewers'].fillna(0) # fill avgViewers NAs with 0\n",
    "    \n",
    "    # restore old index\n",
    "    gn_df.index = pd.RangeIndex(len(gn_df.index))\n",
    "    #gn_df['date'] = gn_df['date'].apply(lambda x: datetime.strptime(x, '%d-%m-%Y %H:%M:%S'))\n",
    "    \n",
    "    sns.set_style(\"white\")\n",
    "    # rcParams['font.family'] = 'garamond'\n",
    "    # rcParams['font.family'] = 'helvetica'\n",
    "    rcParams['font.family'] = 'serif'\n",
    "    \n",
    "    fig = plt.figure(figsize=(15, 10))\n",
    "     \n",
    "    ax = sns.lineplot(x=\"date\", y=\"avgViewers\", data=gn_df)\n",
    "    \n",
    "    ax.set_title(\"Average hourly views of {} on Twitch\".format(gn), fontsize=18)\n",
    "    \n",
    "    ax.set_ylabel('', fontsize=16)\n",
    "    ax.set_xlabel('', fontsize=20)\n",
    "    \n",
    "    \n",
    "    ax.xaxis.set_major_locator(mdates.DayLocator(interval=1))\n",
    "    \n",
    "    plt.xticks(rotation=45, fontsize = 13)\n",
    "    plt.yticks(fontsize = 13)\n",
    "    \n",
    "    top = np.argmin(gn_df['hourly_top'])\n",
    "    top2 = np.argmax(gn_df['avgViewers'])\n",
    "    \n",
    "    ax.text(gn_df.date[top], gn_df.avgViewers[top],\n",
    "        add_text_twitch(int(gn_df.hourly_top[top])),\n",
    "        horizontalalignment='center', size='large', color='firebrick', fontsize = 13)\n",
    "    \n",
    "    if int(top) not in range(int(top2)-10, int(top2)+10):\n",
    "        ax.text(gn_df.date[top2], gn_df.avgViewers[top2],\n",
    "                add_text_twitch(int(gn_df.hourly_top[top2])),\n",
    "                horizontalalignment='center', size='large', color='firebrick', fontsize = 13)\n",
    "    \n",
    "    plt.show()"
   ]
  },
  {
   "cell_type": "code",
   "execution_count": 42,
   "metadata": {
    "scrolled": false
   },
   "outputs": [
    {
     "data": {
      "image/png": "[encoded data removed]",
      "text/plain": [
       "<Figure size 1080x720 with 1 Axes>"
      ]
     },
     "metadata": {},
     "output_type": "display_data"
    }
   ],
   "source": [
    "plot_twitch_hourly(\"Super Smash Bros. Melee\", dfh)"
   ]
  },
  {
   "cell_type": "markdown",
   "metadata": {},
   "source": [
    "# Twitter"
   ]
  },
  {
   "cell_type": "markdown",
   "metadata": {},
   "source": [
    "### Get Data"
   ]
  },
  {
   "cell_type": "code",
   "execution_count": 44,
   "metadata": {},
   "outputs": [],
   "source": [
    "pipeline_twit = [{\"$group\": {\"_id\": {\"name\": \"$query\",\n",
    "                                     \"day\": { \"$dayOfMonth\": \"$date\" },\n",
    "                                     \"month\": { \"$month\": \"$date\" },\n",
    "                                     \"year\": { \"$year\": \"$date\" }},\n",
    "                             \"tot_retweets\": { \"$sum\": \"$retweets\" },\n",
    "                             \"tot_likes\": { \"$sum\" : \"$likes\"},\n",
    "                             \"tweet_count\" : { \"$sum\": 1 }\n",
    "                             }},\n",
    "                 {\"$sort\": {\"_id\": 1} }]"
   ]
  },
  {
   "cell_type": "code",
   "execution_count": 45,
   "metadata": {},
   "outputs": [],
   "source": [
    "result_twit = list(db.twitter.aggregate(pipeline_twit))"
   ]
  },
  {
   "cell_type": "code",
   "execution_count": 47,
   "metadata": {},
   "outputs": [
    {
     "data": {
      "text/html": [
       "<div>\n",
       "<style scoped>\n",
       "    .dataframe tbody tr th:only-of-type {\n",
       "        vertical-align: middle;\n",
       "    }\n",
       "\n",
       "    .dataframe tbody tr th {\n",
       "        vertical-align: top;\n",
       "    }\n",
       "\n",
       "    .dataframe thead th {\n",
       "        text-align: right;\n",
       "    }\n",
       "</style>\n",
       "<table border=\"1\" class=\"dataframe\">\n",
       "  <thead>\n",
       "    <tr style=\"text-align: right;\">\n",
       "      <th></th>\n",
       "      <th>name</th>\n",
       "      <th>day</th>\n",
       "      <th>month</th>\n",
       "      <th>year</th>\n",
       "      <th>tot_retweets</th>\n",
       "      <th>tot_likes</th>\n",
       "      <th>tweet_count</th>\n",
       "    </tr>\n",
       "  </thead>\n",
       "  <tbody>\n",
       "    <tr>\n",
       "      <th>0</th>\n",
       "      <td>apex legends</td>\n",
       "      <td>13</td>\n",
       "      <td>6</td>\n",
       "      <td>2019</td>\n",
       "      <td>54</td>\n",
       "      <td>349</td>\n",
       "      <td>96</td>\n",
       "    </tr>\n",
       "    <tr>\n",
       "      <th>1</th>\n",
       "      <td>apex legends</td>\n",
       "      <td>14</td>\n",
       "      <td>6</td>\n",
       "      <td>2019</td>\n",
       "      <td>140</td>\n",
       "      <td>1022</td>\n",
       "      <td>200</td>\n",
       "    </tr>\n",
       "    <tr>\n",
       "      <th>2</th>\n",
       "      <td>apex legends</td>\n",
       "      <td>15</td>\n",
       "      <td>6</td>\n",
       "      <td>2019</td>\n",
       "      <td>160</td>\n",
       "      <td>1154</td>\n",
       "      <td>200</td>\n",
       "    </tr>\n",
       "    <tr>\n",
       "      <th>3</th>\n",
       "      <td>apex legends</td>\n",
       "      <td>16</td>\n",
       "      <td>6</td>\n",
       "      <td>2019</td>\n",
       "      <td>173</td>\n",
       "      <td>1491</td>\n",
       "      <td>169</td>\n",
       "    </tr>\n",
       "    <tr>\n",
       "      <th>4</th>\n",
       "      <td>apex legends</td>\n",
       "      <td>17</td>\n",
       "      <td>6</td>\n",
       "      <td>2019</td>\n",
       "      <td>112</td>\n",
       "      <td>692</td>\n",
       "      <td>16</td>\n",
       "    </tr>\n",
       "  </tbody>\n",
       "</table>\n",
       "</div>"
      ],
      "text/plain": [
       "           name  day  month  year  tot_retweets  tot_likes  tweet_count\n",
       "0  apex legends   13      6  2019            54        349           96\n",
       "1  apex legends   14      6  2019           140       1022          200\n",
       "2  apex legends   15      6  2019           160       1154          200\n",
       "3  apex legends   16      6  2019           173       1491          169\n",
       "4  apex legends   17      6  2019           112        692           16"
      ]
     },
     "execution_count": 47,
     "metadata": {},
     "output_type": "execute_result"
    }
   ],
   "source": [
    "dft= json_normalize(result_twit)\n",
    "dft= dft.rename(index=str, columns={\"_id.name\": \"name\", \"_id.day\": \"day\",\"_id.month\": \"month\",\"_id.year\": \"year\"})\n",
    "dft= dft[['name', 'day', 'month', 'year', 'tot_retweets', 'tot_likes', 'tweet_count']]\n",
    "dft.head()"
   ]
  },
  {
   "cell_type": "markdown",
   "metadata": {},
   "source": [
    "#### Add daily top"
   ]
  },
  {
   "cell_type": "code",
   "execution_count": 48,
   "metadata": {},
   "outputs": [
    {
     "data": {
      "text/html": [
       "<div>\n",
       "<style scoped>\n",
       "    .dataframe tbody tr th:only-of-type {\n",
       "        vertical-align: middle;\n",
       "    }\n",
       "\n",
       "    .dataframe tbody tr th {\n",
       "        vertical-align: top;\n",
       "    }\n",
       "\n",
       "    .dataframe thead th {\n",
       "        text-align: right;\n",
       "    }\n",
       "</style>\n",
       "<table border=\"1\" class=\"dataframe\">\n",
       "  <thead>\n",
       "    <tr style=\"text-align: right;\">\n",
       "      <th></th>\n",
       "      <th>name</th>\n",
       "      <th>day</th>\n",
       "      <th>month</th>\n",
       "      <th>year</th>\n",
       "      <th>tot_retweets</th>\n",
       "      <th>tot_likes</th>\n",
       "      <th>tweet_count</th>\n",
       "      <th>daily_top</th>\n",
       "    </tr>\n",
       "  </thead>\n",
       "  <tbody>\n",
       "    <tr>\n",
       "      <th>0</th>\n",
       "      <td>apex legends</td>\n",
       "      <td>13</td>\n",
       "      <td>6</td>\n",
       "      <td>2019</td>\n",
       "      <td>54</td>\n",
       "      <td>349</td>\n",
       "      <td>96</td>\n",
       "      <td>10</td>\n",
       "    </tr>\n",
       "    <tr>\n",
       "      <th>1</th>\n",
       "      <td>apex legends</td>\n",
       "      <td>14</td>\n",
       "      <td>6</td>\n",
       "      <td>2019</td>\n",
       "      <td>140</td>\n",
       "      <td>1022</td>\n",
       "      <td>200</td>\n",
       "      <td>12</td>\n",
       "    </tr>\n",
       "    <tr>\n",
       "      <th>2</th>\n",
       "      <td>apex legends</td>\n",
       "      <td>15</td>\n",
       "      <td>6</td>\n",
       "      <td>2019</td>\n",
       "      <td>160</td>\n",
       "      <td>1154</td>\n",
       "      <td>200</td>\n",
       "      <td>13</td>\n",
       "    </tr>\n",
       "    <tr>\n",
       "      <th>3</th>\n",
       "      <td>apex legends</td>\n",
       "      <td>16</td>\n",
       "      <td>6</td>\n",
       "      <td>2019</td>\n",
       "      <td>173</td>\n",
       "      <td>1491</td>\n",
       "      <td>169</td>\n",
       "      <td>9</td>\n",
       "    </tr>\n",
       "    <tr>\n",
       "      <th>4</th>\n",
       "      <td>apex legends</td>\n",
       "      <td>17</td>\n",
       "      <td>6</td>\n",
       "      <td>2019</td>\n",
       "      <td>112</td>\n",
       "      <td>692</td>\n",
       "      <td>16</td>\n",
       "      <td>27</td>\n",
       "    </tr>\n",
       "  </tbody>\n",
       "</table>\n",
       "</div>"
      ],
      "text/plain": [
       "           name  day  month  year  tot_retweets  tot_likes  tweet_count  \\\n",
       "0  apex legends   13      6  2019            54        349           96   \n",
       "1  apex legends   14      6  2019           140       1022          200   \n",
       "2  apex legends   15      6  2019           160       1154          200   \n",
       "3  apex legends   16      6  2019           173       1491          169   \n",
       "4  apex legends   17      6  2019           112        692           16   \n",
       "\n",
       "   daily_top  \n",
       "0         10  \n",
       "1         12  \n",
       "2         13  \n",
       "3          9  \n",
       "4         27  "
      ]
     },
     "execution_count": 48,
     "metadata": {},
     "output_type": "execute_result"
    }
   ],
   "source": [
    "dft['daily_top'] = dft.sort_values(['day', 'month', 'year', 'tot_likes'], \n",
    "                                   ascending=[True, True, True, False]\n",
    "                                  ).groupby(['day', 'month', 'year']).cumcount()\n",
    "dft['daily_top'] = dft['daily_top'] + 1\n",
    "dft.head()"
   ]
  },
  {
   "cell_type": "markdown",
   "metadata": {},
   "source": [
    "## Viz Twitter"
   ]
  },
  {
   "cell_type": "code",
   "execution_count": 49,
   "metadata": {},
   "outputs": [],
   "source": [
    "def add_text_tweet(i):\n",
    "    i = str(i)\n",
    "    suff = 'th'\n",
    "    if i[-1] == '1':\n",
    "        suff = 'st'\n",
    "    if i[-1] == '2':\n",
    "        suff = 'nd'\n",
    "    if i[-1] == '3':\n",
    "        suff = 'rd'\n",
    "    suff = suff + ' most liked'\n",
    "    return(i+suff)\n",
    "\n",
    "def plot_twitter_daily(gn, df):\n",
    "    ogn = gn\n",
    "    gn = gn.lower()\n",
    "    gn_df = df[df.name == gn].sort_values('tot_likes', ascending = False)\n",
    "    gn_df['day'] = gn_df['day'].astype(str)\n",
    "    gn_df['month'] = gn_df['month'].astype(str)\n",
    "    gn_df['year'] = gn_df['year'].astype(str)\n",
    "    gn_df['date'] = gn_df['day'] + '-' + gn_df['month'] + '-' + gn_df['year']\n",
    "    gn_df['date'] =  pd.to_datetime(gn_df['date'], format='%d-%m-%Y')\n",
    "    \n",
    "    # fill missing values between times\n",
    "    gn_df.index = gn_df['date']\n",
    "    gn_df = gn_df.resample('D', how='mean')\n",
    "    gn_df['date'] = gn_df.index\n",
    "    gn_df.index = pd.RangeIndex(len(gn_df.index))\n",
    "    gn_df['tot_likes'] = gn_df['tot_likes'].fillna(0) # fill avgViewers NAs with 0\n",
    "    \n",
    "    # restore old index\n",
    "    gn_df.index = pd.RangeIndex(len(gn_df.index))\n",
    "    #gn_df['date'] = gn_df['date'].apply(lambda x: datetime.strptime(x, '%d-%m-%Y %H:%M:%S'))\n",
    "    \n",
    "    sns.set_style(\"white\")\n",
    "    # rcParams['font.family'] = 'garamond'\n",
    "    # rcParams['font.family'] = 'helvetica'\n",
    "    rcParams['font.family'] = 'serif'\n",
    "    \n",
    "    fig = plt.figure(figsize=(15, 10))\n",
    "     \n",
    "    ax = sns.lineplot(x=\"date\", y=\"tot_likes\", data=gn_df#, marker=\"o\"\n",
    "                     )\n",
    "    \n",
    "    ax.set_title(\"Daily total tweet likes for {} on Twitter\".format(ogn), fontsize=18)\n",
    "    \n",
    "    ax.set_ylabel('', fontsize=16)\n",
    "    ax.set_xlabel('', fontsize=20)\n",
    "    \n",
    "    \n",
    "    ax.xaxis.set_major_locator(mdates.DayLocator(interval=1))\n",
    "    \n",
    "    plt.xticks(rotation=45, fontsize = 13)\n",
    "    plt.yticks(fontsize = 13)\n",
    "    \n",
    "    top = np.argmin(gn_df['daily_top'])\n",
    "    top2 = np.argmax(gn_df['tot_likes'])\n",
    "    \n",
    "    ax.text(gn_df.date[top], gn_df.tot_likes[top],\n",
    "        add_text_tweet(int(gn_df.daily_top[top])),\n",
    "        horizontalalignment='center', size='large', color='firebrick', fontsize = 13)\n",
    "    \n",
    "    if int(top) not in range(int(top2)-10, int(top2)+10):\n",
    "        ax.text(gn_df.date[top2], gn_df.tot_likes[top2],\n",
    "                add_text_tweet(int(gn_df.daily_top[top2])),\n",
    "                horizontalalignment='center', size='large', color='firebrick', fontsize = 13)\n",
    "    \n",
    "    plt.show()"
   ]
  },
  {
   "cell_type": "code",
   "execution_count": 50,
   "metadata": {},
   "outputs": [
    {
     "data": {
      "image/png": "[encoded data removed]",
      "text/plain": [
       "<Figure size 1080x720 with 1 Axes>"
      ]
     },
     "metadata": {},
     "output_type": "display_data"
    }
   ],
   "source": [
    "plot_twitter_daily('Super Smash Bros. Melee', dft)"
   ]
  },
  {
   "cell_type": "markdown",
   "metadata": {},
   "source": [
    "# Close server"
   ]
  },
  {
   "cell_type": "code",
   "execution_count": 51,
   "metadata": {},
   "outputs": [],
   "source": [
    "if server.is_active:\n",
    "    server.stop()"
   ]
  }
 ],
 "metadata": {
  "kernelspec": {
   "display_name": "Python 3",
   "language": "python",
   "name": "python3"
  },
  "language_info": {
   "codemirror_mode": {
    "name": "ipython",
    "version": 3
   },
   "file_extension": ".py",
   "mimetype": "text/x-python",
   "name": "python",
   "nbconvert_exporter": "python",
   "pygments_lexer": "ipython3",
   "version": "3.6.8"
  }
 },
 "nbformat": 4,
 "nbformat_minor": 2
}
