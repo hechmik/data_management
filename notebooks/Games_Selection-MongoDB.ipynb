{
 "cells": [
  {
   "cell_type": "code",
   "execution_count": 1,
   "metadata": {},
   "outputs": [],
   "source": [
    "from bson.son import SON"
   ]
  },
  {
   "cell_type": "code",
   "execution_count": 7,
   "metadata": {},
   "outputs": [],
   "source": [
    "from pymongo import MongoClient\n",
    "import re\n",
    "import sys\n",
    "import json\n",
    "import pandas as pd\n",
    "import numpy as np"
   ]
  },
  {
   "cell_type": "code",
   "execution_count": 8,
   "metadata": {},
   "outputs": [],
   "source": [
    "sys.path.insert(0, '../scripts')"
   ]
  },
  {
   "cell_type": "code",
   "execution_count": 9,
   "metadata": {},
   "outputs": [],
   "source": [
    "import uniformer"
   ]
  },
  {
   "cell_type": "markdown",
   "metadata": {},
   "source": [
    "## Connect to remote mongodb"
   ]
  },
  {
   "cell_type": "code",
   "execution_count": 10,
   "metadata": {},
   "outputs": [],
   "source": [
    "from sshtunnel import SSHTunnelForwarder\n",
    "import pymongo"
   ]
  },
  {
   "cell_type": "code",
   "execution_count": 11,
   "metadata": {},
   "outputs": [],
   "source": [
    "with open('keys.json') as k:\n",
    "    keys = json.loads(k.read())\n",
    "    MONGO_HOST = keys[\"SSH\"][\"MONGO_HOST\"] # i.e. 10.9.13.14\n",
    "    MONGO_DB = keys[\"SSH\"][\"MONGO_DB\"] # i.e. dm_project \n",
    "    MONGO_USER = keys[\"SSH\"][\"MONGO_USER\"] # i.e. studente\n",
    "    MONGO_PASS = keys[\"SSH\"][\"MONGO_PASS\"] # i.e. la password della vm\n",
    "\n",
    "server = SSHTunnelForwarder(\n",
    "    MONGO_HOST,\n",
    "    ssh_username=MONGO_USER,\n",
    "    ssh_password=MONGO_PASS,\n",
    "    remote_bind_address=('127.0.0.1', 27017)\n",
    ")"
   ]
  },
  {
   "cell_type": "code",
   "execution_count": 12,
   "metadata": {},
   "outputs": [],
   "source": [
    "server.start() # remember to stop"
   ]
  },
  {
   "cell_type": "code",
   "execution_count": 13,
   "metadata": {},
   "outputs": [],
   "source": [
    "client = pymongo.MongoClient('127.0.0.1', server.local_bind_port) # server.local_bind_port is assigned local port\n",
    "db = client[MONGO_DB]"
   ]
  },
  {
   "cell_type": "code",
   "execution_count": 14,
   "metadata": {},
   "outputs": [
    {
     "data": {
      "text/plain": [
       "['system.indexes', 'twitch', 'twitter', 'vgchartz']"
      ]
     },
     "execution_count": 14,
     "metadata": {},
     "output_type": "execute_result"
    }
   ],
   "source": [
    "db.list_collection_names()"
   ]
  },
  {
   "cell_type": "code",
   "execution_count": 15,
   "metadata": {},
   "outputs": [],
   "source": [
    "games_coll = db.twitch"
   ]
  },
  {
   "cell_type": "markdown",
   "metadata": {},
   "source": [
    "## Top N games on twitch (collected between 28/05 and 30/05)"
   ]
  },
  {
   "cell_type": "markdown",
   "metadata": {},
   "source": [
    "Just to check: how many times data from twitch has been collected between 28 and 30 May. We gather all the timestamps"
   ]
  },
  {
   "cell_type": "code",
   "execution_count": 16,
   "metadata": {},
   "outputs": [],
   "source": [
    "pipeline = [{ \"$match\" : {'$and' : [\n",
    "                {'timestamp' : {'$gt' : '2019-05-28'}},\n",
    "                {'timestamp' : {'$lt' : '2019-05-30'}}\n",
    "            ]}}, {\"$project\":\n",
    "             {'_id': 0,\n",
    "              'time':'$timestamp'} }]"
   ]
  },
  {
   "cell_type": "code",
   "execution_count": 17,
   "metadata": {},
   "outputs": [],
   "source": [
    "tsmps = list(games_coll.aggregate(pipeline))"
   ]
  },
  {
   "cell_type": "code",
   "execution_count": 18,
   "metadata": {},
   "outputs": [
    {
     "data": {
      "text/plain": [
       "20.0"
      ]
     },
     "execution_count": 18,
     "metadata": {},
     "output_type": "execute_result"
    }
   ],
   "source": [
    "len(tsmps)/ 48"
   ]
  },
  {
   "cell_type": "markdown",
   "metadata": {},
   "source": [
    "Data has been collected every 3 minutes, so 20 times each hour is correct."
   ]
  },
  {
   "cell_type": "code",
   "execution_count": 19,
   "metadata": {},
   "outputs": [],
   "source": [
    "pipeline = [{\"$unwind\": \"$data\"},\n",
    "            { \"$match\" : {'$and' : [\n",
    "                {'timestamp' : {'$gt' : '2019-05-28'}},\n",
    "                {'timestamp' : {'$lt' : '2019-05-30'}}\n",
    "            ]}},\n",
    "            { \"$group\": {\"_id\": {\"name\": \"$data.game.name\",\n",
    "                                 \"norm_name\" : \"$data.game.norm_name\",\n",
    "                                 \"unary_name\" : \"$data.game.unary_name\",\n",
    "                                 \"twitch_id\" : \"$data.game._id\"},\n",
    "                         \"avgViewers\": { \"$avg\": '$data.viewers'}}},\n",
    "           {\"$sort\": SON([(\"avgViewers\", -1), (\"_id\", -1)])}]"
   ]
  },
  {
   "cell_type": "code",
   "execution_count": 20,
   "metadata": {},
   "outputs": [],
   "source": [
    "top_twitch = list(db.twitch.aggregate(pipeline))"
   ]
  },
  {
   "cell_type": "code",
   "execution_count": 21,
   "metadata": {},
   "outputs": [
    {
     "data": {
      "text/plain": [
       "[{'_id': {'name': 'Fortnite',\n",
       "   'norm_name': 'fortnite',\n",
       "   'unary_name': 'fortnite',\n",
       "   'twitch_id': 33214},\n",
       "  'avgViewers': 126368.478125},\n",
       " {'_id': {'name': 'League of Legends',\n",
       "   'norm_name': 'league of legends',\n",
       "   'unary_name': 'league of legends',\n",
       "   'twitch_id': 21779},\n",
       "  'avgViewers': 117746.63333333333},\n",
       " {'_id': {'name': 'Grand Theft Auto V',\n",
       "   'norm_name': 'grand theft auto v',\n",
       "   'unary_name': 'grand theft auto v',\n",
       "   'twitch_id': 32982},\n",
       "  'avgViewers': 94222.24895833334}]"
      ]
     },
     "execution_count": 21,
     "metadata": {},
     "output_type": "execute_result"
    }
   ],
   "source": [
    "top_twitch[0:3]"
   ]
  },
  {
   "cell_type": "code",
   "execution_count": 22,
   "metadata": {},
   "outputs": [],
   "source": [
    "top_twitch = [\n",
    "    {'name' : elem['_id']['name'],\n",
    "     'norm_name' : elem['_id']['norm_name'],\n",
    "     'unary_name' : elem['_id']['unary_name'],\n",
    "     'twitch_id' : elem['_id']['twitch_id'],\n",
    "     'avgViewers' : elem['avgViewers']\n",
    "    } for elem in top_twitch\n",
    "]"
   ]
  },
  {
   "cell_type": "code",
   "execution_count": 23,
   "metadata": {},
   "outputs": [
    {
     "data": {
      "text/plain": [
       "[{'name': 'Fortnite',\n",
       "  'norm_name': 'fortnite',\n",
       "  'unary_name': 'fortnite',\n",
       "  'twitch_id': 33214,\n",
       "  'avgViewers': 126368.478125},\n",
       " {'name': 'League of Legends',\n",
       "  'norm_name': 'league of legends',\n",
       "  'unary_name': 'league of legends',\n",
       "  'twitch_id': 21779,\n",
       "  'avgViewers': 117746.63333333333},\n",
       " {'name': 'Grand Theft Auto V',\n",
       "  'norm_name': 'grand theft auto v',\n",
       "  'unary_name': 'grand theft auto v',\n",
       "  'twitch_id': 32982,\n",
       "  'avgViewers': 94222.24895833334}]"
      ]
     },
     "execution_count": 23,
     "metadata": {},
     "output_type": "execute_result"
    }
   ],
   "source": [
    "top_twitch[0:3]"
   ]
  },
  {
   "cell_type": "code",
   "execution_count": 24,
   "metadata": {},
   "outputs": [
    {
     "data": {
      "text/html": [
       "<div>\n",
       "<style scoped>\n",
       "    .dataframe tbody tr th:only-of-type {\n",
       "        vertical-align: middle;\n",
       "    }\n",
       "\n",
       "    .dataframe tbody tr th {\n",
       "        vertical-align: top;\n",
       "    }\n",
       "\n",
       "    .dataframe thead th {\n",
       "        text-align: right;\n",
       "    }\n",
       "</style>\n",
       "<table border=\"1\" class=\"dataframe\">\n",
       "  <thead>\n",
       "    <tr style=\"text-align: right;\">\n",
       "      <th></th>\n",
       "      <th>avgViewers</th>\n",
       "      <th>name</th>\n",
       "      <th>norm_name</th>\n",
       "      <th>twitch_id</th>\n",
       "      <th>unary_name</th>\n",
       "    </tr>\n",
       "  </thead>\n",
       "  <tbody>\n",
       "    <tr>\n",
       "      <th>0</th>\n",
       "      <td>126368.478125</td>\n",
       "      <td>Fortnite</td>\n",
       "      <td>fortnite</td>\n",
       "      <td>33214</td>\n",
       "      <td>fortnite</td>\n",
       "    </tr>\n",
       "    <tr>\n",
       "      <th>1</th>\n",
       "      <td>117746.633333</td>\n",
       "      <td>League of Legends</td>\n",
       "      <td>league of legends</td>\n",
       "      <td>21779</td>\n",
       "      <td>league of legends</td>\n",
       "    </tr>\n",
       "    <tr>\n",
       "      <th>2</th>\n",
       "      <td>94222.248958</td>\n",
       "      <td>Grand Theft Auto V</td>\n",
       "      <td>grand theft auto v</td>\n",
       "      <td>32982</td>\n",
       "      <td>grand theft auto v</td>\n",
       "    </tr>\n",
       "    <tr>\n",
       "      <th>3</th>\n",
       "      <td>79284.045833</td>\n",
       "      <td>Just Chatting</td>\n",
       "      <td>just chatting</td>\n",
       "      <td>509658</td>\n",
       "      <td>just chatting</td>\n",
       "    </tr>\n",
       "    <tr>\n",
       "      <th>4</th>\n",
       "      <td>68005.006250</td>\n",
       "      <td>Dota 2</td>\n",
       "      <td>dota ii</td>\n",
       "      <td>29595</td>\n",
       "      <td>dota ii</td>\n",
       "    </tr>\n",
       "  </tbody>\n",
       "</table>\n",
       "</div>"
      ],
      "text/plain": [
       "      avgViewers                name           norm_name  twitch_id  \\\n",
       "0  126368.478125            Fortnite            fortnite      33214   \n",
       "1  117746.633333   League of Legends   league of legends      21779   \n",
       "2   94222.248958  Grand Theft Auto V  grand theft auto v      32982   \n",
       "3   79284.045833       Just Chatting       just chatting     509658   \n",
       "4   68005.006250              Dota 2             dota ii      29595   \n",
       "\n",
       "           unary_name  \n",
       "0            fortnite  \n",
       "1   league of legends  \n",
       "2  grand theft auto v  \n",
       "3       just chatting  \n",
       "4             dota ii  "
      ]
     },
     "execution_count": 24,
     "metadata": {},
     "output_type": "execute_result"
    }
   ],
   "source": [
    "top_twitch_df = pd.DataFrame(top_twitch)\n",
    "top_twitch_df.head()"
   ]
  },
  {
   "cell_type": "markdown",
   "metadata": {},
   "source": [
    "# Top N games on Vgchartz from Mongo DB"
   ]
  },
  {
   "cell_type": "markdown",
   "metadata": {},
   "source": [
    "It is necessary to execute the Notebook \"Save Top N games on MongoDB\" before executing the next code chunks"
   ]
  },
  {
   "cell_type": "code",
   "execution_count": 25,
   "metadata": {},
   "outputs": [],
   "source": [
    "top_games_vg = db.vgchartz"
   ]
  },
  {
   "cell_type": "markdown",
   "metadata": {},
   "source": [
    "Quick check for seeing if everything was loaded correctly"
   ]
  },
  {
   "cell_type": "code",
   "execution_count": 26,
   "metadata": {},
   "outputs": [
    {
     "data": {
      "text/plain": [
       "{'_id': ObjectId('5d13adcef0bd0623b0487cfe'),\n",
       " 'Rank': 1,\n",
       " 'Name': 'Wii Sports',\n",
       " 'Platform': 'Wii',\n",
       " 'Year': 2006.0,\n",
       " 'href_Genre': 'http://www.vgchartz.com/game/2667/wii-sports/?region=All',\n",
       " 'Publisher': 'Nintendo  ',\n",
       " 'Developer': 'Nintendo EAD  ',\n",
       " 'Critic_Score': 7.7,\n",
       " 'User_Score': nan,\n",
       " 'NA_Sales': 41.36,\n",
       " 'PAL_Sales': 29.02,\n",
       " 'JP_Sales': 3.77,\n",
       " 'Other_Sales': 8.51,\n",
       " 'Global_Sales': 82.65}"
      ]
     },
     "execution_count": 26,
     "metadata": {},
     "output_type": "execute_result"
    }
   ],
   "source": [
    "top_games_vg.find_one()"
   ]
  },
  {
   "cell_type": "markdown",
   "metadata": {},
   "source": [
    "Vgchartz returns the global sales data for each game and for each Platform. Therefore the game \"Grand Theft Auto V\" will appear several times. Let's find out if this is correct."
   ]
  },
  {
   "cell_type": "code",
   "execution_count": 27,
   "metadata": {},
   "outputs": [
    {
     "name": "stdout",
     "output_type": "stream",
     "text": [
      "{'_id': ObjectId('5d13adcef0bd0623b0487d0f'), 'Rank': 20, 'Name': 'Grand Theft Auto V', 'Platform': 'PS3', 'Year': 2013.0, 'href_Genre': 'http://www.vgchartz.com/game/65884/grand-theft-auto-v/?region=All', 'Publisher': 'Rockstar Games  ', 'Developer': 'Rockstar North  ', 'Critic_Score': 9.4, 'User_Score': nan, 'NA_Sales': 6.37, 'PAL_Sales': 9.85, 'JP_Sales': 0.99, 'Other_Sales': 3.12, 'Global_Sales': 20.32}\n",
      "{'_id': ObjectId('5d13adcef0bd0623b0487d10'), 'Rank': 21, 'Name': 'Grand Theft Auto V', 'Platform': 'PS4', 'Year': 2014.0, 'href_Genre': 'http://www.vgchartz.com/game/83196/grand-theft-auto-v/?region=All', 'Publisher': 'Rockstar Games  ', 'Developer': 'Rockstar North  ', 'Critic_Score': 9.7, 'User_Score': nan, 'NA_Sales': 6.06, 'PAL_Sales': 9.71, 'JP_Sales': 0.6, 'Other_Sales': 3.02, 'Global_Sales': 19.39}\n",
      "{'_id': ObjectId('5d13adcef0bd0623b0487d1c'), 'Rank': 34, 'Name': 'Grand Theft Auto V', 'Platform': 'X360', 'Year': 2013.0, 'href_Genre': 'http://www.vgchartz.com/game/65883/grand-theft-auto-v/?region=All', 'Publisher': 'Rockstar Games  ', 'Developer': 'Rockstar North  ', 'Critic_Score': nan, 'User_Score': nan, 'NA_Sales': 9.06, 'PAL_Sales': 5.33, 'JP_Sales': 0.06, 'Other_Sales': 1.42, 'Global_Sales': 15.86}\n",
      "{'_id': ObjectId('5d13adcef0bd0623b0487d39'), 'Rank': 63, 'Name': 'Grand Theft Auto V', 'Platform': 'PC', 'Year': 2015.0, 'href_Genre': 'http://www.vgchartz.com/game/83197/grand-theft-auto-v/?region=All', 'Publisher': 'Rockstar Games  ', 'Developer': 'Rockstar North  ', 'Critic_Score': nan, 'User_Score': nan, 'NA_Sales': 0.48, 'PAL_Sales': 0.76, 'JP_Sales': nan, 'Other_Sales': 0.1, 'Global_Sales': 1.33}\n",
      "{'_id': ObjectId('5d13adcef0bd0623b0487d64'), 'Rank': 108, 'Name': 'Grand Theft Auto V', 'Platform': 'XOne', 'Year': 2014.0, 'href_Genre': 'http://www.vgchartz.com/game/73074/grand-theft-auto-v/?region=All', 'Publisher': 'Rockstar Games  ', 'Developer': 'Rockstar North  ', 'Critic_Score': 9.0, 'User_Score': 9.0, 'NA_Sales': 4.7, 'PAL_Sales': 3.25, 'JP_Sales': 0.01, 'Other_Sales': 0.76, 'Global_Sales': 8.72}\n"
     ]
    }
   ],
   "source": [
    "gtaV_occurences = top_games_vg.find({\"Name\": \"Grand Theft Auto V\"})\n",
    "for game in gtaV_occurences:\n",
    "    print(game)"
   ]
  },
  {
   "cell_type": "markdown",
   "metadata": {},
   "source": [
    "As imagined there is one data entry for each platform. We are interested in the \"whole\" game performance, therefore we will perform the following actions:\n",
    "- Group by the games according to their name.\n",
    "- Sum all the global sales\n",
    "- Average the Critic Score\n",
    "- Average the User Score\n",
    "- Store all Platforms: as in the GTA V case many games were released for different platforms, therefore it is important to not lose this info after the group by\n",
    "- Store all the game developers: it is possible that the games that were released for different platforms were developed by different software houses, therefore it is importat to not lose this info after the group by\n",
    "\n",
    "\n",
    "The following pipeline perform as first operation the creation of two attributes (Critic_Score_norm and User_Score_norm) where all the NaN were replaced with null. In this way they aren't considered the average operation doesn't consider them."
   ]
  },
  {
   "cell_type": "code",
   "execution_count": null,
   "metadata": {},
   "outputs": [],
   "source": [
    "vgchartz_pipeline = [\n",
    "     { \"$addFields\": {\n",
    "         \"Critic_Score_norm\": {\"$cond\": \n",
    "             { \"if\": { \"$eq\": [ \"$Critic_Score\", np.nan ] }, \n",
    "                   \"then\": \"null\", \n",
    "                   \"else\": \"$Critic_Score\" }},\n",
    "         \"User_Score_norm\": {\"$cond\": \n",
    "             { \"if\": { \"$eq\": [ \"$User_Score\", np.nan ] }, \n",
    "                   \"then\": \"null\", \n",
    "                   \"else\": \"$User_Score\" }}\n",
    "        }\n",
    "     }, \n",
    "    { \"$group\": {\n",
    "        \"_id\": \"$Name\",\n",
    "        \"Name\": {\"$first\":\"$Name\"}, #This is necessary because every variable assignment should be done using group operators\n",
    "        \"Global_sales_all_platform\": {\"$sum\": \"$Global_Sales\"},\n",
    "        \"Year\": {\"$first\": \"$Year\"},\n",
    "        \"Critic_score\": {\"$avg\":\"$Critic_Score_norm\"},\n",
    "        \"User_score\": {\"$avg\":\"$User_Score_norm\"},\n",
    "        \"Publishers\": {\"$push\": {\"$concat\":[\"$Publisher\"]}},\n",
    "        \"Developers\": {\"$push\": {\"$concat\":[\"$Developer\"]}},\n",
    "        \"Platforms\": {\"$push\": {\"$concat\":[\"$Platform\"]}}\n",
    "        }\n",
    "    },\n",
    "    { \"$project\": { \"_id\": 0 } },\n",
    "    {\"$sort\": {\"Global_sales_all_platform\": -1} }]\n",
    "top_vgchartz = list(top_games_vg.aggregate(vgchartz_pipeline))"
   ]
  },
  {
   "cell_type": "code",
   "execution_count": null,
   "metadata": {},
   "outputs": [],
   "source": [
    "vgchartz_df = pd.DataFrame.from_dict(top_vgchartz)\n",
    "vgchartz_df.head(5)"
   ]
  },
  {
   "cell_type": "markdown",
   "metadata": {},
   "source": [
    "# Join Vgchartz and Twitch Data"
   ]
  },
  {
   "cell_type": "markdown",
   "metadata": {},
   "source": [
    "Let's join the data and see the first 25 games"
   ]
  },
  {
   "cell_type": "code",
   "execution_count": null,
   "metadata": {},
   "outputs": [],
   "source": [
    "merged_df = pd.merge(vgchartz_df, top_twitch_df,  left_on = 'Name', right_on = 'name', how = 'outer')\n",
    "merged_df[['Name', 'twitch_id', 'norm_name', 'name']].loc[0:24]"
   ]
  },
  {
   "cell_type": "markdown",
   "metadata": {},
   "source": [
    "As you can see there may be no match between the two dataframes. In order to find more matches we try to transform the names in both dataframes into the same format, by lowering the name, deleting some punctuation and converting arabic numbers to roman. This has already been done to the Twitch data, resultinng in the field 'norm_name', so we just need to do this for the vgchartz df."
   ]
  },
  {
   "cell_type": "code",
   "execution_count": null,
   "metadata": {},
   "outputs": [],
   "source": [
    "top_twitch_df.head(5)"
   ]
  },
  {
   "cell_type": "markdown",
   "metadata": {},
   "source": [
    "We will use a specific custom function that will \"normalize\" the names."
   ]
  },
  {
   "cell_type": "code",
   "execution_count": null,
   "metadata": {},
   "outputs": [],
   "source": [
    "vgchartz_df['Norm_name_vgchartz'] = vgchartz_df['Name'].apply(lambda x: uniformer.uniform(x))"
   ]
  },
  {
   "cell_type": "code",
   "execution_count": null,
   "metadata": {},
   "outputs": [],
   "source": [
    "merged_df = pd.merge(vgchartz_df, top_twitch_df,  left_on = 'Norm_name_vgchartz', right_on = 'norm_name', how = 'outer').loc[0:50]\n",
    "merged_df[['Norm_name_vgchartz', 'norm_name', 'Name', 'name', 'twitch_id']]"
   ]
  },
  {
   "cell_type": "markdown",
   "metadata": {},
   "source": [
    "Let's check which matches are still missing:"
   ]
  },
  {
   "cell_type": "code",
   "execution_count": null,
   "metadata": {},
   "outputs": [],
   "source": [
    "merged_df[merged_df['norm_name'].isna()][['Norm_name_vgchartz']]"
   ]
  },
  {
   "cell_type": "markdown",
   "metadata": {},
   "source": [
    "- pokemon red / green / blue is called different"
   ]
  },
  {
   "cell_type": "code",
   "execution_count": null,
   "metadata": {},
   "outputs": [],
   "source": [
    "top_twitch_df[top_twitch_df['norm_name'].str.contains('pokémon red')]"
   ]
  },
  {
   "cell_type": "markdown",
   "metadata": {},
   "source": [
    "Because I can't see them I will try a broader query on twitch collection and try to retrieve the names"
   ]
  },
  {
   "cell_type": "code",
   "execution_count": null,
   "metadata": {},
   "outputs": [],
   "source": [
    "vgchartz_df.loc[vgchartz_df.Norm_name_vgchartz == \"pokémon red / green / blue version\", \"Norm_name_vgchartz\"] = 'pokémon red/blue'"
   ]
  },
  {
   "cell_type": "markdown",
   "metadata": {},
   "source": [
    "- call of duty modern warfare ii is called slightly different"
   ]
  },
  {
   "cell_type": "code",
   "execution_count": null,
   "metadata": {},
   "outputs": [],
   "source": [
    "top_twitch_df[top_twitch_df['norm_name'].str.contains('modern warfare')]"
   ]
  },
  {
   "cell_type": "code",
   "execution_count": null,
   "metadata": {},
   "outputs": [],
   "source": [
    "vgchartz_df.loc[vgchartz_df.Norm_name_vgchartz == \"call of duty modern warfare ii\", \"Norm_name_vgchartz\"] = 'modern warfare ii'"
   ]
  },
  {
   "cell_type": "markdown",
   "metadata": {},
   "source": [
    "- nintendogs is not on twitch"
   ]
  },
  {
   "cell_type": "code",
   "execution_count": null,
   "metadata": {},
   "outputs": [],
   "source": [
    "top_twitch_df[top_twitch_df['norm_name'].str.contains('nintend')]"
   ]
  },
  {
   "cell_type": "markdown",
   "metadata": {},
   "source": [
    "- wii fit/ wii fit plus are not on twitch"
   ]
  },
  {
   "cell_type": "code",
   "execution_count": null,
   "metadata": {},
   "outputs": [],
   "source": [
    "top_twitch_df[top_twitch_df['norm_name'].str.contains('wii')]"
   ]
  },
  {
   "cell_type": "markdown",
   "metadata": {},
   "source": [
    "- knect adventures is not on twitch"
   ]
  },
  {
   "cell_type": "code",
   "execution_count": null,
   "metadata": {},
   "outputs": [],
   "source": [
    "top_twitch_df[top_twitch_df['norm_name'].str.contains('kinect')]"
   ]
  },
  {
   "cell_type": "markdown",
   "metadata": {},
   "source": [
    "- brain age/ brain age 2 are not on twitch"
   ]
  },
  {
   "cell_type": "code",
   "execution_count": null,
   "metadata": {},
   "outputs": [],
   "source": [
    "top_twitch_df[top_twitch_df['norm_name'].str.contains('brain')]"
   ]
  },
  {
   "cell_type": "markdown",
   "metadata": {},
   "source": [
    "Solving the remaining Pokemon discrepancies:"
   ]
  },
  {
   "cell_type": "code",
   "execution_count": null,
   "metadata": {},
   "outputs": [],
   "source": [
    "top_twitch_df[top_twitch_df['norm_name'].str.contains('ruby')]"
   ]
  },
  {
   "cell_type": "code",
   "execution_count": null,
   "metadata": {},
   "outputs": [],
   "source": [
    "vgchartz_df.loc[vgchartz_df.Norm_name_vgchartz == \"pokémon ruby / sapphire version\", 'Norm_name_vgchartz'] = 'pokémon ruby/sapphire'"
   ]
  },
  {
   "cell_type": "code",
   "execution_count": null,
   "metadata": {},
   "outputs": [],
   "source": [
    "top_twitch_df[top_twitch_df['norm_name'].str.contains('pearl')]"
   ]
  },
  {
   "cell_type": "code",
   "execution_count": null,
   "metadata": {},
   "outputs": [],
   "source": [
    "vgchartz_df.loc[vgchartz_df.Norm_name_vgchartz == \"pokémon diamond / pearl version\", \"Norm_name_vgchartz\"] = 'pokémon diamond/pearl'"
   ]
  },
  {
   "cell_type": "code",
   "execution_count": null,
   "metadata": {},
   "outputs": [],
   "source": [
    "top_twitch_df[top_twitch_df['norm_name'].str.contains('pokémon gold')]"
   ]
  },
  {
   "cell_type": "code",
   "execution_count": null,
   "metadata": {},
   "outputs": [],
   "source": [
    "vgchartz_df.loc[vgchartz_df.Norm_name_vgchartz == \"pokémon gold / silver version\", \"Norm_name_vgchartz\"] = 'pokémon gold/silver'"
   ]
  },
  {
   "cell_type": "markdown",
   "metadata": {},
   "source": [
    "- Let's see if Fifa 13 is available on twitch"
   ]
  },
  {
   "cell_type": "code",
   "execution_count": null,
   "metadata": {},
   "outputs": [],
   "source": [
    "top_twitch_df[top_twitch_df['norm_name'].str.contains('fifa')]"
   ]
  },
  {
   "cell_type": "code",
   "execution_count": null,
   "metadata": {},
   "outputs": [],
   "source": [
    "vgchartz_df.loc[vgchartz_df.Norm_name_vgchartz == \"fifa xiii\", \"Norm_name_vgchartz\"] = 'fifa soccer xiii'"
   ]
  },
  {
   "cell_type": "markdown",
   "metadata": {},
   "source": [
    "Now the main discrepancies are solved, let's rejoin the datasets"
   ]
  },
  {
   "cell_type": "markdown",
   "metadata": {},
   "source": [
    "## Merge data"
   ]
  },
  {
   "cell_type": "code",
   "execution_count": null,
   "metadata": {},
   "outputs": [],
   "source": [
    "top_twitch_vgchartz = pd.merge(vgchartz_df, top_twitch_df,  left_on = 'Norm_name_vgchartz', right_on = 'norm_name', how = 'outer').loc[0:50]"
   ]
  },
  {
   "cell_type": "code",
   "execution_count": null,
   "metadata": {},
   "outputs": [],
   "source": [
    "top_twitch_vgchartz.head(25)"
   ]
  },
  {
   "cell_type": "markdown",
   "metadata": {},
   "source": [
    "## Identifying the final list of 50 games"
   ]
  },
  {
   "cell_type": "markdown",
   "metadata": {},
   "source": [
    "We have decided to monitor the following data:\n",
    "- Top 25 games from vgchartz (excluding the ones that aren't on twitch)\n",
    "- Top 25 games from twitch (excluding the ones that were previously selected)"
   ]
  },
  {
   "cell_type": "markdown",
   "metadata": {},
   "source": [
    "### Select top 25 from vgchartz"
   ]
  },
  {
   "cell_type": "code",
   "execution_count": null,
   "metadata": {},
   "outputs": [],
   "source": [
    "top_25_vgchartz = top_twitch_vgchartz[top_twitch_vgchartz.norm_name.notnull()].reset_index().loc[0:24]"
   ]
  },
  {
   "cell_type": "code",
   "execution_count": null,
   "metadata": {},
   "outputs": [],
   "source": [
    "top_25_vgchartz"
   ]
  },
  {
   "cell_type": "markdown",
   "metadata": {},
   "source": [
    "# Select top 25 games from Twitch"
   ]
  },
  {
   "cell_type": "markdown",
   "metadata": {},
   "source": [
    "Extract the name from \"top_25_vgchartz\" and store them in the final list\n"
   ]
  },
  {
   "cell_type": "code",
   "execution_count": null,
   "metadata": {},
   "outputs": [],
   "source": [
    "top_50_games = set(top_25_vgchartz['name'])\n",
    "len(top_50_games)"
   ]
  },
  {
   "cell_type": "markdown",
   "metadata": {},
   "source": [
    "Keep adding games from the twitch DF, ordered by avgViewers, until 50 games are stored"
   ]
  },
  {
   "cell_type": "code",
   "execution_count": null,
   "metadata": {},
   "outputs": [],
   "source": [
    "top_twitch_df.head()"
   ]
  },
  {
   "cell_type": "code",
   "execution_count": null,
   "metadata": {},
   "outputs": [],
   "source": [
    "index = 0\n",
    "while len(top_50_games) < 50:\n",
    "    game = top_twitch_df.loc[index]\n",
    "    top_50_games.add(game['name'])\n",
    "    index += 1"
   ]
  },
  {
   "cell_type": "code",
   "execution_count": null,
   "metadata": {
    "scrolled": true
   },
   "outputs": [],
   "source": [
    "top_50_games"
   ]
  },
  {
   "cell_type": "code",
   "execution_count": null,
   "metadata": {},
   "outputs": [],
   "source": [
    "len(top_50_games)"
   ]
  },
  {
   "cell_type": "markdown",
   "metadata": {},
   "source": [
    "#  Same games selection, with norm_name"
   ]
  },
  {
   "cell_type": "markdown",
   "metadata": {},
   "source": [
    "Extract the normalized name from \"top_25_vgchartz\" and store them in the final JSON Files. This is done because it will be easier to collect data because of the lack of punctuation characters"
   ]
  },
  {
   "cell_type": "code",
   "execution_count": null,
   "metadata": {},
   "outputs": [],
   "source": [
    "top_50_games_n = set(top_25_vgchartz['norm_name'])\n",
    "len(top_50_games_n)"
   ]
  },
  {
   "cell_type": "markdown",
   "metadata": {},
   "source": [
    "Keep adding games from the twitch DF, ordered by avgViewers, until 50 games are stored"
   ]
  },
  {
   "cell_type": "code",
   "execution_count": null,
   "metadata": {},
   "outputs": [],
   "source": [
    "top_twitch_df.head()"
   ]
  },
  {
   "cell_type": "code",
   "execution_count": null,
   "metadata": {},
   "outputs": [],
   "source": [
    "index = 0\n",
    "while len(top_50_games_n) < 50:\n",
    "    game = top_twitch_df.loc[index]\n",
    "    top_50_games_n.add(game['norm_name'])\n",
    "    index += 1"
   ]
  },
  {
   "cell_type": "code",
   "execution_count": null,
   "metadata": {},
   "outputs": [],
   "source": [
    "top_50_games_n"
   ]
  },
  {
   "cell_type": "code",
   "execution_count": null,
   "metadata": {},
   "outputs": [],
   "source": [
    "len(top_50_games_n)"
   ]
  },
  {
   "cell_type": "markdown",
   "metadata": {},
   "source": [
    "## Let's store the list as a JSON file"
   ]
  },
  {
   "cell_type": "code",
   "execution_count": null,
   "metadata": {},
   "outputs": [],
   "source": [
    "import json"
   ]
  },
  {
   "cell_type": "code",
   "execution_count": null,
   "metadata": {},
   "outputs": [],
   "source": [
    "top50_json = {\n",
    "                \"selected_top_50_games\": {\n",
    "                    \"name\": list(top_50_games), \n",
    "                    \"norm_name\": list(top_50_games_n)\n",
    "                 }\n",
    "             }"
   ]
  },
  {
   "cell_type": "code",
   "execution_count": null,
   "metadata": {},
   "outputs": [],
   "source": [
    "with open(\"../top_50_games_to_monitor.json\", \"w\") as filehandler:\n",
    "    json.dump(top50_json, filehandler)"
   ]
  },
  {
   "cell_type": "markdown",
   "metadata": {},
   "source": [
    "# Adding Norm_name to vgsales dataset"
   ]
  },
  {
   "cell_type": "code",
   "execution_count": null,
   "metadata": {},
   "outputs": [],
   "source": [
    "vgchartz_odf = pd.read_csv('../dataset/vgsales.csv')"
   ]
  },
  {
   "cell_type": "code",
   "execution_count": null,
   "metadata": {
    "scrolled": true
   },
   "outputs": [],
   "source": [
    "vgchartz_odf.head()"
   ]
  },
  {
   "cell_type": "code",
   "execution_count": null,
   "metadata": {},
   "outputs": [],
   "source": [
    "vgchartz_odf['Norm_name'] = vgchartz_odf['Name'].apply(uniformer.uniform)"
   ]
  },
  {
   "cell_type": "code",
   "execution_count": null,
   "metadata": {},
   "outputs": [],
   "source": [
    "vgchartz_odf.head()"
   ]
  },
  {
   "cell_type": "code",
   "execution_count": null,
   "metadata": {},
   "outputs": [],
   "source": [
    "for i in vgchartz_odf.index:\n",
    "    n = vgchartz_odf.loc[i]['Name']\n",
    "    m = vgchartz_df[vgchartz_df['Name'] == n]['Norm_name_vgchartz'].values\n",
    "    if len(m) > 0:\n",
    "        #print(i, n, vgchartz_df[vgchartz_df['Name'] == n]['Norm_name_vgchartz'].values[0])\n",
    "        vgchartz_odf.at[i, 'Norm_name'] = m[0]"
   ]
  },
  {
   "cell_type": "code",
   "execution_count": null,
   "metadata": {},
   "outputs": [],
   "source": [
    "vgchartz_odf"
   ]
  },
  {
   "cell_type": "code",
   "execution_count": null,
   "metadata": {},
   "outputs": [],
   "source": [
    "vgchartz_odf[vgchartz_odf['Norm_name'].str.contains('pokémon red')]"
   ]
  },
  {
   "cell_type": "code",
   "execution_count": null,
   "metadata": {},
   "outputs": [],
   "source": [
    "vgchartz_odf.to_csv('../dataset/vgsales_n.csv')"
   ]
  }
 ],
 "metadata": {
  "kernelspec": {
   "display_name": "Python 3",
   "language": "python",
   "name": "python3"
  },
  "language_info": {
   "codemirror_mode": {
    "name": "ipython",
    "version": 3
   },
   "file_extension": ".py",
   "mimetype": "text/x-python",
   "name": "python",
   "nbconvert_exporter": "python",
   "pygments_lexer": "ipython3",
   "version": "3.6.8"
  }
 },
 "nbformat": 4,
 "nbformat_minor": 2
}
