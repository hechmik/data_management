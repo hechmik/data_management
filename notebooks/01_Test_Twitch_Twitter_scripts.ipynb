{
 "cells": [
  {
   "cell_type": "markdown",
   "metadata": {},
   "source": [
    "# Scripts tests"
   ]
  },
  {
   "cell_type": "markdown",
   "metadata": {},
   "source": [
    "Just a test of the modules written to schedule the collection of data from Twitch, storing it on disk, and/or sending it to Mongo."
   ]
  },
  {
   "cell_type": "markdown",
   "metadata": {},
   "source": [
    "## Imports"
   ]
  },
  {
   "cell_type": "code",
   "execution_count": 1,
   "metadata": {},
   "outputs": [],
   "source": [
    "from ast import literal_eval\n",
    "from bson.son import SON\n",
    "import json\n",
    "import os\n",
    "import sys\n",
    "from pymongo import MongoClient\n",
    "from bson.objectid import ObjectId"
   ]
  },
  {
   "cell_type": "markdown",
   "metadata": {},
   "source": [
    "Add folder with Python scripts to path:"
   ]
  },
  {
   "cell_type": "code",
   "execution_count": 2,
   "metadata": {},
   "outputs": [],
   "source": [
    "sys.path.insert(0, '../scripts')"
   ]
  },
  {
   "cell_type": "markdown",
   "metadata": {},
   "source": [
    "# Twitch Script Test"
   ]
  },
  {
   "cell_type": "markdown",
   "metadata": {},
   "source": [
    "A Twitch Client ID is needed to run the scrpit: https://dev.twitch.tv/console/apps/create"
   ]
  },
  {
   "cell_type": "code",
   "execution_count": 3,
   "metadata": {},
   "outputs": [],
   "source": [
    "import twitch_collect_schedule"
   ]
  },
  {
   "cell_type": "code",
   "execution_count": 4,
   "metadata": {},
   "outputs": [],
   "source": [
    "filename = \"../keys.json\"\n",
    "with open(filename) as file:\n",
    "    keys = json.loads(file.read())\n",
    "    twitch_client_ID = keys['Twitch']['Client-ID']\n",
    "\n",
    "header_v5 = {\n",
    "    'Accept': 'application/vnd.twitchtv.v5+json',\n",
    "    'Client-ID': twitch_client_ID,\n",
    "}"
   ]
  },
  {
   "cell_type": "markdown",
   "metadata": {},
   "source": [
    "The Twitch script, named twitch_collect_schedule.py, collects data from Twitch about top games. The data is collected every 30 seconds by default, but the interval time can be specified."
   ]
  },
  {
   "cell_type": "markdown",
   "metadata": {},
   "source": [
    "The collected data can be saved on disk as a json file, sent to a MongoDB collection, or both. Here we will just send it to a local test MongoDB."
   ]
  },
  {
   "cell_type": "markdown",
   "metadata": {},
   "source": [
    "Loading Mongo's client"
   ]
  },
  {
   "cell_type": "code",
   "execution_count": 6,
   "metadata": {},
   "outputs": [],
   "source": [
    "client = MongoClient('localhost', 27017)"
   ]
  },
  {
   "cell_type": "markdown",
   "metadata": {},
   "source": [
    "Using the db 'twitchtest'."
   ]
  },
  {
   "cell_type": "code",
   "execution_count": 7,
   "metadata": {},
   "outputs": [],
   "source": [
    "db = client.twitchtest"
   ]
  },
  {
   "cell_type": "markdown",
   "metadata": {},
   "source": [
    "And the collection 'games'"
   ]
  },
  {
   "cell_type": "code",
   "execution_count": 8,
   "metadata": {},
   "outputs": [],
   "source": [
    "games = db.games"
   ]
  },
  {
   "cell_type": "markdown",
   "metadata": {},
   "source": [
    "We now start the script to collect data from twitch and sending it to the mongo collection. Once started, the script needs to be interrupted manually (which takes some time on jupyter)."
   ]
  },
  {
   "cell_type": "markdown",
   "metadata": {},
   "source": [
    "For testing purposes, in order to collect data quicker, we will use an interval of 20 seconds."
   ]
  },
  {
   "cell_type": "code",
   "execution_count": 9,
   "metadata": {
    "scrolled": true
   },
   "outputs": [
    {
     "name": "stdout",
     "output_type": "stream",
     "text": [
      "Script started at: 2019-07-08 12:51:59.162631\n",
      "\n",
      "Press Ctrl+Break to exit\n",
      "Job started at 2019-07-08 12:51:59.259441\n",
      "\n",
      "Games processed: 199\n",
      "Games processed: 299\n",
      "Games processed: 399\n",
      "Games processed: 499\n",
      "Games processed: 599\n",
      "Games processed: 699\n",
      "Games processed: 799\n",
      "Games processed: 899\n",
      "Games processed: 999\n",
      "Games processed: 1099\n",
      "Games processed: 1199\n",
      "Games processed: 1299\n",
      "Games processed: 1399\n",
      "Games processed: 1499\n",
      "Games processed: 1596\n",
      "Games processed: 1681\n",
      "Games processed: 1682\n",
      "Done collecting!\n",
      "Sent to Mongo: 5d233c7cf0bd060e8c4fb12a\n",
      "Job completed at 2019-07-08 12:52:12.409857\n",
      "\n"
     ]
    }
   ],
   "source": [
    "twitch_collect_schedule.twitch_collector_scheduler(header_v5, games, trigger = 'interval',  seconds=20,\n",
    "                                                   print_progress=True, save_local=False)"
   ]
  },
  {
   "cell_type": "markdown",
   "metadata": {},
   "source": [
    "If print_progress = True, the script also prints the ids of the data sent. E.g., in our case, '5d233c7cf0bd060e8c4fb12a'."
   ]
  },
  {
   "cell_type": "markdown",
   "metadata": {},
   "source": [
    "After stopping the script, we can look for it as follows."
   ]
  },
  {
   "cell_type": "code",
   "execution_count": 10,
   "metadata": {
    "scrolled": true
   },
   "outputs": [],
   "source": [
    "test = list(games.find({'_id' : ObjectId('5d233c7cf0bd060e8c4fb12a')}))"
   ]
  },
  {
   "cell_type": "code",
   "execution_count": 11,
   "metadata": {},
   "outputs": [
    {
     "data": {
      "text/plain": [
       "{'channels': 645,\n",
       " 'game__id': 29595,\n",
       " 'game_box_large': 'https://static-cdn.jtvnw.net/ttv-boxart/Dota%202-272x380.jpg',\n",
       " 'game_giantbomb_id': 32887,\n",
       " 'game_logo_large': 'https://static-cdn.jtvnw.net/ttv-logoart/Dota%202-240x144.jpg',\n",
       " 'game_name': 'Dota 2',\n",
       " 'game_norm_name': 'dota ii',\n",
       " 'game_popularity': 131086,\n",
       " 'viewers': 133648}"
      ]
     },
     "execution_count": 11,
     "metadata": {},
     "output_type": "execute_result"
    }
   ],
   "source": [
    "test[0]['data'][0]"
   ]
  },
  {
   "cell_type": "markdown",
   "metadata": {},
   "source": [
    "# Twitter Script Test"
   ]
  },
  {
   "cell_type": "markdown",
   "metadata": {},
   "source": [
    "For testing the script that downloads data from Twitter we will store the data on the db \"twittertest\", using the collection \"games\". The test focuses on the library *collect_and_store_tweets.py*: for the project we imported this library inside the script *download_top50_tweets.py*, in order to have a reusable library."
   ]
  },
  {
   "cell_type": "code",
   "execution_count": 12,
   "metadata": {},
   "outputs": [],
   "source": [
    "db = client.twittertest"
   ]
  },
  {
   "cell_type": "code",
   "execution_count": 13,
   "metadata": {},
   "outputs": [],
   "source": [
    "games = db.games"
   ]
  },
  {
   "cell_type": "code",
   "execution_count": 14,
   "metadata": {},
   "outputs": [
    {
     "data": {
      "text/plain": [
       "0"
      ]
     },
     "execution_count": 14,
     "metadata": {},
     "output_type": "execute_result"
    }
   ],
   "source": [
    "games.estimated_document_count()"
   ]
  },
  {
   "cell_type": "code",
   "execution_count": 15,
   "metadata": {},
   "outputs": [],
   "source": [
    "games.find_one()"
   ]
  },
  {
   "cell_type": "code",
   "execution_count": 16,
   "metadata": {},
   "outputs": [],
   "source": [
    "from collect_and_store_tweets import download_and_store_tweets_on_mongodb, twitter_api_setup"
   ]
  },
  {
   "cell_type": "markdown",
   "metadata": {},
   "source": [
    "Setup Tweepy API"
   ]
  },
  {
   "cell_type": "code",
   "execution_count": 17,
   "metadata": {},
   "outputs": [],
   "source": [
    "tweepy_api = twitter_api_setup(keys['Twitter']['consumer_key'], keys['Twitter']['consumer_secret'], keys['Twitter']['access_token'], keys['Twitter']['access_secret'])"
   ]
  },
  {
   "cell_type": "markdown",
   "metadata": {},
   "source": [
    "We are interested in downloading the tweets for \"Assetto Corsa\" and \"Project Cars 2\" between 06/07/2019 and 07/07/2019"
   ]
  },
  {
   "cell_type": "code",
   "execution_count": 18,
   "metadata": {},
   "outputs": [],
   "source": [
    "list_of_games = ['Assetto Corsa', \"Project Cars 2\"]"
   ]
  },
  {
   "cell_type": "code",
   "execution_count": 19,
   "metadata": {},
   "outputs": [],
   "source": [
    "download_and_store_tweets_on_mongodb(tweepy_api, list_of_games, \"2019-07-06\", \"2019-07-07\", games)"
   ]
  },
  {
   "cell_type": "markdown",
   "metadata": {},
   "source": [
    "Let's see if everything worked correctly:"
   ]
  },
  {
   "cell_type": "code",
   "execution_count": 20,
   "metadata": {},
   "outputs": [
    {
     "data": {
      "text/plain": [
       "{'_id': ObjectId('5d233cbff0bd060e8c4fb12b'),\n",
       " 'query': 'Assetto Corsa',\n",
       " 'text': 'Assetto Corsa(AC) New lap record 01:45.779 on AudiTTcup session at Zandvoort - 23:00 GMT  (2019-07-06 23:40:105)',\n",
       " 'language': 'en',\n",
       " 'date': datetime.datetime(2019, 7, 6, 23, 41, 15),\n",
       " 'username': 'Sim Racing System',\n",
       " 'user_followers': 1514,\n",
       " 'user_location': '',\n",
       " 'retweets': 0,\n",
       " 'likes': 0}"
      ]
     },
     "execution_count": 20,
     "metadata": {},
     "output_type": "execute_result"
    }
   ],
   "source": [
    "games.find_one()"
   ]
  }
 ],
 "metadata": {
  "kernelspec": {
   "display_name": "Python 3",
   "language": "python",
   "name": "python3"
  },
  "language_info": {
   "codemirror_mode": {
    "name": "ipython",
    "version": 3
   },
   "file_extension": ".py",
   "mimetype": "text/x-python",
   "name": "python",
   "nbconvert_exporter": "python",
   "pygments_lexer": "ipython3",
   "version": "3.6.8"
  }
 },
 "nbformat": 4,
 "nbformat_minor": 2
}
