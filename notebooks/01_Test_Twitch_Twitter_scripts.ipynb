{
 "cells": [
  {
   "cell_type": "markdown",
   "metadata": {},
   "source": [
    "# Scripts tests"
   ]
  },
  {
   "cell_type": "markdown",
   "metadata": {},
   "source": [
    "Just a test of the modules written to schedule the collection of data from Twitch, storing it on disk, and/or sending it to Mongo."
   ]
  },
  {
   "cell_type": "markdown",
   "metadata": {},
   "source": [
    "## Imports"
   ]
  },
  {
   "cell_type": "code",
   "execution_count": 1,
   "metadata": {},
   "outputs": [],
   "source": [
    "from ast import literal_eval\n",
    "from bson.son import SON\n",
    "import json\n",
    "import os\n",
    "import sys\n",
    "from pymongo import MongoClient\n",
    "from bson.objectid import ObjectId"
   ]
  },
  {
   "cell_type": "markdown",
   "metadata": {},
   "source": [
    "Also import the modules with the functions for collection (the names are provisional)"
   ]
  },
  {
   "cell_type": "markdown",
   "metadata": {},
   "source": [
    "List of python modules needed:\n",
    "1. apscheduler\n",
    "2. ast\n",
    "3. datetime\n",
    "4. json\n",
    "5. os\n",
    "6. pymongo\n",
    "7. requests"
   ]
  },
  {
   "cell_type": "markdown",
   "metadata": {},
   "source": [
    "Add folder with Python scripts to path:"
   ]
  },
  {
   "cell_type": "code",
   "execution_count": 2,
   "metadata": {},
   "outputs": [],
   "source": [
    "sys.path.insert(0, '../scripts')"
   ]
  },
  {
   "cell_type": "markdown",
   "metadata": {},
   "source": [
    "# Twitch Script Test"
   ]
  },
  {
   "cell_type": "markdown",
   "metadata": {},
   "source": [
    "A Twitch Client ID is needed to run the scrpit."
   ]
  },
  {
   "cell_type": "code",
   "execution_count": 3,
   "metadata": {},
   "outputs": [],
   "source": [
    "import twitch_collect_schedule"
   ]
  },
  {
   "cell_type": "code",
   "execution_count": 4,
   "metadata": {},
   "outputs": [],
   "source": [
    "filename = \"../keys.json\"\n",
    "with open(filename) as file:\n",
    "    keys = json.loads(file.read())\n",
    "    twitch_client_ID = keys['Twitch']['Client-ID']\n",
    "\n",
    "header_v5 = {\n",
    "    'Accept': 'application/vnd.twitchtv.v5+json',\n",
    "    'Client-ID': twitch_client_ID,\n",
    "}"
   ]
  },
  {
   "cell_type": "markdown",
   "metadata": {},
   "source": [
    "The Twitch script, named twitch_collect_schedule.py, collects data from Twitch about top games. The data is collected every 30 seconds by default, but the interval time can be specified."
   ]
  },
  {
   "cell_type": "markdown",
   "metadata": {},
   "source": [
    "The collected data can be saved on disk as a json file, sent to a MongoDB collection, or both. Here we will just send it to a local test MongoDB."
   ]
  },
  {
   "cell_type": "markdown",
   "metadata": {},
   "source": [
    "Loading Mongo's client"
   ]
  },
  {
   "cell_type": "code",
   "execution_count": 5,
   "metadata": {},
   "outputs": [],
   "source": [
    "client = MongoClient('localhost', 27017)"
   ]
  },
  {
   "cell_type": "markdown",
   "metadata": {},
   "source": [
    "Using the db 'twitchtest'."
   ]
  },
  {
   "cell_type": "code",
   "execution_count": 6,
   "metadata": {},
   "outputs": [],
   "source": [
    "db = client.twitchtest"
   ]
  },
  {
   "cell_type": "markdown",
   "metadata": {},
   "source": [
    "And the collection 'games'"
   ]
  },
  {
   "cell_type": "code",
   "execution_count": 7,
   "metadata": {},
   "outputs": [],
   "source": [
    "games = db.games"
   ]
  },
  {
   "cell_type": "markdown",
   "metadata": {},
   "source": [
    "We now start the script to collect data from twitch and sending it to the mongo collection. Once started, the script needs to be interrupted manually (which takes some time on jupyter)."
   ]
  },
  {
   "cell_type": "markdown",
   "metadata": {},
   "source": [
    "For testing purposes, in order to collect data quicker, we will use an interval of 20 seconds."
   ]
  },
  {
   "cell_type": "code",
   "execution_count": 8,
   "metadata": {
    "scrolled": true
   },
   "outputs": [
    {
     "name": "stdout",
     "output_type": "stream",
     "text": [
      "Script started at: 2019-07-06 10:45:26.587840\n",
      "\n",
      "Press Ctrl+Break to exit\n",
      "Job started at 2019-07-06 10:45:26.637711\n",
      "\n",
      "Games processed: 199\n",
      "Games processed: 299\n",
      "Games processed: 399\n",
      "Games processed: 499\n",
      "Games processed: 599\n",
      "Games processed: 699\n",
      "Games processed: 799\n",
      "Games processed: 899\n",
      "Games processed: 999\n",
      "Games processed: 1099\n",
      "Games processed: 1199\n",
      "Games processed: 1297\n",
      "Games processed: 1396\n",
      "Games processed: 1496\n",
      "Games processed: 1593\n",
      "Games processed: 1614\n",
      "Done collecting!\n",
      "Sent to Mongo: 5d207bd1f0bd061fec6ca6b4\n",
      "Job completed at 2019-07-06 10:45:38.020711\n",
      "\n"
     ]
    }
   ],
   "source": [
    "twitch_collect_schedule.twitch_collector_scheduler(header_v5, games, trigger = 'interval',  seconds=20,\n",
    "                                 print_progress=True, save_local=False)"
   ]
  },
  {
   "cell_type": "markdown",
   "metadata": {},
   "source": [
    "If print_progress = True, the script also prints the ids of the data sent. E.g., in our case, '5d207bd1f0bd061fec6ca6b4'."
   ]
  },
  {
   "cell_type": "markdown",
   "metadata": {},
   "source": [
    "After stopping the script, we can look for it as follows."
   ]
  },
  {
   "cell_type": "code",
   "execution_count": 9,
   "metadata": {
    "scrolled": true
   },
   "outputs": [],
   "source": [
    "test = list(games.find({'_id' : ObjectId('5d207bd1f0bd061fec6ca6b4')}))"
   ]
  },
  {
   "cell_type": "code",
   "execution_count": 11,
   "metadata": {},
   "outputs": [
    {
     "data": {
      "text/plain": [
       "{'channels': 1723,\n",
       " 'game__id': 21779,\n",
       " 'game_box_large': 'https://static-cdn.jtvnw.net/ttv-boxart/League%20of%20Legends-272x380.jpg',\n",
       " 'game_giantbomb_id': 24024,\n",
       " 'game_logo_large': 'https://static-cdn.jtvnw.net/ttv-logoart/League%20of%20Legends-240x144.jpg',\n",
       " 'game_name': 'League of Legends',\n",
       " 'game_norm_name': 'league of legends',\n",
       " 'game_popularity': 110697,\n",
       " 'viewers': 114859}"
      ]
     },
     "execution_count": 11,
     "metadata": {},
     "output_type": "execute_result"
    }
   ],
   "source": [
    "test[0]['data'][0]"
   ]
  },
  {
   "cell_type": "markdown",
   "metadata": {},
   "source": [
    "# Twitter Script Test"
   ]
  },
  {
   "cell_type": "code",
   "execution_count": null,
   "metadata": {},
   "outputs": [],
   "source": []
  }
 ],
 "metadata": {
  "kernelspec": {
   "display_name": "Python 3",
   "language": "python",
   "name": "python3"
  },
  "language_info": {
   "codemirror_mode": {
    "name": "ipython",
    "version": 3
   },
   "file_extension": ".py",
   "mimetype": "text/x-python",
   "name": "python",
   "nbconvert_exporter": "python",
   "pygments_lexer": "ipython3",
   "version": "3.6.8"
  }
 },
 "nbformat": 4,
 "nbformat_minor": 2
}
