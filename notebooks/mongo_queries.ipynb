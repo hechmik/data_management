{
 "cells": [
  {
   "cell_type": "markdown",
   "metadata": {},
   "source": [
    "# Queries "
   ]
  },
  {
   "cell_type": "code",
   "execution_count": 1,
   "metadata": {},
   "outputs": [],
   "source": [
    "from bson.son import SON\n",
    "from pymongo import MongoClient\n",
    "import json\n",
    "import pandas as pd\n",
    "from pandas.io.json import json_normalize\n",
    "import numpy as np\n",
    "from datetime import datetime"
   ]
  },
  {
   "cell_type": "markdown",
   "metadata": {},
   "source": [
    "In this notebook we perform a few queries on the MongoDB database."
   ]
  },
  {
   "cell_type": "markdown",
   "metadata": {},
   "source": [
    "## Queries on Twitch Data"
   ]
  },
  {
   "cell_type": "code",
   "execution_count": 2,
   "metadata": {},
   "outputs": [],
   "source": [
    "# I have used the VM's DB\n",
    "# ssh studente@10.9.13.21 -L 27017:localhost:27017"
   ]
  },
  {
   "cell_type": "code",
   "execution_count": 3,
   "metadata": {},
   "outputs": [],
   "source": [
    "client = MongoClient('localhost', 27017)"
   ]
  },
  {
   "cell_type": "code",
   "execution_count": 4,
   "metadata": {
    "scrolled": true
   },
   "outputs": [
    {
     "data": {
      "text/plain": [
       "['local', 'twitter', 'twitchtest', 'twitch', 'admin']"
      ]
     },
     "execution_count": 4,
     "metadata": {},
     "output_type": "execute_result"
    }
   ],
   "source": [
    "client.list_database_names()"
   ]
  },
  {
   "cell_type": "code",
   "execution_count": 5,
   "metadata": {},
   "outputs": [],
   "source": [
    "db = client.twitch"
   ]
  },
  {
   "cell_type": "code",
   "execution_count": 6,
   "metadata": {
    "scrolled": true
   },
   "outputs": [
    {
     "data": {
      "text/plain": [
       "['games', 'system.indexes']"
      ]
     },
     "execution_count": 6,
     "metadata": {},
     "output_type": "execute_result"
    }
   ],
   "source": [
    "db.list_collection_names()"
   ]
  },
  {
   "cell_type": "markdown",
   "metadata": {},
   "source": [
    "## /|\\ /|\\ /|\\ /|\\ /|\\ /|\\ /|\\ /|\\ /|\\ /|\\ /|\\ /|\\ /|\\ /|\\ /|\\ /|\\ /|\\ /|\\ /|\\ /|\\ /|\\ /|\\ /|\\ /|\\ /|\\ /|\\ /|\\ /|\\ /|\\ /|\\ /|\\ /|\\\n",
    "\n",
    "# Questions "
   ]
  },
  {
   "cell_type": "markdown",
   "metadata": {},
   "source": [
    "Get all the timestamps:"
   ]
  },
  {
   "cell_type": "code",
   "execution_count": 7,
   "metadata": {},
   "outputs": [],
   "source": [
    "pipeline = [{\"$project\":\n",
    "             {'_id': 0,\n",
    "              'time':'$timestamp'} }]"
   ]
  },
  {
   "cell_type": "code",
   "execution_count": 8,
   "metadata": {},
   "outputs": [],
   "source": [
    "tsmps = list(db.games.aggregate(pipeline))"
   ]
  },
  {
   "cell_type": "code",
   "execution_count": 9,
   "metadata": {},
   "outputs": [
    {
     "data": {
      "text/plain": [
       "[{'time': '2019-06-15 19:50:59.583605'},\n",
       " {'time': '2019-06-15 19:53:59.543059'},\n",
       " {'time': '2019-06-15 19:56:59.542304'},\n",
       " {'time': '2019-06-15 19:59:59.544344'},\n",
       " {'time': '2019-06-16 16:17:09.219123'},\n",
       " {'time': '2019-06-16 16:21:13.413197'},\n",
       " {'time': '2019-06-16 16:24:13.369250'},\n",
       " {'time': '2019-06-16 16:27:13.370972'},\n",
       " {'time': '2019-06-16 16:28:43.396796'},\n",
       " {'time': '2019-06-16 16:30:13.371926'},\n",
       " {'time': '2019-06-16 16:31:10.533772'},\n",
       " {'time': '2019-06-16 16:31:18.166944'},\n",
       " {'time': '2019-06-16 16:31:43.352070'},\n",
       " {'time': '2019-06-16 16:32:05.909307'},\n",
       " {'time': '2019-06-16 16:33:13.371878'}]"
      ]
     },
     "execution_count": 9,
     "metadata": {},
     "output_type": "execute_result"
    }
   ],
   "source": [
    "tsmps[0:15]"
   ]
  },
  {
   "cell_type": "code",
   "execution_count": 10,
   "metadata": {},
   "outputs": [
    {
     "data": {
      "text/plain": [
       "[{'time': '2019-06-21 19:36:13.368521'},\n",
       " {'time': '2019-06-21 19:37:02.022440'},\n",
       " {'time': '2019-06-21 19:37:43.351034'},\n",
       " {'time': '2019-06-21 19:39:13.368397'},\n",
       " {'time': '2019-06-21 19:40:02.022537'},\n",
       " {'time': '2019-06-21 19:40:43.351038'},\n",
       " {'time': '2019-06-21 19:42:13.368453'},\n",
       " {'time': '2019-06-21 19:43:02.022581'},\n",
       " {'time': '2019-06-21 19:43:43.350949'},\n",
       " {'time': '2019-06-21 19:45:13.368416'},\n",
       " {'time': '2019-06-21 19:46:02.022563'},\n",
       " {'time': '2019-06-21 19:46:43.351016'},\n",
       " {'time': '2019-06-21 19:48:13.368393'},\n",
       " {'time': '2019-06-21 19:49:02.022549'},\n",
       " {'time': '2019-06-21 19:49:43.351081'},\n",
       " {'time': '2019-06-21 19:51:13.368545'},\n",
       " {'time': '2019-06-21 19:52:02.022498'},\n",
       " {'time': '2019-06-21 19:52:43.350988'},\n",
       " {'time': '2019-06-21 19:54:13.368530'},\n",
       " {'time': '2019-06-21 19:55:02.022457'}]"
      ]
     },
     "execution_count": 10,
     "metadata": {},
     "output_type": "execute_result"
    }
   ],
   "source": [
    "tsmps[-100:-80]"
   ]
  },
  {
   "cell_type": "markdown",
   "metadata": {},
   "source": [
    "It looks like data has been collected more often than every 3 minutes"
   ]
  },
  {
   "cell_type": "code",
   "execution_count": 11,
   "metadata": {},
   "outputs": [
    {
     "data": {
      "text/plain": [
       "7494"
      ]
     },
     "execution_count": 11,
     "metadata": {},
     "output_type": "execute_result"
    }
   ],
   "source": [
    "len(tsmps)"
   ]
  },
  {
   "cell_type": "code",
   "execution_count": 12,
   "metadata": {},
   "outputs": [],
   "source": [
    "start = tsmps[0]['time']\n",
    "end = tsmps[-1]['time']\n",
    "start = datetime.strptime(start, \"%Y-%m-%d %H:%M:%S.%f\")\n",
    "end = datetime.strptime(end, \"%Y-%m-%d %H:%M:%S.%f\")"
   ]
  },
  {
   "cell_type": "code",
   "execution_count": 13,
   "metadata": {},
   "outputs": [
    {
     "data": {
      "text/plain": [
       "(datetime.datetime(2019, 6, 15, 19, 50, 59, 583605),\n",
       " datetime.datetime(2019, 6, 22, 14, 19, 2, 448362))"
      ]
     },
     "execution_count": 13,
     "metadata": {},
     "output_type": "execute_result"
    }
   ],
   "source": [
    "start, end"
   ]
  },
  {
   "cell_type": "code",
   "execution_count": 14,
   "metadata": {},
   "outputs": [
    {
     "data": {
      "text/plain": [
       "3249.34924865"
      ]
     },
     "execution_count": 14,
     "metadata": {},
     "output_type": "execute_result"
    }
   ],
   "source": [
    "(end-start).total_seconds() / 180"
   ]
  },
  {
   "cell_type": "markdown",
   "metadata": {},
   "source": [
    "I dati sono stati scaricati più frequentemente che ogni 3 minuti, nonostante gli script si siano interrotti in certi momenti (magari in certi momenti c'erano più script che giravano contemporaneamente?). Non penso sia un problema, a parte che le query ci mettono più tempo a girare.\n",
    "\n",
    "Per quanto riguarda le interruzioni e i dati mancanti, magari potremmo usare i dati che sto scaricando localmente dal 13/06."
   ]
  },
  {
   "cell_type": "markdown",
   "metadata": {},
   "source": [
    "Per adesso ci sono 3 database diversi per twitch, twitter e vgchartz. Forse conviene creare un unico database con tre collections?"
   ]
  },
  {
   "cell_type": "markdown",
   "metadata": {},
   "source": [
    "## \\\\|/ \\\\|/ \\\\|/ \\\\|/ \\\\|/ \\\\|/ \\\\|/ \\\\|/ \\\\|/ \\\\|/ \\\\|/ \\\\|/ \\\\|/ \\\\|/ \\\\|/ \\\\|/ \\\\|/ \\\\|/ \\\\|/ \\\\|/ \\\\|/ \\\\|/ \\\\|/ \\\\|/ \\\\|/ \\\\|/ \\\\|/ \\\\|/ \\\\|/ \\\\|/ \\\\|/ \\\\|/ "
   ]
  },
  {
   "cell_type": "markdown",
   "metadata": {},
   "source": [
    "The following is the list of games we are interested in, so that we can restrict the queries on them if we want."
   ]
  },
  {
   "cell_type": "code",
   "execution_count": 15,
   "metadata": {},
   "outputs": [],
   "source": [
    "top_games = ['Apex Legends', 'Auto Chess', 'Bio Inc. Redemption', 'Call of Duty: Advanced Warfare',\n",
    "             'Call of Duty: Black Ops', 'Call of Duty: Black Ops 4',\n",
    "             'Call of Duty: Black Ops II', 'Call of Duty: Black Ops III',\n",
    "             'Call of Duty: Ghosts', 'Call of Duty: Modern Warfare 3',\n",
    "             'Clam Man', 'Counter-Strike: Global Offensive',\n",
    "             'Dead by Daylight', 'Death Stranding', 'Dota 2', 'Duck Hunt', 'FIFA 19', 'Fortnite',\n",
    "             'Grand Theft Auto IV', 'Grand Theft Auto V', 'Grand Theft Auto: San Andreas', 'Hearthstone',\n",
    "             'Just Chatting', 'Layers of Fear 2', 'League of Legends', 'Magic: The Gathering',\n",
    "             'Mario Kart DS', 'Mario Kart Wii', 'Minecraft', 'Modern Warfare 2',\n",
    "             'Music & Performing Arts', 'New Super Mario Bros.',\n",
    "             'New Super Mario Bros. Wii', 'Overwatch',\n",
    "             \"PLAYERUNKNOWN'S BATTLEGROUNDS\", 'Pokémon Gold/Silver',\n",
    "             'Pokémon Red/Blue', 'Slots', 'Splitgate: Arena Warfare', 'Super Mario Bros.',\n",
    "             'Super Mario World', 'Talk Shows & Podcasts', 'Tetris', 'The Elder Scrolls V: Skyrim',\n",
    "             \"Tom Clancy's Rainbow Six: Siege\", 'Total War: Three Kingdoms',\n",
    "             'Wii Play', 'Wii Sports', 'Wii Sports Resort', 'World of Warcraft']"
   ]
  },
  {
   "cell_type": "markdown",
   "metadata": {},
   "source": [
    "## /|\\ /|\\ /|\\ /|\\ /|\\ /|\\ /|\\ /|\\ /|\\ /|\\ /|\\ /|\\ /|\\ /|\\ /|\\ /|\\ /|\\ /|\\ /|\\ /|\\ /|\\ /|\\ /|\\ /|\\ /|\\ /|\\ /|\\ /|\\ /|\\ /|\\ /|\\ /|\\\n",
    "# Note "
   ]
  },
  {
   "cell_type": "markdown",
   "metadata": {},
   "source": [
    "There might be a couple of problematic games:\n",
    "- Clam Man: for some reason was one of the top games when we initially collected the data, but is not in the recent database\n",
    "- Death Stranding: not out yet,\n",
    "- Just Chatting, Music & Performing Arts and Talk Shows & Podcasts are not games."
   ]
  },
  {
   "cell_type": "markdown",
   "metadata": {},
   "source": [
    "## \\\\|/ \\\\|/ \\\\|/ \\\\|/ \\\\|/ \\\\|/ \\\\|/ \\\\|/ \\\\|/ \\\\|/ \\\\|/ \\\\|/ \\\\|/ \\\\|/ \\\\|/ \\\\|/ \\\\|/ \\\\|/ \\\\|/ \\\\|/ \\\\|/ \\\\|/ \\\\|/ \\\\|/ \\\\|/ \\\\|/ \\\\|/ \\\\|/ \\\\|/ \\\\|/ \\\\|/ \\\\|/ "
   ]
  },
  {
   "cell_type": "markdown",
   "metadata": {},
   "source": [
    "Average daily views for each game:"
   ]
  },
  {
   "cell_type": "code",
   "execution_count": 16,
   "metadata": {},
   "outputs": [],
   "source": [
    "# MongoDB version >= 4\n",
    "# pipeline = [{\"$unwind\": \"$data\"},\n",
    "#             {\"$match\" : { \"data.game_name\" : { \"$in\" : top_games },  }},\n",
    "#             { \"$group\": {\n",
    "#                 \"_id\": {\"name\": \"$data.game_name\",\n",
    "#                         \"day\": { \"$dayOfMonth\": {\"$toDate\" : \"$timestamp\" }},\n",
    "#                         \"month\": { \"$month\": {\"$toDate\" : \"$timestamp\" }},\n",
    "#                         \"year\": { \"$year\": {\"$toDate\" : \"$timestamp\" }} },\n",
    "#                 \"avgViewers\": { \"$avg\": '$data.viewers'}\n",
    "#             }},\n",
    "#             {\"$sort\": {\"_id\": 1} }]"
   ]
  },
  {
   "cell_type": "code",
   "execution_count": 17,
   "metadata": {},
   "outputs": [],
   "source": [
    "pipeline = [{\"$unwind\": \"$data\"},\n",
    "            {\"$match\" : { \"data.game_name\" : { \"$in\" : top_games },  }},\n",
    "            { \"$group\": {\n",
    "                \"_id\": {\"name\": \"$data.game_name\",\n",
    "                        \"year\" :  { \"$substr\" : [\"$timestamp\", 0, 4 ] }, \n",
    "                        \"month\" : { \"$substr\" : [\"$timestamp\", 5, 2 ] },     \n",
    "                        \"day\" :   { \"$substr\" : [\"$timestamp\", 8, 2 ] } },\n",
    "                \"avgViewers\": { \"$avg\": '$data.viewers'}\n",
    "            }},\n",
    "            {\"$sort\": {\"_id\": 1} }]"
   ]
  },
  {
   "cell_type": "code",
   "execution_count": null,
   "metadata": {},
   "outputs": [],
   "source": [
    "# this is VERY slow\n",
    "result = list(db.games.aggregate(pipeline))"
   ]
  },
  {
   "cell_type": "code",
   "execution_count": null,
   "metadata": {
    "scrolled": true
   },
   "outputs": [],
   "source": [
    "result[:5]"
   ]
  },
  {
   "cell_type": "markdown",
   "metadata": {},
   "source": [
    "## /|\\ /|\\ /|\\ /|\\ /|\\ /|\\ /|\\ /|\\ /|\\ /|\\ /|\\ /|\\ /|\\ /|\\ /|\\ /|\\ /|\\ /|\\ /|\\ /|\\ /|\\ /|\\ /|\\ /|\\ /|\\ /|\\ /|\\ /|\\ /|\\ /|\\ /|\\ /|\\\n",
    "# Note "
   ]
  },
  {
   "cell_type": "code",
   "execution_count": null,
   "metadata": {},
   "outputs": [],
   "source": [
    "result_set = set([elem['_id']['name'] for elem in result])"
   ]
  },
  {
   "cell_type": "code",
   "execution_count": null,
   "metadata": {},
   "outputs": [],
   "source": [
    "top_set = set(top_games)"
   ]
  },
  {
   "cell_type": "code",
   "execution_count": null,
   "metadata": {},
   "outputs": [],
   "source": [
    "top_set - result_set"
   ]
  },
  {
   "cell_type": "markdown",
   "metadata": {},
   "source": [
    "As mentioned above, no data was collected about Clam Man between 13/06 and 22/06, so we might want to delete it.\n",
    "\n",
    "Also, Death Stranding has only been collected three times, on 19/06, with 1 viewer, so we might also want to substitute it with some other game."
   ]
  },
  {
   "cell_type": "code",
   "execution_count": null,
   "metadata": {
    "scrolled": true
   },
   "outputs": [],
   "source": [
    "list(db.games.find({ 'data.game_name': 'Death Stranding' }, {'timestamp':1, 'data.$': 1}))"
   ]
  },
  {
   "cell_type": "markdown",
   "metadata": {
    "scrolled": true
   },
   "source": [
    "We might want to create a dataframe (to then also use it to create the visualizations):\n",
    "\n",
    "## \\\\|/ \\\\|/ \\\\|/ \\\\|/ \\\\|/ \\\\|/ \\\\|/ \\\\|/ \\\\|/ \\\\|/ \\\\|/ \\\\|/ \\\\|/ \\\\|/ \\\\|/ \\\\|/ \\\\|/ \\\\|/ \\\\|/ \\\\|/ \\\\|/ \\\\|/ \\\\|/ \\\\|/ \\\\|/ \\\\|/ \\\\|/ \\\\|/ \\\\|/ \\\\|/ \\\\|/ \\\\|/ "
   ]
  },
  {
   "cell_type": "code",
   "execution_count": null,
   "metadata": {
    "scrolled": true
   },
   "outputs": [],
   "source": [
    "df = json_normalize(result)\n",
    "df = df.rename(index=str, columns={\"_id.name\": \"name\", \"_id.day\": \"day\",\"_id.month\": \"month\",\"_id.year\": \"year\"})\n",
    "df = df[['name', 'day', 'month', 'year', 'avgViewers']]\n",
    "\n",
    "df.head(20)"
   ]
  },
  {
   "cell_type": "markdown",
   "metadata": {},
   "source": [
    "## Twitter queries"
   ]
  },
  {
   "cell_type": "code",
   "execution_count": null,
   "metadata": {},
   "outputs": [],
   "source": [
    "db = client.twitter"
   ]
  },
  {
   "cell_type": "code",
   "execution_count": null,
   "metadata": {},
   "outputs": [],
   "source": [
    "db.list_collection_names()"
   ]
  },
  {
   "cell_type": "markdown",
   "metadata": {},
   "source": [
    "Daily total retweets and likes for each game:"
   ]
  },
  {
   "cell_type": "code",
   "execution_count": null,
   "metadata": {},
   "outputs": [],
   "source": [
    "pipeline = [{ \"$group\": {\n",
    "                \"_id\": {\"name\": \"$query\",\n",
    "                        \"day\": {\"$dayOfMonth\": \"$date\" },\n",
    "                        \"month\": { \"$month\": \"$date\" },\n",
    "                        \"year\": { \"$year\": \"$date\" }},\n",
    "                \"tot_retweets\": { \"$sum\": \"$retweets\" },\n",
    "                \"tot_likes\": { \"$sum\" : \"$likes\"},\n",
    "                \"tweet_count\" : { \"$sum\": 1 }\n",
    "            }},\n",
    "            {\"$sort\": {\"_id\": 1} }]"
   ]
  },
  {
   "cell_type": "code",
   "execution_count": null,
   "metadata": {},
   "outputs": [],
   "source": [
    "result = list(db.game_tweets.aggregate(pipeline))"
   ]
  },
  {
   "cell_type": "code",
   "execution_count": null,
   "metadata": {},
   "outputs": [],
   "source": [
    "df = json_normalize(result)\n",
    "df = df.rename(index=str, columns={\"_id.name\": \"name\", \"_id.day\": \"day\",\"_id.month\": \"month\",\"_id.year\": \"year\"})\n",
    "df = df[['name', 'day', 'month', 'year', 'tot_retweets', 'tot_likes', 'tweet_count']]\n",
    "df.head()"
   ]
  },
  {
   "cell_type": "code",
   "execution_count": null,
   "metadata": {
    "scrolled": true
   },
   "outputs": [],
   "source": [
    "df[df['name'] == 'Tetris' ]"
   ]
  },
  {
   "cell_type": "markdown",
   "metadata": {},
   "source": [
    "## /|\\ /|\\ /|\\ /|\\ /|\\ /|\\ /|\\ /|\\ /|\\ /|\\ /|\\ /|\\ /|\\ /|\\ /|\\ /|\\ /|\\ /|\\ /|\\ /|\\ /|\\ /|\\ /|\\ /|\\ /|\\ /|\\ /|\\ /|\\ /|\\ /|\\ /|\\ /|\\\n",
    "# Note "
   ]
  },
  {
   "cell_type": "markdown",
   "metadata": {},
   "source": [
    "Se ho capito bene i dati riguardanti il 12/06 sono stati scaricati con la versione precedente dello script di Twitter, quindi forse sono da eliminare/correggere"
   ]
  },
  {
   "cell_type": "markdown",
   "metadata": {
    "scrolled": true
   },
   "source": [
    "## \\\\|/ \\\\|/ \\\\|/ \\\\|/ \\\\|/ \\\\|/ \\\\|/ \\\\|/ \\\\|/ \\\\|/ \\\\|/ \\\\|/ \\\\|/ \\\\|/ \\\\|/ \\\\|/ \\\\|/ \\\\|/ \\\\|/ \\\\|/ \\\\|/ \\\\|/ \\\\|/ \\\\|/ \\\\|/ \\\\|/ \\\\|/ \\\\|/ \\\\|/ \\\\|/ \\\\|/ \\\\|/ "
   ]
  }
 ],
 "metadata": {
  "kernelspec": {
   "display_name": "Python 3",
   "language": "python",
   "name": "python3"
  },
  "language_info": {
   "codemirror_mode": {
    "name": "ipython",
    "version": 3
   },
   "file_extension": ".py",
   "mimetype": "text/x-python",
   "name": "python",
   "nbconvert_exporter": "python",
   "pygments_lexer": "ipython3",
   "version": "3.6.8"
  }
 },
 "nbformat": 4,
 "nbformat_minor": 2
}
