{
 "cells": [
  {
   "cell_type": "code",
   "execution_count": 1,
   "metadata": {},
   "outputs": [],
   "source": [
    "from bson.objectid import ObjectId\n",
    "from bson.son import SON\n",
    "from datetime import datetime\n",
    "import json\n",
    "import pandas as pd\n",
    "from pandas.io.json import json_normalize\n",
    "from pymongo import MongoClient\n",
    "import re\n",
    "from sshtunnel import SSHTunnelForwarder"
   ]
  },
  {
   "cell_type": "markdown",
   "metadata": {},
   "source": [
    "# Connect to MongoDB"
   ]
  },
  {
   "cell_type": "code",
   "execution_count": 2,
   "metadata": {},
   "outputs": [],
   "source": [
    "with open('../keys.json') as k:\n",
    "    keys = json.loads(k.read())\n",
    "    MONGO_HOST = keys[\"SSH\"][\"MONGO_HOST\"] # i.e. 10.9.13.14\n",
    "    MONGO_DB = keys[\"SSH\"][\"MONGO_DB\"] # i.e. dm_project \n",
    "    MONGO_USER = keys[\"SSH\"][\"MONGO_USER\"] # i.e. studente\n",
    "    MONGO_PASS = keys[\"SSH\"][\"MONGO_PASS\"] # i.e. la password della vm\n",
    "    "
   ]
  },
  {
   "cell_type": "code",
   "execution_count": 3,
   "metadata": {},
   "outputs": [],
   "source": [
    "server = SSHTunnelForwarder(\n",
    "    MONGO_HOST,\n",
    "    ssh_username=MONGO_USER,\n",
    "    ssh_password=MONGO_PASS,\n",
    "    remote_bind_address=('127.0.0.1', 27017)\n",
    ")"
   ]
  },
  {
   "cell_type": "code",
   "execution_count": 4,
   "metadata": {},
   "outputs": [
    {
     "data": {
      "text/plain": [
       "['system.indexes', 'twitch', 'twitter']"
      ]
     },
     "execution_count": 4,
     "metadata": {},
     "output_type": "execute_result"
    }
   ],
   "source": [
    "server.start() # remember to stop\n",
    "\n",
    "client = MongoClient('127.0.0.1', server.local_bind_port) # server.local_bind_port is assigned local port\n",
    "db = client[MONGO_DB]\n",
    "db.list_collection_names()"
   ]
  },
  {
   "cell_type": "markdown",
   "metadata": {},
   "source": [
    "#### Count of documents in each collection"
   ]
  },
  {
   "cell_type": "markdown",
   "metadata": {},
   "source": [
    "Twitch:"
   ]
  },
  {
   "cell_type": "code",
   "execution_count": 5,
   "metadata": {},
   "outputs": [
    {
     "data": {
      "text/plain": [
       "6371"
      ]
     },
     "execution_count": 5,
     "metadata": {},
     "output_type": "execute_result"
    }
   ],
   "source": [
    "db.twitch.count()"
   ]
  },
  {
   "cell_type": "markdown",
   "metadata": {},
   "source": [
    "Twitter:"
   ]
  },
  {
   "cell_type": "code",
   "execution_count": 6,
   "metadata": {},
   "outputs": [
    {
     "data": {
      "text/plain": [
       "74898"
      ]
     },
     "execution_count": 6,
     "metadata": {},
     "output_type": "execute_result"
    }
   ],
   "source": [
    "db.twitter.count()"
   ]
  },
  {
   "cell_type": "markdown",
   "metadata": {},
   "source": [
    "#### Sizes of collections"
   ]
  },
  {
   "cell_type": "code",
   "execution_count": 7,
   "metadata": {},
   "outputs": [
    {
     "data": {
      "text/plain": [
       "Collection(Database(MongoClient(host=['127.0.0.1:53310'], document_class=dict, tz_aware=False, connect=True), 'dm_project'), 'twitch.stats')"
      ]
     },
     "execution_count": 7,
     "metadata": {},
     "output_type": "execute_result"
    }
   ],
   "source": [
    "db.twitch.stats"
   ]
  },
  {
   "cell_type": "markdown",
   "metadata": {},
   "source": [
    "Twitch:"
   ]
  },
  {
   "cell_type": "code",
   "execution_count": 8,
   "metadata": {},
   "outputs": [
    {
     "name": "stdout",
     "output_type": "stream",
     "text": [
      "5636.035263061523 MB\n"
     ]
    }
   ],
   "source": [
    "print(db.command(\"collstats\", 'twitch')['size']  / 1024 / 1024, 'MB')"
   ]
  },
  {
   "cell_type": "markdown",
   "metadata": {},
   "source": [
    "Twitter:"
   ]
  },
  {
   "cell_type": "code",
   "execution_count": 9,
   "metadata": {},
   "outputs": [
    {
     "name": "stdout",
     "output_type": "stream",
     "text": [
      "34.013885498046875 MB\n"
     ]
    }
   ],
   "source": [
    "print(db.command(\"collstats\", 'twitter')['size'] / 1024 / 1024, 'MB')"
   ]
  },
  {
   "cell_type": "markdown",
   "metadata": {},
   "source": [
    "# Queries on Twitch Collection"
   ]
  },
  {
   "cell_type": "markdown",
   "metadata": {},
   "source": [
    "We can load the list of games we are monitoring, in case we want to restrict our queries to these games:"
   ]
  },
  {
   "cell_type": "code",
   "execution_count": 10,
   "metadata": {},
   "outputs": [
    {
     "data": {
      "text/plain": [
       "['Fortnite',\n",
       " 'Call of Duty: Black Ops II',\n",
       " 'Grand Theft Auto: San Andreas',\n",
       " 'Clam Man',\n",
       " 'Wii Play']"
      ]
     },
     "execution_count": 10,
     "metadata": {},
     "output_type": "execute_result"
    }
   ],
   "source": [
    "with open(\"../top_50_games_to_monitor.json\", \"r\") as f:\n",
    "    game_list = json.load(f)\n",
    "    top_games = game_list[\"selected_top_50_games\"][\"name\"]\n",
    "\n",
    "top_games[:5]"
   ]
  },
  {
   "cell_type": "markdown",
   "metadata": {},
   "source": [
    "### Average daily views, channels and popularity for each game in the top_games list"
   ]
  },
  {
   "cell_type": "markdown",
   "metadata": {},
   "source": [
    "The following query returns the average daily viewers, channels and popularity for each game in the list of monitored games"
   ]
  },
  {
   "cell_type": "code",
   "execution_count": 11,
   "metadata": {},
   "outputs": [],
   "source": [
    "# MongoDB version >= 4\n",
    "# pipeline = [{\"$unwind\": \"$data\"},\n",
    "#             {\"$match\" : { \"data.game_name\" : { \"$in\" : top_games },  }},\n",
    "#             { \"$group\": {\n",
    "#                 \"_id\": {\"name\": \"$data.game_name\",\n",
    "#                         \"day\": { \"$dayOfMonth\": {\"$toDate\" : \"$timestamp\" }},\n",
    "#                         \"month\": { \"$month\": {\"$toDate\" : \"$timestamp\" }},\n",
    "#                         \"year\": { \"$year\": {\"$toDate\" : \"$timestamp\" }} },\n",
    "#                 \"avgViewers\": { \"$avg\": '$data.viewers'},\n",
    "#                            \"avgChannels\": { \"$avg\": '$data.channels'},\n",
    "#                            \"avgPopularity\": { \"$avg\": '$data.game_popularity'}\n",
    "#             }},\n",
    "#             {\"$sort\": {\"_id\": 1} }]"
   ]
  },
  {
   "cell_type": "code",
   "execution_count": 12,
   "metadata": {},
   "outputs": [],
   "source": [
    "twitch_daily_avg_pipe = [{\"$unwind\": \"$data\"},\n",
    "                        {\"$match\" : { \"data.game_name\" : { \"$in\" : top_games },  }},\n",
    "                        { \"$group\": {\n",
    "                            \"_id\": {\"name\": \"$data.game_name\",\n",
    "                                    \"norm_name\": \"$data.game_norm_name\",\n",
    "                                    \"year\" :  { \"$substr\" : [\"$timestamp\", 0, 4 ] }, \n",
    "                                    \"month\" : { \"$substr\" : [\"$timestamp\", 5, 2 ] },     \n",
    "                                    \"day\" :   { \"$substr\" : [\"$timestamp\", 8, 2 ] } },\n",
    "                            \"avgViewers\": { \"$avg\": '$data.viewers'},\n",
    "                            \"avgChannels\": { \"$avg\": '$data.channels'},\n",
    "                            \"avgPopularity\": { \"$avg\": '$data.game_popularity'}\n",
    "                            }},\n",
    "                        {\"$sort\": {\"_id\": 1} }]"
   ]
  },
  {
   "cell_type": "code",
   "execution_count": 13,
   "metadata": {},
   "outputs": [],
   "source": [
    "twitch_daily_avg = list(db.twitch.aggregate(twitch_daily_avg_pipe))"
   ]
  },
  {
   "cell_type": "code",
   "execution_count": 14,
   "metadata": {},
   "outputs": [
    {
     "data": {
      "text/plain": [
       "[{'_id': {'name': 'Apex Legends',\n",
       "   'norm_name': 'apex legends',\n",
       "   'year': '2019',\n",
       "   'month': '06',\n",
       "   'day': '13'},\n",
       "  'avgViewers': 17491.647058823528,\n",
       "  'avgChannels': 1434.0761245674742,\n",
       "  'avgPopularity': 17115.401384083045},\n",
       " {'_id': {'name': 'Apex Legends',\n",
       "   'norm_name': 'apex legends',\n",
       "   'year': '2019',\n",
       "   'month': '06',\n",
       "   'day': '14'},\n",
       "  'avgViewers': 15606.502083333333,\n",
       "  'avgChannels': 1634.5229166666666,\n",
       "  'avgPopularity': 15777.739583333334},\n",
       " {'_id': {'name': 'Apex Legends',\n",
       "   'norm_name': 'apex legends',\n",
       "   'year': '2019',\n",
       "   'month': '06',\n",
       "   'day': '15'},\n",
       "  'avgViewers': 15781.329166666666,\n",
       "  'avgChannels': 1643.1083333333333,\n",
       "  'avgPopularity': 15442.404166666667},\n",
       " {'_id': {'name': 'Apex Legends',\n",
       "   'norm_name': 'apex legends',\n",
       "   'year': '2019',\n",
       "   'month': '06',\n",
       "   'day': '16'},\n",
       "  'avgViewers': 18600.82463465553,\n",
       "  'avgChannels': 1656.6492693110647,\n",
       "  'avgPopularity': 18946.350730688937},\n",
       " {'_id': {'name': 'Apex Legends',\n",
       "   'norm_name': 'apex legends',\n",
       "   'year': '2019',\n",
       "   'month': '06',\n",
       "   'day': '17'},\n",
       "  'avgViewers': 19137.74375,\n",
       "  'avgChannels': 1555.7125,\n",
       "  'avgPopularity': 18741.535416666666}]"
      ]
     },
     "execution_count": 14,
     "metadata": {},
     "output_type": "execute_result"
    }
   ],
   "source": [
    "twitch_daily_avg[:5]"
   ]
  },
  {
   "cell_type": "markdown",
   "metadata": {},
   "source": [
    "The following are the games initially chosen as top games, but that have not been collected again on twitch."
   ]
  },
  {
   "cell_type": "code",
   "execution_count": 15,
   "metadata": {},
   "outputs": [
    {
     "data": {
      "text/plain": [
       "{'Clam Man'}"
      ]
     },
     "execution_count": 15,
     "metadata": {},
     "output_type": "execute_result"
    }
   ],
   "source": [
    "set(top_games) - set([elem['_id']['name'] for elem in twitch_daily_avg])"
   ]
  },
  {
   "cell_type": "markdown",
   "metadata": {},
   "source": [
    "It is easier to visualize the result of the query as a dataframe:"
   ]
  },
  {
   "cell_type": "code",
   "execution_count": 16,
   "metadata": {},
   "outputs": [],
   "source": [
    "twitch_stats_df = json_normalize(twitch_daily_avg)"
   ]
  },
  {
   "cell_type": "code",
   "execution_count": 17,
   "metadata": {},
   "outputs": [],
   "source": [
    "twitch_stats_df = twitch_stats_df.rename(index=str,\n",
    "                                         columns={\"_id.name\": \"name\", \"_id.norm_name\": \"norm_name\",\n",
    "                                                  \"_id.day\": \"day\", \"_id.month\": \"month\",\"_id.year\": \"year\"})\n",
    "twitch_stats_df = twitch_stats_df[['name', \"norm_name\", 'day', 'month', 'year', 'avgViewers', 'avgPopularity', 'avgChannels']]"
   ]
  },
  {
   "cell_type": "code",
   "execution_count": 18,
   "metadata": {},
   "outputs": [
    {
     "data": {
      "text/html": [
       "<div>\n",
       "<style scoped>\n",
       "    .dataframe tbody tr th:only-of-type {\n",
       "        vertical-align: middle;\n",
       "    }\n",
       "\n",
       "    .dataframe tbody tr th {\n",
       "        vertical-align: top;\n",
       "    }\n",
       "\n",
       "    .dataframe thead th {\n",
       "        text-align: right;\n",
       "    }\n",
       "</style>\n",
       "<table border=\"1\" class=\"dataframe\">\n",
       "  <thead>\n",
       "    <tr style=\"text-align: right;\">\n",
       "      <th></th>\n",
       "      <th>name</th>\n",
       "      <th>norm_name</th>\n",
       "      <th>day</th>\n",
       "      <th>month</th>\n",
       "      <th>year</th>\n",
       "      <th>avgViewers</th>\n",
       "      <th>avgPopularity</th>\n",
       "      <th>avgChannels</th>\n",
       "    </tr>\n",
       "  </thead>\n",
       "  <tbody>\n",
       "    <tr>\n",
       "      <th>0</th>\n",
       "      <td>Apex Legends</td>\n",
       "      <td>apex legends</td>\n",
       "      <td>13</td>\n",
       "      <td>06</td>\n",
       "      <td>2019</td>\n",
       "      <td>17491.647059</td>\n",
       "      <td>17115.401384</td>\n",
       "      <td>1434.076125</td>\n",
       "    </tr>\n",
       "    <tr>\n",
       "      <th>1</th>\n",
       "      <td>Apex Legends</td>\n",
       "      <td>apex legends</td>\n",
       "      <td>14</td>\n",
       "      <td>06</td>\n",
       "      <td>2019</td>\n",
       "      <td>15606.502083</td>\n",
       "      <td>15777.739583</td>\n",
       "      <td>1634.522917</td>\n",
       "    </tr>\n",
       "    <tr>\n",
       "      <th>2</th>\n",
       "      <td>Apex Legends</td>\n",
       "      <td>apex legends</td>\n",
       "      <td>15</td>\n",
       "      <td>06</td>\n",
       "      <td>2019</td>\n",
       "      <td>15781.329167</td>\n",
       "      <td>15442.404167</td>\n",
       "      <td>1643.108333</td>\n",
       "    </tr>\n",
       "    <tr>\n",
       "      <th>3</th>\n",
       "      <td>Apex Legends</td>\n",
       "      <td>apex legends</td>\n",
       "      <td>16</td>\n",
       "      <td>06</td>\n",
       "      <td>2019</td>\n",
       "      <td>18600.824635</td>\n",
       "      <td>18946.350731</td>\n",
       "      <td>1656.649269</td>\n",
       "    </tr>\n",
       "    <tr>\n",
       "      <th>4</th>\n",
       "      <td>Apex Legends</td>\n",
       "      <td>apex legends</td>\n",
       "      <td>17</td>\n",
       "      <td>06</td>\n",
       "      <td>2019</td>\n",
       "      <td>19137.743750</td>\n",
       "      <td>18741.535417</td>\n",
       "      <td>1555.712500</td>\n",
       "    </tr>\n",
       "  </tbody>\n",
       "</table>\n",
       "</div>"
      ],
      "text/plain": [
       "           name     norm_name day month  year    avgViewers  avgPopularity  \\\n",
       "0  Apex Legends  apex legends  13    06  2019  17491.647059   17115.401384   \n",
       "1  Apex Legends  apex legends  14    06  2019  15606.502083   15777.739583   \n",
       "2  Apex Legends  apex legends  15    06  2019  15781.329167   15442.404167   \n",
       "3  Apex Legends  apex legends  16    06  2019  18600.824635   18946.350731   \n",
       "4  Apex Legends  apex legends  17    06  2019  19137.743750   18741.535417   \n",
       "\n",
       "   avgChannels  \n",
       "0  1434.076125  \n",
       "1  1634.522917  \n",
       "2  1643.108333  \n",
       "3  1656.649269  \n",
       "4  1555.712500  "
      ]
     },
     "execution_count": 18,
     "metadata": {},
     "output_type": "execute_result"
    }
   ],
   "source": [
    "twitch_stats_df.head()"
   ]
  },
  {
   "cell_type": "markdown",
   "metadata": {},
   "source": [
    "### Average daily views, channels and popularity for every game streamed on twitch"
   ]
  },
  {
   "cell_type": "markdown",
   "metadata": {},
   "source": [
    "We can also query all games, not just those in the list:"
   ]
  },
  {
   "cell_type": "code",
   "execution_count": 19,
   "metadata": {},
   "outputs": [],
   "source": [
    "all_twitch_daily_avg_pipe = [{\"$unwind\": \"$data\"},\n",
    "                        { \"$group\": {\n",
    "                            \"_id\": {\"name\": \"$data.game_name\",\n",
    "                                    \"year\" :  { \"$substr\" : [\"$timestamp\", 0, 4 ] }, \n",
    "                                    \"month\" : { \"$substr\" : [\"$timestamp\", 5, 2 ] },     \n",
    "                                    \"day\" :   { \"$substr\" : [\"$timestamp\", 8, 2 ] } },\n",
    "                            \"avgViewers\": { \"$avg\": '$data.viewers'},\n",
    "                            \"avgChannels\": { \"$avg\": '$data.channels'},\n",
    "                            \"avgPopularity\": { \"$avg\": '$data.game_popularity'}\n",
    "                            }},\n",
    "                        {\"$sort\": {\"_id\": 1} }]"
   ]
  },
  {
   "cell_type": "code",
   "execution_count": 20,
   "metadata": {},
   "outputs": [],
   "source": [
    "all_twitch_daily_avg = list(db.twitch.aggregate(all_twitch_daily_avg_pipe))"
   ]
  },
  {
   "cell_type": "code",
   "execution_count": 21,
   "metadata": {
    "scrolled": true
   },
   "outputs": [
    {
     "data": {
      "text/plain": [
       "[{'_id': {'name': ' 8 To Glory - The Official Game of the PBR',\n",
       "   'year': '2019',\n",
       "   'month': '06',\n",
       "   'day': '14'},\n",
       "  'avgViewers': 1.0,\n",
       "  'avgChannels': 1.0,\n",
       "  'avgPopularity': 0.0},\n",
       " {'_id': {'name': ' 8 To Glory - The Official Game of the PBR',\n",
       "   'year': '2019',\n",
       "   'month': '06',\n",
       "   'day': '22'},\n",
       "  'avgViewers': 5.0,\n",
       "  'avgChannels': 1.0,\n",
       "  'avgPopularity': 0.0},\n",
       " {'_id': {'name': ' F1 2019', 'year': '2019', 'month': '06', 'day': '20'},\n",
       "  'avgViewers': 22.821428571428573,\n",
       "  'avgChannels': 1.0,\n",
       "  'avgPopularity': 20.0},\n",
       " {'_id': {'name': ' F1 2019', 'year': '2019', 'month': '06', 'day': '21'},\n",
       "  'avgViewers': 481.517571884984,\n",
       "  'avgChannels': 4.696485623003195,\n",
       "  'avgPopularity': 482.17891373801916},\n",
       " {'_id': {'name': ' F1 2019', 'year': '2019', 'month': '06', 'day': '22'},\n",
       "  'avgViewers': 207.31914893617022,\n",
       "  'avgChannels': 2.5379939209726445,\n",
       "  'avgPopularity': 201.72036474164133}]"
      ]
     },
     "execution_count": 21,
     "metadata": {},
     "output_type": "execute_result"
    }
   ],
   "source": [
    "all_twitch_daily_avg[:5]"
   ]
  },
  {
   "cell_type": "code",
   "execution_count": 22,
   "metadata": {},
   "outputs": [],
   "source": [
    "all_twitch_daily_df = json_normalize(all_twitch_daily_avg)"
   ]
  },
  {
   "cell_type": "code",
   "execution_count": 23,
   "metadata": {},
   "outputs": [],
   "source": [
    "all_twitch_daily_df = all_twitch_daily_df.rename(index=str,\n",
    "                                         columns={\"_id.name\": \"name\", \"_id.day\": \"day\",\n",
    "                                                  \"_id.month\": \"month\",\"_id.year\": \"year\"})\n",
    "all_twitch_daily_df = all_twitch_daily_df[['name', 'day', 'month', 'year', 'avgViewers', 'avgPopularity', 'avgChannels']]"
   ]
  },
  {
   "cell_type": "code",
   "execution_count": 24,
   "metadata": {},
   "outputs": [
    {
     "data": {
      "text/html": [
       "<div>\n",
       "<style scoped>\n",
       "    .dataframe tbody tr th:only-of-type {\n",
       "        vertical-align: middle;\n",
       "    }\n",
       "\n",
       "    .dataframe tbody tr th {\n",
       "        vertical-align: top;\n",
       "    }\n",
       "\n",
       "    .dataframe thead th {\n",
       "        text-align: right;\n",
       "    }\n",
       "</style>\n",
       "<table border=\"1\" class=\"dataframe\">\n",
       "  <thead>\n",
       "    <tr style=\"text-align: right;\">\n",
       "      <th></th>\n",
       "      <th>name</th>\n",
       "      <th>day</th>\n",
       "      <th>month</th>\n",
       "      <th>year</th>\n",
       "      <th>avgViewers</th>\n",
       "      <th>avgPopularity</th>\n",
       "      <th>avgChannels</th>\n",
       "    </tr>\n",
       "  </thead>\n",
       "  <tbody>\n",
       "    <tr>\n",
       "      <th>0</th>\n",
       "      <td>8 To Glory - The Official Game of the PBR</td>\n",
       "      <td>14</td>\n",
       "      <td>06</td>\n",
       "      <td>2019</td>\n",
       "      <td>1.000000</td>\n",
       "      <td>0.000000</td>\n",
       "      <td>1.000000</td>\n",
       "    </tr>\n",
       "    <tr>\n",
       "      <th>1</th>\n",
       "      <td>8 To Glory - The Official Game of the PBR</td>\n",
       "      <td>22</td>\n",
       "      <td>06</td>\n",
       "      <td>2019</td>\n",
       "      <td>5.000000</td>\n",
       "      <td>0.000000</td>\n",
       "      <td>1.000000</td>\n",
       "    </tr>\n",
       "    <tr>\n",
       "      <th>2</th>\n",
       "      <td>F1 2019</td>\n",
       "      <td>20</td>\n",
       "      <td>06</td>\n",
       "      <td>2019</td>\n",
       "      <td>22.821429</td>\n",
       "      <td>20.000000</td>\n",
       "      <td>1.000000</td>\n",
       "    </tr>\n",
       "    <tr>\n",
       "      <th>3</th>\n",
       "      <td>F1 2019</td>\n",
       "      <td>21</td>\n",
       "      <td>06</td>\n",
       "      <td>2019</td>\n",
       "      <td>481.517572</td>\n",
       "      <td>482.178914</td>\n",
       "      <td>4.696486</td>\n",
       "    </tr>\n",
       "    <tr>\n",
       "      <th>4</th>\n",
       "      <td>F1 2019</td>\n",
       "      <td>22</td>\n",
       "      <td>06</td>\n",
       "      <td>2019</td>\n",
       "      <td>207.319149</td>\n",
       "      <td>201.720365</td>\n",
       "      <td>2.537994</td>\n",
       "    </tr>\n",
       "  </tbody>\n",
       "</table>\n",
       "</div>"
      ],
      "text/plain": [
       "                                         name day month  year  avgViewers  \\\n",
       "0   8 To Glory - The Official Game of the PBR  14    06  2019    1.000000   \n",
       "1   8 To Glory - The Official Game of the PBR  22    06  2019    5.000000   \n",
       "2                                     F1 2019  20    06  2019   22.821429   \n",
       "3                                     F1 2019  21    06  2019  481.517572   \n",
       "4                                     F1 2019  22    06  2019  207.319149   \n",
       "\n",
       "   avgPopularity  avgChannels  \n",
       "0       0.000000     1.000000  \n",
       "1       0.000000     1.000000  \n",
       "2      20.000000     1.000000  \n",
       "3     482.178914     4.696486  \n",
       "4     201.720365     2.537994  "
      ]
     },
     "execution_count": 24,
     "metadata": {},
     "output_type": "execute_result"
    }
   ],
   "source": [
    "all_twitch_daily_df.head()"
   ]
  },
  {
   "cell_type": "markdown",
   "metadata": {},
   "source": [
    "We add the column 'daily_top', which is the game's rank in the ordered list of daily most spectated games on average (with respect to every game streamed on Twitch)."
   ]
  },
  {
   "cell_type": "code",
   "execution_count": 25,
   "metadata": {},
   "outputs": [],
   "source": [
    "all_twitch_daily_df['daily_top'] = all_twitch_daily_df.sort_values(['day', 'month', 'year', 'avgViewers'], \n",
    "                                                           ascending=[True, True, True, False]).groupby(['day', 'month', 'year']).cumcount()\n",
    "all_twitch_daily_df['daily_top'] = all_twitch_daily_df['daily_top'] + 1"
   ]
  },
  {
   "cell_type": "code",
   "execution_count": 26,
   "metadata": {
    "scrolled": false
   },
   "outputs": [
    {
     "data": {
      "text/html": [
       "<div>\n",
       "<style scoped>\n",
       "    .dataframe tbody tr th:only-of-type {\n",
       "        vertical-align: middle;\n",
       "    }\n",
       "\n",
       "    .dataframe tbody tr th {\n",
       "        vertical-align: top;\n",
       "    }\n",
       "\n",
       "    .dataframe thead th {\n",
       "        text-align: right;\n",
       "    }\n",
       "</style>\n",
       "<table border=\"1\" class=\"dataframe\">\n",
       "  <thead>\n",
       "    <tr style=\"text-align: right;\">\n",
       "      <th></th>\n",
       "      <th>name</th>\n",
       "      <th>day</th>\n",
       "      <th>month</th>\n",
       "      <th>year</th>\n",
       "      <th>avgViewers</th>\n",
       "      <th>avgPopularity</th>\n",
       "      <th>avgChannels</th>\n",
       "      <th>daily_top</th>\n",
       "    </tr>\n",
       "  </thead>\n",
       "  <tbody>\n",
       "    <tr>\n",
       "      <th>40153</th>\n",
       "      <td>League of Legends</td>\n",
       "      <td>13</td>\n",
       "      <td>06</td>\n",
       "      <td>2019</td>\n",
       "      <td>139492.283737</td>\n",
       "      <td>140292.190311</td>\n",
       "      <td>2966.896194</td>\n",
       "      <td>1</td>\n",
       "    </tr>\n",
       "    <tr>\n",
       "      <th>27392</th>\n",
       "      <td>Fortnite</td>\n",
       "      <td>13</td>\n",
       "      <td>06</td>\n",
       "      <td>2019</td>\n",
       "      <td>117869.685121</td>\n",
       "      <td>116048.532872</td>\n",
       "      <td>7186.041522</td>\n",
       "      <td>2</td>\n",
       "    </tr>\n",
       "    <tr>\n",
       "      <th>30635</th>\n",
       "      <td>Grand Theft Auto V</td>\n",
       "      <td>13</td>\n",
       "      <td>06</td>\n",
       "      <td>2019</td>\n",
       "      <td>97704.619377</td>\n",
       "      <td>95741.335640</td>\n",
       "      <td>1057.024221</td>\n",
       "      <td>3</td>\n",
       "    </tr>\n",
       "    <tr>\n",
       "      <th>37093</th>\n",
       "      <td>Just Chatting</td>\n",
       "      <td>13</td>\n",
       "      <td>06</td>\n",
       "      <td>2019</td>\n",
       "      <td>97585.868512</td>\n",
       "      <td>97702.740484</td>\n",
       "      <td>1351.307958</td>\n",
       "      <td>4</td>\n",
       "    </tr>\n",
       "    <tr>\n",
       "      <th>19950</th>\n",
       "      <td>Dota 2</td>\n",
       "      <td>13</td>\n",
       "      <td>06</td>\n",
       "      <td>2019</td>\n",
       "      <td>69030.173010</td>\n",
       "      <td>69218.449827</td>\n",
       "      <td>756.505190</td>\n",
       "      <td>5</td>\n",
       "    </tr>\n",
       "  </tbody>\n",
       "</table>\n",
       "</div>"
      ],
      "text/plain": [
       "                     name day month  year     avgViewers  avgPopularity  \\\n",
       "40153   League of Legends  13    06  2019  139492.283737  140292.190311   \n",
       "27392            Fortnite  13    06  2019  117869.685121  116048.532872   \n",
       "30635  Grand Theft Auto V  13    06  2019   97704.619377   95741.335640   \n",
       "37093       Just Chatting  13    06  2019   97585.868512   97702.740484   \n",
       "19950              Dota 2  13    06  2019   69030.173010   69218.449827   \n",
       "\n",
       "       avgChannels  daily_top  \n",
       "40153  2966.896194          1  \n",
       "27392  7186.041522          2  \n",
       "30635  1057.024221          3  \n",
       "37093  1351.307958          4  \n",
       "19950   756.505190          5  "
      ]
     },
     "execution_count": 26,
     "metadata": {},
     "output_type": "execute_result"
    }
   ],
   "source": [
    "all_twitch_daily_df.sort_values(['day', 'month', 'year', 'avgViewers'], ascending=[True, True, True, False]).head()"
   ]
  },
  {
   "cell_type": "code",
   "execution_count": 27,
   "metadata": {},
   "outputs": [
    {
     "data": {
      "text/html": [
       "<div>\n",
       "<style scoped>\n",
       "    .dataframe tbody tr th:only-of-type {\n",
       "        vertical-align: middle;\n",
       "    }\n",
       "\n",
       "    .dataframe tbody tr th {\n",
       "        vertical-align: top;\n",
       "    }\n",
       "\n",
       "    .dataframe thead th {\n",
       "        text-align: right;\n",
       "    }\n",
       "</style>\n",
       "<table border=\"1\" class=\"dataframe\">\n",
       "  <thead>\n",
       "    <tr style=\"text-align: right;\">\n",
       "      <th></th>\n",
       "      <th>name</th>\n",
       "      <th>day</th>\n",
       "      <th>month</th>\n",
       "      <th>year</th>\n",
       "      <th>avgViewers</th>\n",
       "      <th>avgPopularity</th>\n",
       "      <th>avgChannels</th>\n",
       "      <th>daily_top</th>\n",
       "    </tr>\n",
       "  </thead>\n",
       "  <tbody>\n",
       "    <tr>\n",
       "      <th>74363</th>\n",
       "      <td>Tetris</td>\n",
       "      <td>13</td>\n",
       "      <td>06</td>\n",
       "      <td>2019</td>\n",
       "      <td>49.739130</td>\n",
       "      <td>48.155797</td>\n",
       "      <td>6.847826</td>\n",
       "      <td>691</td>\n",
       "    </tr>\n",
       "    <tr>\n",
       "      <th>74364</th>\n",
       "      <td>Tetris</td>\n",
       "      <td>14</td>\n",
       "      <td>06</td>\n",
       "      <td>2019</td>\n",
       "      <td>35.179104</td>\n",
       "      <td>35.605544</td>\n",
       "      <td>7.695096</td>\n",
       "      <td>877</td>\n",
       "    </tr>\n",
       "    <tr>\n",
       "      <th>74365</th>\n",
       "      <td>Tetris</td>\n",
       "      <td>15</td>\n",
       "      <td>06</td>\n",
       "      <td>2019</td>\n",
       "      <td>31.952070</td>\n",
       "      <td>32.525054</td>\n",
       "      <td>6.893246</td>\n",
       "      <td>972</td>\n",
       "    </tr>\n",
       "    <tr>\n",
       "      <th>74366</th>\n",
       "      <td>Tetris</td>\n",
       "      <td>16</td>\n",
       "      <td>06</td>\n",
       "      <td>2019</td>\n",
       "      <td>51.653595</td>\n",
       "      <td>47.714597</td>\n",
       "      <td>6.472767</td>\n",
       "      <td>757</td>\n",
       "    </tr>\n",
       "    <tr>\n",
       "      <th>74367</th>\n",
       "      <td>Tetris</td>\n",
       "      <td>17</td>\n",
       "      <td>06</td>\n",
       "      <td>2019</td>\n",
       "      <td>59.634409</td>\n",
       "      <td>65.215054</td>\n",
       "      <td>5.600000</td>\n",
       "      <td>656</td>\n",
       "    </tr>\n",
       "    <tr>\n",
       "      <th>74368</th>\n",
       "      <td>Tetris</td>\n",
       "      <td>18</td>\n",
       "      <td>06</td>\n",
       "      <td>2019</td>\n",
       "      <td>54.096280</td>\n",
       "      <td>57.597374</td>\n",
       "      <td>6.601751</td>\n",
       "      <td>712</td>\n",
       "    </tr>\n",
       "    <tr>\n",
       "      <th>74369</th>\n",
       "      <td>Tetris</td>\n",
       "      <td>19</td>\n",
       "      <td>06</td>\n",
       "      <td>2019</td>\n",
       "      <td>66.323913</td>\n",
       "      <td>63.771739</td>\n",
       "      <td>5.093478</td>\n",
       "      <td>615</td>\n",
       "    </tr>\n",
       "    <tr>\n",
       "      <th>74370</th>\n",
       "      <td>Tetris</td>\n",
       "      <td>20</td>\n",
       "      <td>06</td>\n",
       "      <td>2019</td>\n",
       "      <td>29.947712</td>\n",
       "      <td>29.187364</td>\n",
       "      <td>6.485839</td>\n",
       "      <td>946</td>\n",
       "    </tr>\n",
       "    <tr>\n",
       "      <th>74371</th>\n",
       "      <td>Tetris</td>\n",
       "      <td>21</td>\n",
       "      <td>06</td>\n",
       "      <td>2019</td>\n",
       "      <td>53.063596</td>\n",
       "      <td>53.901316</td>\n",
       "      <td>6.050439</td>\n",
       "      <td>682</td>\n",
       "    </tr>\n",
       "    <tr>\n",
       "      <th>74372</th>\n",
       "      <td>Tetris</td>\n",
       "      <td>22</td>\n",
       "      <td>06</td>\n",
       "      <td>2019</td>\n",
       "      <td>44.438053</td>\n",
       "      <td>40.663717</td>\n",
       "      <td>5.473451</td>\n",
       "      <td>808</td>\n",
       "    </tr>\n",
       "    <tr>\n",
       "      <th>74373</th>\n",
       "      <td>Tetris</td>\n",
       "      <td>23</td>\n",
       "      <td>06</td>\n",
       "      <td>2019</td>\n",
       "      <td>29.812785</td>\n",
       "      <td>30.933790</td>\n",
       "      <td>4.988584</td>\n",
       "      <td>979</td>\n",
       "    </tr>\n",
       "    <tr>\n",
       "      <th>74374</th>\n",
       "      <td>Tetris</td>\n",
       "      <td>24</td>\n",
       "      <td>06</td>\n",
       "      <td>2019</td>\n",
       "      <td>34.866370</td>\n",
       "      <td>32.467706</td>\n",
       "      <td>5.928731</td>\n",
       "      <td>826</td>\n",
       "    </tr>\n",
       "    <tr>\n",
       "      <th>74375</th>\n",
       "      <td>Tetris</td>\n",
       "      <td>25</td>\n",
       "      <td>06</td>\n",
       "      <td>2019</td>\n",
       "      <td>55.900000</td>\n",
       "      <td>59.262222</td>\n",
       "      <td>5.486667</td>\n",
       "      <td>636</td>\n",
       "    </tr>\n",
       "    <tr>\n",
       "      <th>74376</th>\n",
       "      <td>Tetris</td>\n",
       "      <td>26</td>\n",
       "      <td>06</td>\n",
       "      <td>2019</td>\n",
       "      <td>24.239852</td>\n",
       "      <td>24.634686</td>\n",
       "      <td>4.826568</td>\n",
       "      <td>855</td>\n",
       "    </tr>\n",
       "  </tbody>\n",
       "</table>\n",
       "</div>"
      ],
      "text/plain": [
       "         name day month  year  avgViewers  avgPopularity  avgChannels  \\\n",
       "74363  Tetris  13    06  2019   49.739130      48.155797     6.847826   \n",
       "74364  Tetris  14    06  2019   35.179104      35.605544     7.695096   \n",
       "74365  Tetris  15    06  2019   31.952070      32.525054     6.893246   \n",
       "74366  Tetris  16    06  2019   51.653595      47.714597     6.472767   \n",
       "74367  Tetris  17    06  2019   59.634409      65.215054     5.600000   \n",
       "74368  Tetris  18    06  2019   54.096280      57.597374     6.601751   \n",
       "74369  Tetris  19    06  2019   66.323913      63.771739     5.093478   \n",
       "74370  Tetris  20    06  2019   29.947712      29.187364     6.485839   \n",
       "74371  Tetris  21    06  2019   53.063596      53.901316     6.050439   \n",
       "74372  Tetris  22    06  2019   44.438053      40.663717     5.473451   \n",
       "74373  Tetris  23    06  2019   29.812785      30.933790     4.988584   \n",
       "74374  Tetris  24    06  2019   34.866370      32.467706     5.928731   \n",
       "74375  Tetris  25    06  2019   55.900000      59.262222     5.486667   \n",
       "74376  Tetris  26    06  2019   24.239852      24.634686     4.826568   \n",
       "\n",
       "       daily_top  \n",
       "74363        691  \n",
       "74364        877  \n",
       "74365        972  \n",
       "74366        757  \n",
       "74367        656  \n",
       "74368        712  \n",
       "74369        615  \n",
       "74370        946  \n",
       "74371        682  \n",
       "74372        808  \n",
       "74373        979  \n",
       "74374        826  \n",
       "74375        636  \n",
       "74376        855  "
      ]
     },
     "execution_count": 27,
     "metadata": {},
     "output_type": "execute_result"
    }
   ],
   "source": [
    "all_twitch_daily_df[all_twitch_daily_df['name'] == 'Tetris']"
   ]
  },
  {
   "cell_type": "markdown",
   "metadata": {},
   "source": [
    "### Daily statistics for a single game"
   ]
  },
  {
   "cell_type": "code",
   "execution_count": 28,
   "metadata": {},
   "outputs": [],
   "source": [
    "mario_daily_pipe = [{\"$unwind\": \"$data\"},\n",
    "                    {\"$match\" : { \"data.game_name\" : \"Super Mario Bros.\"  }},\n",
    "                    { \"$group\": {\n",
    "                        \"_id\": {\"name\": \"$data.game_name\",\n",
    "                                \"year\" :  { \"$substr\" : [\"$timestamp\", 0, 4 ] }, \n",
    "                                \"month\" : { \"$substr\" : [\"$timestamp\", 5, 2 ] },     \n",
    "                                \"day\" :   { \"$substr\" : [\"$timestamp\", 8, 2 ] } },\n",
    "                        \"avgViewers\": { \"$avg\": '$data.viewers'},\n",
    "                        \"avgChannels\": { \"$avg\": '$data.channels'},\n",
    "                        \"avgPopularity\": { \"$avg\": '$data.game_popularity'}\n",
    "                        }},\n",
    "                    {\"$sort\": {\"_id\": 1} }]"
   ]
  },
  {
   "cell_type": "code",
   "execution_count": 29,
   "metadata": {},
   "outputs": [],
   "source": [
    "mario_daily = list(db.twitch.aggregate(mario_daily_pipe))"
   ]
  },
  {
   "cell_type": "code",
   "execution_count": 30,
   "metadata": {},
   "outputs": [
    {
     "data": {
      "text/plain": [
       "[{'_id': {'name': 'Super Mario Bros.',\n",
       "   'year': '2019',\n",
       "   'month': '06',\n",
       "   'day': '13'},\n",
       "  'avgViewers': 51.2027027027027,\n",
       "  'avgChannels': 3.4414414414414414,\n",
       "  'avgPopularity': 44.531531531531535},\n",
       " {'_id': {'name': 'Super Mario Bros.',\n",
       "   'year': '2019',\n",
       "   'month': '06',\n",
       "   'day': '14'},\n",
       "  'avgViewers': 13.919014084507042,\n",
       "  'avgChannels': 2.9119718309859155,\n",
       "  'avgPopularity': 12.535211267605634},\n",
       " {'_id': {'name': 'Super Mario Bros.',\n",
       "   'year': '2019',\n",
       "   'month': '06',\n",
       "   'day': '15'},\n",
       "  'avgViewers': 74.43236714975845,\n",
       "  'avgChannels': 3.7028985507246377,\n",
       "  'avgPopularity': 72.28985507246377}]"
      ]
     },
     "execution_count": 30,
     "metadata": {},
     "output_type": "execute_result"
    }
   ],
   "source": [
    "mario_daily[:3]"
   ]
  },
  {
   "cell_type": "markdown",
   "metadata": {},
   "source": [
    "### Every document pertaining a single game"
   ]
  },
  {
   "cell_type": "code",
   "execution_count": 31,
   "metadata": {},
   "outputs": [],
   "source": [
    "mario_all = list(db.twitch.find({'data.game_name': 'Super Mario Bros.'},\n",
    "               {'timestamp':1, 'data.$': 1}))"
   ]
  },
  {
   "cell_type": "code",
   "execution_count": 32,
   "metadata": {},
   "outputs": [
    {
     "data": {
      "text/plain": [
       "[{'_id': ObjectId('5d0f44df7c6c727793bcd374'),\n",
       "  'data': [{'game_giantbomb_id': 15544,\n",
       "    'channels': 2,\n",
       "    'game_popularity': 3,\n",
       "    'game_logo_large': 'https://static-cdn.jtvnw.net/ttv-logoart/Super%20Mario%20Bros.-240x144.jpg',\n",
       "    'game__id': 509508,\n",
       "    'game_box_large': 'https://static-cdn.jtvnw.net/ttv-boxart/Super%20Mario%20Bros.-272x380.jpg',\n",
       "    'game_norm_name': 'super mario bros.',\n",
       "    'game_name': 'Super Mario Bros.',\n",
       "    'viewers': 2}],\n",
       "  'timestamp': '2019-06-23 09:22:34.124005'},\n",
       " {'_id': ObjectId('5d0f45937c6c727793bcd375'),\n",
       "  'data': [{'game_giantbomb_id': 15544,\n",
       "    'channels': 2,\n",
       "    'game_popularity': 2,\n",
       "    'game_logo_large': 'https://static-cdn.jtvnw.net/ttv-logoart/Super%20Mario%20Bros.-240x144.jpg',\n",
       "    'game__id': 509508,\n",
       "    'game_box_large': 'https://static-cdn.jtvnw.net/ttv-boxart/Super%20Mario%20Bros.-272x380.jpg',\n",
       "    'game_norm_name': 'super mario bros.',\n",
       "    'game_name': 'Super Mario Bros.',\n",
       "    'viewers': 3}],\n",
       "  'timestamp': '2019-06-23 09:25:34.078193'},\n",
       " {'_id': ObjectId('5d0f46b1f0bd064ad83b132e'),\n",
       "  'timestamp': '2019-06-13 09:32:34.348514',\n",
       "  'data': [{'channels': 2,\n",
       "    'game__id': 509508,\n",
       "    'game_box_large': 'https://static-cdn.jtvnw.net/ttv-boxart/Super%20Mario%20Bros.-272x380.jpg',\n",
       "    'game_giantbomb_id': 15544,\n",
       "    'game_logo_large': 'https://static-cdn.jtvnw.net/ttv-logoart/Super%20Mario%20Bros.-240x144.jpg',\n",
       "    'game_name': 'Super Mario Bros.',\n",
       "    'game_norm_name': 'super mario bros.',\n",
       "    'game_popularity': 1,\n",
       "    'viewers': 5}]}]"
      ]
     },
     "execution_count": 32,
     "metadata": {},
     "output_type": "execute_result"
    }
   ],
   "source": [
    "mario_all[0:3]"
   ]
  },
  {
   "cell_type": "markdown",
   "metadata": {},
   "source": [
    "### Query on a single game and day"
   ]
  },
  {
   "cell_type": "markdown",
   "metadata": {},
   "source": [
    "We can compile a regex in order to find all documents regarding, for instance, 20/06/2019."
   ]
  },
  {
   "cell_type": "code",
   "execution_count": 33,
   "metadata": {},
   "outputs": [],
   "source": [
    "day = re.compile(\"^2019-06-20 \\d+:\\d+:\\d+.\\d+$\")"
   ]
  },
  {
   "cell_type": "code",
   "execution_count": 34,
   "metadata": {},
   "outputs": [],
   "source": [
    "mario_0620 = list(db.twitch.find({'data.game_name': 'Super Mario Bros.',\n",
    "                     'timestamp':  {\"$regex\" : day  }},\n",
    "                    {'timestamp':1, 'data.$': 1}))"
   ]
  },
  {
   "cell_type": "code",
   "execution_count": 35,
   "metadata": {
    "scrolled": true
   },
   "outputs": [
    {
     "data": {
      "text/plain": [
       "[{'_id': ObjectId('5d0f4d10f0bd064ad83b1f8d'),\n",
       "  'timestamp': '2019-06-20 00:02:34.009747',\n",
       "  'data': [{'channels': 18,\n",
       "    'game__id': 509508,\n",
       "    'game_box_large': 'https://static-cdn.jtvnw.net/ttv-boxart/Super%20Mario%20Bros.-272x380.jpg',\n",
       "    'game_giantbomb_id': 15544,\n",
       "    'game_logo_large': 'https://static-cdn.jtvnw.net/ttv-logoart/Super%20Mario%20Bros.-240x144.jpg',\n",
       "    'game_name': 'Super Mario Bros.',\n",
       "    'game_norm_name': 'super mario bros.',\n",
       "    'game_popularity': 416,\n",
       "    'viewers': 366}]},\n",
       " {'_id': ObjectId('5d0f4d11f0bd064ad83b1f8e'),\n",
       "  'timestamp': '2019-06-20 00:05:34.004106',\n",
       "  'data': [{'channels': 19,\n",
       "    'game__id': 509508,\n",
       "    'game_box_large': 'https://static-cdn.jtvnw.net/ttv-boxart/Super%20Mario%20Bros.-272x380.jpg',\n",
       "    'game_giantbomb_id': 15544,\n",
       "    'game_logo_large': 'https://static-cdn.jtvnw.net/ttv-logoart/Super%20Mario%20Bros.-240x144.jpg',\n",
       "    'game_name': 'Super Mario Bros.',\n",
       "    'game_norm_name': 'super mario bros.',\n",
       "    'game_popularity': 416,\n",
       "    'viewers': 408}]},\n",
       " {'_id': ObjectId('5d0f4d11f0bd064ad83b1f8f'),\n",
       "  'timestamp': '2019-06-20 00:08:34.008438',\n",
       "  'data': [{'channels': 21,\n",
       "    'game__id': 509508,\n",
       "    'game_box_large': 'https://static-cdn.jtvnw.net/ttv-boxart/Super%20Mario%20Bros.-272x380.jpg',\n",
       "    'game_giantbomb_id': 15544,\n",
       "    'game_logo_large': 'https://static-cdn.jtvnw.net/ttv-logoart/Super%20Mario%20Bros.-240x144.jpg',\n",
       "    'game_name': 'Super Mario Bros.',\n",
       "    'game_norm_name': 'super mario bros.',\n",
       "    'game_popularity': 362,\n",
       "    'viewers': 388}]}]"
      ]
     },
     "execution_count": 35,
     "metadata": {},
     "output_type": "execute_result"
    }
   ],
   "source": [
    "mario_0620[:3]"
   ]
  },
  {
   "cell_type": "markdown",
   "metadata": {},
   "source": [
    "### Statistics for a single day"
   ]
  },
  {
   "cell_type": "code",
   "execution_count": 36,
   "metadata": {},
   "outputs": [],
   "source": [
    "top_twitch_0620_pipe = [{\"$unwind\": \"$data\"},\n",
    "                        {\"$match\" : {\"$and\":\n",
    "                                     [{ \"data.game_name\" : { \"$in\" : top_games }  },\n",
    "                                      {'timestamp':  {\"$regex\" : day}}] }},\n",
    "                        { \"$group\": {\"_id\":\n",
    "                                     {\"name\": \"$data.game_name\"},\n",
    "                                     \"avgViewers\": { \"$avg\": '$data.viewers'},\n",
    "                                     \"avgChannels\": { \"$avg\": '$data.channels'},\n",
    "                                     \"avgPopularity\": { \"$avg\": '$data.game_popularity'}\n",
    "                                     }},\n",
    "                        {\"$sort\": {\"_id\": 1} }]"
   ]
  },
  {
   "cell_type": "code",
   "execution_count": 37,
   "metadata": {},
   "outputs": [],
   "source": [
    "top_twitch_0620 = list(db.twitch.aggregate(top_twitch_0620_pipe))"
   ]
  },
  {
   "cell_type": "code",
   "execution_count": 38,
   "metadata": {},
   "outputs": [
    {
     "data": {
      "text/plain": [
       "[{'_id': {'name': 'Apex Legends'},\n",
       "  'avgViewers': 15973.658333333333,\n",
       "  'avgChannels': 1600.80625,\n",
       "  'avgPopularity': 16233.808333333332},\n",
       " {'_id': {'name': 'Auto Chess'},\n",
       "  'avgViewers': 3473.3145833333333,\n",
       "  'avgChannels': 102.01666666666667,\n",
       "  'avgPopularity': 3548.9583333333335},\n",
       " {'_id': {'name': 'Call of Duty: Advanced Warfare'},\n",
       "  'avgViewers': 8.268436578171091,\n",
       "  'avgChannels': 3.017699115044248,\n",
       "  'avgPopularity': 7.899705014749262},\n",
       " {'_id': {'name': 'Call of Duty: Black Ops'},\n",
       "  'avgViewers': 81.78646934460888,\n",
       "  'avgChannels': 12.930232558139535,\n",
       "  'avgPopularity': 83.1416490486258},\n",
       " {'_id': {'name': 'Call of Duty: Black Ops 4'},\n",
       "  'avgViewers': 10145.0125,\n",
       "  'avgChannels': 1122.56875,\n",
       "  'avgPopularity': 10217.6875}]"
      ]
     },
     "execution_count": 38,
     "metadata": {},
     "output_type": "execute_result"
    }
   ],
   "source": [
    "top_twitch_0620[:5]"
   ]
  },
  {
   "cell_type": "markdown",
   "metadata": {},
   "source": [
    "### Game with highest average viewers for each day"
   ]
  },
  {
   "cell_type": "code",
   "execution_count": 39,
   "metadata": {},
   "outputs": [],
   "source": [
    "highest_avgView_per_day_pipe = [\n",
    "    {\"$unwind\": \"$data\"},\n",
    "    { \"$group\": {\n",
    "                \"_id\": {\"name\": \"$data.game_name\",\n",
    "                        \"day\" :   { \"$substr\" : [\"$timestamp\", 8, 2 ] },\n",
    "                        \"month\" : { \"$substr\" : [\"$timestamp\", 5, 2 ] },         \n",
    "                        \"year\" :  { \"$substr\" : [\"$timestamp\", 0, 4 ] }, },                        \n",
    "                \"avgViewers\": { \"$avg\": '$data.viewers'}\n",
    "            }},\n",
    "    {\"$sort\": {\"avgViewers\": -1}},\n",
    "    {\"$group\": {\"_id\": {\n",
    "        \"day\": \"$_id.day\",\n",
    "        \"month\": \"$_id.month\",\n",
    "        \"year\": \"$_id.year\" },    \n",
    "                \"max_views\": {\"$first\": \"$avgViewers\"},\n",
    "                \"game\": {\"$first\": \"$_id.name\"}}},\n",
    "    {\"$project\": {\n",
    "            \"_id\": 0,\n",
    "            \"day\": \"$_id.day\",\n",
    "            \"month\": \"$_id.month\",\n",
    "            \"year\": \"$_id.year\",\n",
    "            \"max_views\": 1,\n",
    "            \"game\": 1} },\n",
    "    {\"$sort\": {\"day\": 1}}]"
   ]
  },
  {
   "cell_type": "code",
   "execution_count": 40,
   "metadata": {},
   "outputs": [],
   "source": [
    "highest_avgView_per_day = list(db.twitch.aggregate(highest_avgView_per_day_pipe))"
   ]
  },
  {
   "cell_type": "code",
   "execution_count": 41,
   "metadata": {},
   "outputs": [
    {
     "data": {
      "text/plain": [
       "[{'max_views': 139492.28373702423,\n",
       "  'game': 'League of Legends',\n",
       "  'day': '13',\n",
       "  'month': '06',\n",
       "  'year': '2019'},\n",
       " {'max_views': 138835.44166666668,\n",
       "  'game': 'League of Legends',\n",
       "  'day': '14',\n",
       "  'month': '06',\n",
       "  'year': '2019'},\n",
       " {'max_views': 179458.00625,\n",
       "  'game': 'League of Legends',\n",
       "  'day': '15',\n",
       "  'month': '06',\n",
       "  'year': '2019'},\n",
       " {'max_views': 165168.76617954072,\n",
       "  'game': 'League of Legends',\n",
       "  'day': '16',\n",
       "  'month': '06',\n",
       "  'year': '2019'},\n",
       " {'max_views': 131107.91666666666,\n",
       "  'game': 'Fortnite',\n",
       "  'day': '17',\n",
       "  'month': '06',\n",
       "  'year': '2019'}]"
      ]
     },
     "execution_count": 41,
     "metadata": {},
     "output_type": "execute_result"
    }
   ],
   "source": [
    "highest_avgView_per_day[:5]"
   ]
  },
  {
   "cell_type": "markdown",
   "metadata": {},
   "source": [
    "We could write a very similar query to find, for each day, the game with the highest average popularity or number of channels."
   ]
  },
  {
   "cell_type": "markdown",
   "metadata": {},
   "source": [
    "### Hourly statistics for every game streamed on twitch"
   ]
  },
  {
   "cell_type": "code",
   "execution_count": 42,
   "metadata": {},
   "outputs": [],
   "source": [
    "all_twitch_hourly_avg_pipe = [{\"$unwind\": \"$data\"},\n",
    "                              { \"$group\": {\"_id\":\n",
    "                                           {\"name\": \"$data.game_name\",\n",
    "                                            \"year\" :  { \"$substr\" : [\"$timestamp\", 0, 4 ] }, \n",
    "                                            \"month\" : { \"$substr\" : [\"$timestamp\", 5, 2 ] },     \n",
    "                                            \"day\" :   { \"$substr\" : [\"$timestamp\", 8, 2 ] },\n",
    "                                            \"hour\": { \"$substr\" : [\"$timestamp\", 11, 2 ] } },\n",
    "                                           \"avgViewers\": { \"$avg\": '$data.viewers'}\n",
    "                                           }},\n",
    "                              {\"$sort\": {\"_id\": 1} }]"
   ]
  },
  {
   "cell_type": "code",
   "execution_count": 43,
   "metadata": {},
   "outputs": [],
   "source": [
    "all_twitch_hourly_avg = list(db.twitch.aggregate(all_twitch_hourly_avg_pipe, allowDiskUse = True))"
   ]
  },
  {
   "cell_type": "markdown",
   "metadata": {},
   "source": [
    "It is easier to visualize the result as a dataframe:"
   ]
  },
  {
   "cell_type": "code",
   "execution_count": 44,
   "metadata": {},
   "outputs": [],
   "source": [
    "all_twitch_hourly_avg_df = json_normalize(all_twitch_hourly_avg)"
   ]
  },
  {
   "cell_type": "code",
   "execution_count": 45,
   "metadata": {},
   "outputs": [],
   "source": [
    "all_twitch_hourly_avg_df = all_twitch_hourly_avg_df.rename(index=str, columns={\"_id.name\": \"name\", \"_id.hour\": \"hour\",\n",
    "                                   \"_id.day\": \"day\",\"_id.month\": \"month\",\"_id.year\": \"year\"})\n",
    "all_twitch_hourly_avg_df = all_twitch_hourly_avg_df[['name','day', 'month', 'year', 'hour', 'avgViewers']]"
   ]
  },
  {
   "cell_type": "code",
   "execution_count": 46,
   "metadata": {},
   "outputs": [],
   "source": [
    "all_twitch_hourly_avg_df['hourly_top'] = all_twitch_hourly_avg_df.sort_values(['day', 'month', 'year', 'hour', 'avgViewers'],\n",
    "                               ascending=[True, True, True, True, False]).groupby(['day', 'month', 'year', 'hour']).cumcount()\n",
    "all_twitch_hourly_avg_df['hourly_top'] = all_twitch_hourly_avg_df['hourly_top'] + 1"
   ]
  },
  {
   "cell_type": "code",
   "execution_count": 47,
   "metadata": {},
   "outputs": [
    {
     "data": {
      "text/html": [
       "<div>\n",
       "<style scoped>\n",
       "    .dataframe tbody tr th:only-of-type {\n",
       "        vertical-align: middle;\n",
       "    }\n",
       "\n",
       "    .dataframe tbody tr th {\n",
       "        vertical-align: top;\n",
       "    }\n",
       "\n",
       "    .dataframe thead th {\n",
       "        text-align: right;\n",
       "    }\n",
       "</style>\n",
       "<table border=\"1\" class=\"dataframe\">\n",
       "  <thead>\n",
       "    <tr style=\"text-align: right;\">\n",
       "      <th></th>\n",
       "      <th>name</th>\n",
       "      <th>day</th>\n",
       "      <th>month</th>\n",
       "      <th>year</th>\n",
       "      <th>hour</th>\n",
       "      <th>avgViewers</th>\n",
       "      <th>hourly_top</th>\n",
       "    </tr>\n",
       "  </thead>\n",
       "  <tbody>\n",
       "    <tr>\n",
       "      <th>0</th>\n",
       "      <td>8 To Glory - The Official Game of the PBR</td>\n",
       "      <td>14</td>\n",
       "      <td>06</td>\n",
       "      <td>2019</td>\n",
       "      <td>18</td>\n",
       "      <td>1.000000</td>\n",
       "      <td>2206</td>\n",
       "    </tr>\n",
       "    <tr>\n",
       "      <th>1</th>\n",
       "      <td>8 To Glory - The Official Game of the PBR</td>\n",
       "      <td>22</td>\n",
       "      <td>06</td>\n",
       "      <td>2019</td>\n",
       "      <td>05</td>\n",
       "      <td>5.000000</td>\n",
       "      <td>1250</td>\n",
       "    </tr>\n",
       "    <tr>\n",
       "      <th>2</th>\n",
       "      <td>F1 2019</td>\n",
       "      <td>20</td>\n",
       "      <td>06</td>\n",
       "      <td>2019</td>\n",
       "      <td>17</td>\n",
       "      <td>10.000000</td>\n",
       "      <td>1034</td>\n",
       "    </tr>\n",
       "    <tr>\n",
       "      <th>3</th>\n",
       "      <td>F1 2019</td>\n",
       "      <td>20</td>\n",
       "      <td>06</td>\n",
       "      <td>2019</td>\n",
       "      <td>18</td>\n",
       "      <td>24.842105</td>\n",
       "      <td>726</td>\n",
       "    </tr>\n",
       "    <tr>\n",
       "      <th>4</th>\n",
       "      <td>F1 2019</td>\n",
       "      <td>20</td>\n",
       "      <td>06</td>\n",
       "      <td>2019</td>\n",
       "      <td>19</td>\n",
       "      <td>29.250000</td>\n",
       "      <td>727</td>\n",
       "    </tr>\n",
       "  </tbody>\n",
       "</table>\n",
       "</div>"
      ],
      "text/plain": [
       "                                         name day month  year hour  \\\n",
       "0   8 To Glory - The Official Game of the PBR  14    06  2019   18   \n",
       "1   8 To Glory - The Official Game of the PBR  22    06  2019   05   \n",
       "2                                     F1 2019  20    06  2019   17   \n",
       "3                                     F1 2019  20    06  2019   18   \n",
       "4                                     F1 2019  20    06  2019   19   \n",
       "\n",
       "   avgViewers  hourly_top  \n",
       "0    1.000000        2206  \n",
       "1    5.000000        1250  \n",
       "2   10.000000        1034  \n",
       "3   24.842105         726  \n",
       "4   29.250000         727  "
      ]
     },
     "execution_count": 47,
     "metadata": {},
     "output_type": "execute_result"
    }
   ],
   "source": [
    "all_twitch_hourly_avg_df.head()"
   ]
  },
  {
   "cell_type": "code",
   "execution_count": 48,
   "metadata": {},
   "outputs": [
    {
     "data": {
      "text/html": [
       "<div>\n",
       "<style scoped>\n",
       "    .dataframe tbody tr th:only-of-type {\n",
       "        vertical-align: middle;\n",
       "    }\n",
       "\n",
       "    .dataframe tbody tr th {\n",
       "        vertical-align: top;\n",
       "    }\n",
       "\n",
       "    .dataframe thead th {\n",
       "        text-align: right;\n",
       "    }\n",
       "</style>\n",
       "<table border=\"1\" class=\"dataframe\">\n",
       "  <thead>\n",
       "    <tr style=\"text-align: right;\">\n",
       "      <th></th>\n",
       "      <th>name</th>\n",
       "      <th>day</th>\n",
       "      <th>month</th>\n",
       "      <th>year</th>\n",
       "      <th>hour</th>\n",
       "      <th>avgViewers</th>\n",
       "      <th>hourly_top</th>\n",
       "    </tr>\n",
       "  </thead>\n",
       "  <tbody>\n",
       "    <tr>\n",
       "      <th>237660</th>\n",
       "      <td>Fortnite</td>\n",
       "      <td>13</td>\n",
       "      <td>06</td>\n",
       "      <td>2019</td>\n",
       "      <td>09</td>\n",
       "      <td>62169.700000</td>\n",
       "      <td>3</td>\n",
       "    </tr>\n",
       "    <tr>\n",
       "      <th>237661</th>\n",
       "      <td>Fortnite</td>\n",
       "      <td>13</td>\n",
       "      <td>06</td>\n",
       "      <td>2019</td>\n",
       "      <td>10</td>\n",
       "      <td>59070.947368</td>\n",
       "      <td>4</td>\n",
       "    </tr>\n",
       "    <tr>\n",
       "      <th>237662</th>\n",
       "      <td>Fortnite</td>\n",
       "      <td>13</td>\n",
       "      <td>06</td>\n",
       "      <td>2019</td>\n",
       "      <td>11</td>\n",
       "      <td>62658.250000</td>\n",
       "      <td>4</td>\n",
       "    </tr>\n",
       "    <tr>\n",
       "      <th>237663</th>\n",
       "      <td>Fortnite</td>\n",
       "      <td>13</td>\n",
       "      <td>06</td>\n",
       "      <td>2019</td>\n",
       "      <td>12</td>\n",
       "      <td>71340.750000</td>\n",
       "      <td>3</td>\n",
       "    </tr>\n",
       "    <tr>\n",
       "      <th>237664</th>\n",
       "      <td>Fortnite</td>\n",
       "      <td>13</td>\n",
       "      <td>06</td>\n",
       "      <td>2019</td>\n",
       "      <td>13</td>\n",
       "      <td>73720.100000</td>\n",
       "      <td>4</td>\n",
       "    </tr>\n",
       "  </tbody>\n",
       "</table>\n",
       "</div>"
      ],
      "text/plain": [
       "            name day month  year hour    avgViewers  hourly_top\n",
       "237660  Fortnite  13    06  2019   09  62169.700000           3\n",
       "237661  Fortnite  13    06  2019   10  59070.947368           4\n",
       "237662  Fortnite  13    06  2019   11  62658.250000           4\n",
       "237663  Fortnite  13    06  2019   12  71340.750000           3\n",
       "237664  Fortnite  13    06  2019   13  73720.100000           4"
      ]
     },
     "execution_count": 48,
     "metadata": {},
     "output_type": "execute_result"
    }
   ],
   "source": [
    "all_twitch_hourly_avg_df[all_twitch_hourly_avg_df['name'] == 'Fortnite'].head()"
   ]
  },
  {
   "cell_type": "code",
   "execution_count": 49,
   "metadata": {
    "scrolled": true
   },
   "outputs": [
    {
     "data": {
      "text/html": [
       "<div>\n",
       "<style scoped>\n",
       "    .dataframe tbody tr th:only-of-type {\n",
       "        vertical-align: middle;\n",
       "    }\n",
       "\n",
       "    .dataframe tbody tr th {\n",
       "        vertical-align: top;\n",
       "    }\n",
       "\n",
       "    .dataframe thead th {\n",
       "        text-align: right;\n",
       "    }\n",
       "</style>\n",
       "<table border=\"1\" class=\"dataframe\">\n",
       "  <thead>\n",
       "    <tr style=\"text-align: right;\">\n",
       "      <th></th>\n",
       "      <th>name</th>\n",
       "      <th>day</th>\n",
       "      <th>month</th>\n",
       "      <th>year</th>\n",
       "      <th>hour</th>\n",
       "      <th>avgViewers</th>\n",
       "      <th>hourly_top</th>\n",
       "    </tr>\n",
       "  </thead>\n",
       "  <tbody>\n",
       "    <tr>\n",
       "      <th>622894</th>\n",
       "      <td>Tetris</td>\n",
       "      <td>13</td>\n",
       "      <td>06</td>\n",
       "      <td>2019</td>\n",
       "      <td>09</td>\n",
       "      <td>14.333333</td>\n",
       "      <td>533</td>\n",
       "    </tr>\n",
       "    <tr>\n",
       "      <th>622895</th>\n",
       "      <td>Tetris</td>\n",
       "      <td>13</td>\n",
       "      <td>06</td>\n",
       "      <td>2019</td>\n",
       "      <td>10</td>\n",
       "      <td>13.578947</td>\n",
       "      <td>570</td>\n",
       "    </tr>\n",
       "    <tr>\n",
       "      <th>622896</th>\n",
       "      <td>Tetris</td>\n",
       "      <td>13</td>\n",
       "      <td>06</td>\n",
       "      <td>2019</td>\n",
       "      <td>11</td>\n",
       "      <td>4.111111</td>\n",
       "      <td>974</td>\n",
       "    </tr>\n",
       "    <tr>\n",
       "      <th>622897</th>\n",
       "      <td>Tetris</td>\n",
       "      <td>13</td>\n",
       "      <td>06</td>\n",
       "      <td>2019</td>\n",
       "      <td>12</td>\n",
       "      <td>11.300000</td>\n",
       "      <td>711</td>\n",
       "    </tr>\n",
       "    <tr>\n",
       "      <th>622898</th>\n",
       "      <td>Tetris</td>\n",
       "      <td>13</td>\n",
       "      <td>06</td>\n",
       "      <td>2019</td>\n",
       "      <td>13</td>\n",
       "      <td>23.052632</td>\n",
       "      <td>589</td>\n",
       "    </tr>\n",
       "  </tbody>\n",
       "</table>\n",
       "</div>"
      ],
      "text/plain": [
       "          name day month  year hour  avgViewers  hourly_top\n",
       "622894  Tetris  13    06  2019   09   14.333333         533\n",
       "622895  Tetris  13    06  2019   10   13.578947         570\n",
       "622896  Tetris  13    06  2019   11    4.111111         974\n",
       "622897  Tetris  13    06  2019   12   11.300000         711\n",
       "622898  Tetris  13    06  2019   13   23.052632         589"
      ]
     },
     "execution_count": 49,
     "metadata": {},
     "output_type": "execute_result"
    }
   ],
   "source": [
    "all_twitch_hourly_avg_df[all_twitch_hourly_avg_df['name'] == 'Tetris'].head()"
   ]
  },
  {
   "cell_type": "markdown",
   "metadata": {},
   "source": [
    "# Queries on Twitter"
   ]
  },
  {
   "cell_type": "code",
   "execution_count": 50,
   "metadata": {
    "scrolled": true
   },
   "outputs": [
    {
     "data": {
      "text/plain": [
       "['death stranding',\n",
       " 'new super mario bros. wii',\n",
       " 'pokémon red/blue',\n",
       " 'mario kart ds',\n",
       " 'grand theft auto iv']"
      ]
     },
     "execution_count": 50,
     "metadata": {},
     "output_type": "execute_result"
    }
   ],
   "source": [
    "with open(\"../top_50_games_to_monitor.json\", \"r\") as f:\n",
    "    game_list = json.load(f)\n",
    "    tweet_top_games = game_list[\"selected_top_50_games\"][\"norm_name\"]\n",
    "\n",
    "tweet_top_games[:5]"
   ]
  },
  {
   "cell_type": "markdown",
   "metadata": {},
   "source": [
    "### Daily total retweets, likes, and tweet count for each game in the top_games list"
   ]
  },
  {
   "cell_type": "code",
   "execution_count": 51,
   "metadata": {},
   "outputs": [],
   "source": [
    "tweet_daily_pipe = [{\"$match\" : { \"query\" : { \"$in\" : tweet_top_games},  }}, \n",
    "            { \"$group\": {\n",
    "                \"_id\": {\"name\": \"$query\",\n",
    "                        \"day\": { \"$dayOfMonth\": \"$date\" },\n",
    "                        \"month\": { \"$month\": \"$date\" },\n",
    "                        \"year\": { \"$year\": \"$date\" }},\n",
    "                \"tot_retweets\": { \"$sum\": \"$retweets\" },\n",
    "                \"tot_likes\": { \"$sum\" : \"$likes\"},\n",
    "                \"tweet_count\" : { \"$sum\": 1 }\n",
    "            }},\n",
    "            {\"$sort\": {\"_id\": 1} }]"
   ]
  },
  {
   "cell_type": "code",
   "execution_count": 52,
   "metadata": {},
   "outputs": [],
   "source": [
    "tweet_daily = list(db.twitter.aggregate(tweet_daily_pipe))"
   ]
  },
  {
   "cell_type": "code",
   "execution_count": 53,
   "metadata": {},
   "outputs": [
    {
     "data": {
      "text/plain": [
       "[{'_id': {'name': 'apex legends', 'day': 13, 'month': 6, 'year': 2019},\n",
       "  'tot_retweets': 54,\n",
       "  'tot_likes': 349,\n",
       "  'tweet_count': 96},\n",
       " {'_id': {'name': 'apex legends', 'day': 14, 'month': 6, 'year': 2019},\n",
       "  'tot_retweets': 140,\n",
       "  'tot_likes': 1022,\n",
       "  'tweet_count': 200},\n",
       " {'_id': {'name': 'apex legends', 'day': 15, 'month': 6, 'year': 2019},\n",
       "  'tot_retweets': 160,\n",
       "  'tot_likes': 1154,\n",
       "  'tweet_count': 200},\n",
       " {'_id': {'name': 'apex legends', 'day': 16, 'month': 6, 'year': 2019},\n",
       "  'tot_retweets': 173,\n",
       "  'tot_likes': 1491,\n",
       "  'tweet_count': 169}]"
      ]
     },
     "execution_count": 53,
     "metadata": {},
     "output_type": "execute_result"
    }
   ],
   "source": [
    "tweet_daily[0:4]"
   ]
  },
  {
   "cell_type": "code",
   "execution_count": 54,
   "metadata": {},
   "outputs": [
    {
     "data": {
      "text/html": [
       "<div>\n",
       "<style scoped>\n",
       "    .dataframe tbody tr th:only-of-type {\n",
       "        vertical-align: middle;\n",
       "    }\n",
       "\n",
       "    .dataframe tbody tr th {\n",
       "        vertical-align: top;\n",
       "    }\n",
       "\n",
       "    .dataframe thead th {\n",
       "        text-align: right;\n",
       "    }\n",
       "</style>\n",
       "<table border=\"1\" class=\"dataframe\">\n",
       "  <thead>\n",
       "    <tr style=\"text-align: right;\">\n",
       "      <th></th>\n",
       "      <th>name</th>\n",
       "      <th>day</th>\n",
       "      <th>month</th>\n",
       "      <th>year</th>\n",
       "      <th>tot_retweets</th>\n",
       "      <th>tot_likes</th>\n",
       "      <th>tweet_count</th>\n",
       "    </tr>\n",
       "  </thead>\n",
       "  <tbody>\n",
       "    <tr>\n",
       "      <th>0</th>\n",
       "      <td>apex legends</td>\n",
       "      <td>13</td>\n",
       "      <td>6</td>\n",
       "      <td>2019</td>\n",
       "      <td>54</td>\n",
       "      <td>349</td>\n",
       "      <td>96</td>\n",
       "    </tr>\n",
       "    <tr>\n",
       "      <th>1</th>\n",
       "      <td>apex legends</td>\n",
       "      <td>14</td>\n",
       "      <td>6</td>\n",
       "      <td>2019</td>\n",
       "      <td>140</td>\n",
       "      <td>1022</td>\n",
       "      <td>200</td>\n",
       "    </tr>\n",
       "    <tr>\n",
       "      <th>2</th>\n",
       "      <td>apex legends</td>\n",
       "      <td>15</td>\n",
       "      <td>6</td>\n",
       "      <td>2019</td>\n",
       "      <td>160</td>\n",
       "      <td>1154</td>\n",
       "      <td>200</td>\n",
       "    </tr>\n",
       "    <tr>\n",
       "      <th>3</th>\n",
       "      <td>apex legends</td>\n",
       "      <td>16</td>\n",
       "      <td>6</td>\n",
       "      <td>2019</td>\n",
       "      <td>173</td>\n",
       "      <td>1491</td>\n",
       "      <td>169</td>\n",
       "    </tr>\n",
       "    <tr>\n",
       "      <th>4</th>\n",
       "      <td>apex legends</td>\n",
       "      <td>17</td>\n",
       "      <td>6</td>\n",
       "      <td>2019</td>\n",
       "      <td>112</td>\n",
       "      <td>692</td>\n",
       "      <td>16</td>\n",
       "    </tr>\n",
       "  </tbody>\n",
       "</table>\n",
       "</div>"
      ],
      "text/plain": [
       "           name  day  month  year  tot_retweets  tot_likes  tweet_count\n",
       "0  apex legends   13      6  2019            54        349           96\n",
       "1  apex legends   14      6  2019           140       1022          200\n",
       "2  apex legends   15      6  2019           160       1154          200\n",
       "3  apex legends   16      6  2019           173       1491          169\n",
       "4  apex legends   17      6  2019           112        692           16"
      ]
     },
     "execution_count": 54,
     "metadata": {},
     "output_type": "execute_result"
    }
   ],
   "source": [
    "tweet_daily_df = json_normalize(tweet_daily)\n",
    "tweet_daily_df = tweet_daily_df.rename(index=str, columns={\"_id.name\": \"name\", \"_id.day\": \"day\",\"_id.month\": \"month\",\"_id.year\": \"year\"})\n",
    "tweet_daily_df = tweet_daily_df[['name', 'day', 'month', 'year', 'tot_retweets', 'tot_likes', 'tweet_count']]\n",
    "tweet_daily_df.head()"
   ]
  },
  {
   "cell_type": "code",
   "execution_count": 55,
   "metadata": {},
   "outputs": [
    {
     "data": {
      "text/html": [
       "<div>\n",
       "<style scoped>\n",
       "    .dataframe tbody tr th:only-of-type {\n",
       "        vertical-align: middle;\n",
       "    }\n",
       "\n",
       "    .dataframe tbody tr th {\n",
       "        vertical-align: top;\n",
       "    }\n",
       "\n",
       "    .dataframe thead th {\n",
       "        text-align: right;\n",
       "    }\n",
       "</style>\n",
       "<table border=\"1\" class=\"dataframe\">\n",
       "  <thead>\n",
       "    <tr style=\"text-align: right;\">\n",
       "      <th></th>\n",
       "      <th>name</th>\n",
       "      <th>day</th>\n",
       "      <th>month</th>\n",
       "      <th>year</th>\n",
       "      <th>tot_retweets</th>\n",
       "      <th>tot_likes</th>\n",
       "      <th>tweet_count</th>\n",
       "    </tr>\n",
       "  </thead>\n",
       "  <tbody>\n",
       "    <tr>\n",
       "      <th>495</th>\n",
       "      <td>tetris</td>\n",
       "      <td>13</td>\n",
       "      <td>6</td>\n",
       "      <td>2019</td>\n",
       "      <td>28</td>\n",
       "      <td>282</td>\n",
       "      <td>200</td>\n",
       "    </tr>\n",
       "    <tr>\n",
       "      <th>496</th>\n",
       "      <td>tetris</td>\n",
       "      <td>14</td>\n",
       "      <td>6</td>\n",
       "      <td>2019</td>\n",
       "      <td>726</td>\n",
       "      <td>4310</td>\n",
       "      <td>76</td>\n",
       "    </tr>\n",
       "    <tr>\n",
       "      <th>497</th>\n",
       "      <td>tetris</td>\n",
       "      <td>15</td>\n",
       "      <td>6</td>\n",
       "      <td>2019</td>\n",
       "      <td>60</td>\n",
       "      <td>597</td>\n",
       "      <td>200</td>\n",
       "    </tr>\n",
       "    <tr>\n",
       "      <th>498</th>\n",
       "      <td>tetris</td>\n",
       "      <td>16</td>\n",
       "      <td>6</td>\n",
       "      <td>2019</td>\n",
       "      <td>143</td>\n",
       "      <td>903</td>\n",
       "      <td>200</td>\n",
       "    </tr>\n",
       "    <tr>\n",
       "      <th>499</th>\n",
       "      <td>tetris</td>\n",
       "      <td>17</td>\n",
       "      <td>6</td>\n",
       "      <td>2019</td>\n",
       "      <td>175</td>\n",
       "      <td>830</td>\n",
       "      <td>200</td>\n",
       "    </tr>\n",
       "    <tr>\n",
       "      <th>500</th>\n",
       "      <td>tetris</td>\n",
       "      <td>18</td>\n",
       "      <td>6</td>\n",
       "      <td>2019</td>\n",
       "      <td>360</td>\n",
       "      <td>1830</td>\n",
       "      <td>110</td>\n",
       "    </tr>\n",
       "    <tr>\n",
       "      <th>501</th>\n",
       "      <td>tetris</td>\n",
       "      <td>19</td>\n",
       "      <td>6</td>\n",
       "      <td>2019</td>\n",
       "      <td>317</td>\n",
       "      <td>1547</td>\n",
       "      <td>200</td>\n",
       "    </tr>\n",
       "    <tr>\n",
       "      <th>502</th>\n",
       "      <td>tetris</td>\n",
       "      <td>20</td>\n",
       "      <td>6</td>\n",
       "      <td>2019</td>\n",
       "      <td>764</td>\n",
       "      <td>11352</td>\n",
       "      <td>200</td>\n",
       "    </tr>\n",
       "    <tr>\n",
       "      <th>503</th>\n",
       "      <td>tetris</td>\n",
       "      <td>21</td>\n",
       "      <td>6</td>\n",
       "      <td>2019</td>\n",
       "      <td>188</td>\n",
       "      <td>1452</td>\n",
       "      <td>200</td>\n",
       "    </tr>\n",
       "    <tr>\n",
       "      <th>504</th>\n",
       "      <td>tetris</td>\n",
       "      <td>22</td>\n",
       "      <td>6</td>\n",
       "      <td>2019</td>\n",
       "      <td>38</td>\n",
       "      <td>305</td>\n",
       "      <td>29</td>\n",
       "    </tr>\n",
       "    <tr>\n",
       "      <th>505</th>\n",
       "      <td>tetris</td>\n",
       "      <td>23</td>\n",
       "      <td>6</td>\n",
       "      <td>2019</td>\n",
       "      <td>125</td>\n",
       "      <td>791</td>\n",
       "      <td>200</td>\n",
       "    </tr>\n",
       "    <tr>\n",
       "      <th>506</th>\n",
       "      <td>tetris</td>\n",
       "      <td>24</td>\n",
       "      <td>6</td>\n",
       "      <td>2019</td>\n",
       "      <td>112</td>\n",
       "      <td>1456</td>\n",
       "      <td>200</td>\n",
       "    </tr>\n",
       "    <tr>\n",
       "      <th>507</th>\n",
       "      <td>tetris</td>\n",
       "      <td>25</td>\n",
       "      <td>6</td>\n",
       "      <td>2019</td>\n",
       "      <td>90</td>\n",
       "      <td>1417</td>\n",
       "      <td>90</td>\n",
       "    </tr>\n",
       "  </tbody>\n",
       "</table>\n",
       "</div>"
      ],
      "text/plain": [
       "       name  day  month  year  tot_retweets  tot_likes  tweet_count\n",
       "495  tetris   13      6  2019            28        282          200\n",
       "496  tetris   14      6  2019           726       4310           76\n",
       "497  tetris   15      6  2019            60        597          200\n",
       "498  tetris   16      6  2019           143        903          200\n",
       "499  tetris   17      6  2019           175        830          200\n",
       "500  tetris   18      6  2019           360       1830          110\n",
       "501  tetris   19      6  2019           317       1547          200\n",
       "502  tetris   20      6  2019           764      11352          200\n",
       "503  tetris   21      6  2019           188       1452          200\n",
       "504  tetris   22      6  2019            38        305           29\n",
       "505  tetris   23      6  2019           125        791          200\n",
       "506  tetris   24      6  2019           112       1456          200\n",
       "507  tetris   25      6  2019            90       1417           90"
      ]
     },
     "execution_count": 55,
     "metadata": {},
     "output_type": "execute_result"
    }
   ],
   "source": [
    "tweet_daily_df[tweet_daily_df['name'] == 'tetris']"
   ]
  },
  {
   "cell_type": "markdown",
   "metadata": {},
   "source": [
    "### Game with the highest retweet count for each day:"
   ]
  },
  {
   "cell_type": "code",
   "execution_count": 56,
   "metadata": {},
   "outputs": [],
   "source": [
    "pipeline_highest_retweet_per_day = [{\n",
    "    \"$group\": {\"_id\": {\"name\": \"$query\",\n",
    "                       \"day\": {\"$dayOfMonth\": \"$date\"},\n",
    "                       \"month\": {\"$month\": \"$date\"},\n",
    "                       \"year\": {\"$year\": \"$date\"} },\n",
    "               \"tot_retweets\": { \"$sum\": \"$retweets\"}} },\n",
    "    {\"$sort\": {\"tot_retweets\": -1} },\n",
    "    {\"$group\": {\"_id\": {\"day\": \"$_id.day\",\n",
    "                        \"month\": \"$_id.month\",\n",
    "                        \"year\": \"$_id.year\"},\n",
    "                \"max_retweets\": {\"$first\": \"$tot_retweets\"},\n",
    "                \"game\": {\"$first\": \"$_id.name\"} } },\n",
    "    {\"$project\": {\"_id\": 0,\n",
    "                  \"day\": \"$_id.day\",\n",
    "                  \"month\": \"$_id.month\",\n",
    "                  \"year\": \"$_id.year\",\n",
    "                  \"max_retweets\": 1,\n",
    "                  \"game\": 1 } },\n",
    "    {\"$sort\": { \"day\": 1}}]"
   ]
  },
  {
   "cell_type": "code",
   "execution_count": 57,
   "metadata": {},
   "outputs": [
    {
     "data": {
      "text/plain": [
       "[{'max_retweets': 419,\n",
       "  'game': 'fortnite',\n",
       "  'day': 13,\n",
       "  'month': 6,\n",
       "  'year': 2019},\n",
       " {'max_retweets': 1878,\n",
       "  'game': 'fortnite',\n",
       "  'day': 14,\n",
       "  'month': 6,\n",
       "  'year': 2019},\n",
       " {'max_retweets': 9617,\n",
       "  'game': 'pokémon gold/silver',\n",
       "  'day': 15,\n",
       "  'month': 6,\n",
       "  'year': 2019},\n",
       " {'max_retweets': 3365, 'game': 'slots', 'day': 16, 'month': 6, 'year': 2019},\n",
       " {'max_retweets': 6082,\n",
       "  'game': 'overwatch',\n",
       "  'day': 17,\n",
       "  'month': 6,\n",
       "  'year': 2019}]"
      ]
     },
     "execution_count": 57,
     "metadata": {},
     "output_type": "execute_result"
    }
   ],
   "source": [
    "highest_retweet_per_day = list(db.twitter.aggregate(pipeline_highest_retweet_per_day))\n",
    "highest_retweet_per_day[:5]"
   ]
  },
  {
   "cell_type": "markdown",
   "metadata": {},
   "source": [
    "### Game with the highest likes for each day:"
   ]
  },
  {
   "cell_type": "code",
   "execution_count": 58,
   "metadata": {},
   "outputs": [],
   "source": [
    "pipeline_highest_likes_per_day = [{\n",
    "    \"$group\": {\"_id\": {\"name\": \"$query\",\n",
    "                       \"day\": {\"$dayOfMonth\": \"$date\"},\n",
    "                       \"month\": {\"$month\": \"$date\"},\n",
    "                       \"year\": {\"$year\": \"$date\"} },\n",
    "               \"tot_likes\": { \"$sum\": \"$likes\"}} },\n",
    "    {\"$sort\": {\"tot_likes\": -1} },\n",
    "    {\"$group\": {\"_id\": {\"day\": \"$_id.day\",\n",
    "                        \"month\": \"$_id.month\",\n",
    "                        \"year\": \"$_id.year\"},\n",
    "                \"max_likes\": {\"$first\": \"$tot_likes\"},\n",
    "                \"game\": {\"$first\": \"$_id.name\"} } },\n",
    "    {\"$project\": {\"_id\": 0,\n",
    "                  \"day\": \"$_id.day\",\n",
    "                  \"month\": \"$_id.month\",\n",
    "                  \"year\": \"$_id.year\",\n",
    "                  \"max_likes\": 1,\n",
    "                  \"game\": 1 } },\n",
    "    {\"$sort\": { \"day\": 1}}]"
   ]
  },
  {
   "cell_type": "code",
   "execution_count": 59,
   "metadata": {},
   "outputs": [
    {
     "data": {
      "text/plain": [
       "[{'max_likes': 7344, 'game': 'fortnite', 'day': 13, 'month': 6, 'year': 2019},\n",
       " {'max_likes': 34285, 'game': 'fortnite', 'day': 14, 'month': 6, 'year': 2019},\n",
       " {'max_likes': 48678,\n",
       "  'game': 'pokémon gold/silver',\n",
       "  'day': 15,\n",
       "  'month': 6,\n",
       "  'year': 2019},\n",
       " {'max_likes': 33085, 'game': 'fortnite', 'day': 16, 'month': 6, 'year': 2019},\n",
       " {'max_likes': 35726, 'game': 'fortnite', 'day': 17, 'month': 6, 'year': 2019},\n",
       " {'max_likes': 53061, 'game': 'fortnite', 'day': 18, 'month': 6, 'year': 2019},\n",
       " {'max_likes': 15202, 'game': 'fortnite', 'day': 19, 'month': 6, 'year': 2019},\n",
       " {'max_likes': 30358, 'game': 'fortnite', 'day': 20, 'month': 6, 'year': 2019},\n",
       " {'max_likes': 22664, 'game': 'fortnite', 'day': 21, 'month': 6, 'year': 2019},\n",
       " {'max_likes': 43675,\n",
       "  'game': 'minecraft',\n",
       "  'day': 22,\n",
       "  'month': 6,\n",
       "  'year': 2019},\n",
       " {'max_likes': 25375,\n",
       "  'game': 'minecraft',\n",
       "  'day': 23,\n",
       "  'month': 6,\n",
       "  'year': 2019},\n",
       " {'max_likes': 39009, 'game': 'fortnite', 'day': 24, 'month': 6, 'year': 2019},\n",
       " {'max_likes': 52761, 'game': 'fortnite', 'day': 25, 'month': 6, 'year': 2019}]"
      ]
     },
     "execution_count": 59,
     "metadata": {},
     "output_type": "execute_result"
    }
   ],
   "source": [
    "highest_likes_per_day = list(db.twitter.aggregate(pipeline_highest_likes_per_day))\n",
    "highest_likes_per_day"
   ]
  },
  {
   "cell_type": "markdown",
   "metadata": {},
   "source": [
    "### Which is the day with the highest likes? And which is the one with the lowest values?"
   ]
  },
  {
   "cell_type": "code",
   "execution_count": 60,
   "metadata": {},
   "outputs": [],
   "source": [
    "pipeline_highest_likes = [{\n",
    "    \"$group\": {\"_id\": {\"day\": {\"$dayOfMonth\": \"$date\"},\n",
    "                       \"month\": {\"$month\": \"$date\"},\n",
    "                       \"year\": {\"$year\": \"$date\"} },\n",
    "               \"tot_likes\": { \"$sum\": \"$likes\"}} },\n",
    "    {\"$sort\": {\"tot_likes\": -1} },\n",
    "    {\"$group\": {\"_id\": {\"day\": \"$_id.day\",\n",
    "                        \"month\": \"$_id.month\",\n",
    "                        \"year\": \"$_id.year\"},\n",
    "                \"max_likes\": {\"$first\": \"$tot_likes\"}}},\n",
    "    {\"$project\": {\"_id\": 0,\n",
    "                  \"day\": \"$_id.day\",\n",
    "                  \"month\": \"$_id.month\",\n",
    "                  \"year\": \"$_id.year\",\n",
    "                  \"max_likes\": 1} },\n",
    "    {\"$sort\": { \"max_likes\": -1}}]"
   ]
  },
  {
   "cell_type": "code",
   "execution_count": 61,
   "metadata": {
    "scrolled": true
   },
   "outputs": [
    {
     "name": "stdout",
     "output_type": "stream",
     "text": [
      "Day with highest likes: \n",
      "\t {'max_likes': 129262, 'day': 15, 'month': 6, 'year': 2019} \n",
      "\n",
      "Day with lowest likes: \n",
      "\t {'max_likes': 22493, 'day': 13, 'month': 6, 'year': 2019}\n"
     ]
    }
   ],
   "source": [
    "highest_likes = list(db.twitter.aggregate(pipeline_highest_likes))\n",
    "print('Day with highest likes: \\n\\t', highest_likes[0],\n",
    "      '\\n\\nDay with lowest likes: \\n\\t', highest_likes[-1])"
   ]
  },
  {
   "cell_type": "markdown",
   "metadata": {},
   "source": [
    "# Total \"buzz\""
   ]
  },
  {
   "cell_type": "markdown",
   "metadata": {},
   "source": [
    "We are interested in using both Twitch and Twitter data for determing which game has the highest \"buzz\", that is for us the sum of the average views on Twitch and the total retweets and likes on Twitter."
   ]
  },
  {
   "cell_type": "code",
   "execution_count": 62,
   "metadata": {},
   "outputs": [],
   "source": [
    "pip = [{\"$group\": {\"_id\": {\"name\": \"$query\",\n",
    "                          \"day\": {\"$dayOfMonth\": \"$date\"},\n",
    "                          \"month\": {\"$month\": \"$date\"},\n",
    "                          \"year\": {\"$year\": \"$date\"}},\n",
    "        \"total_retweets\": {\"$sum\": \"$retweets\"},\n",
    "        \"total_likes\": {\"$sum\": \"$likes\"}}},\n",
    "       {\"$project\": {\"_id\": 0,\n",
    "                     \"norm_name\": \"$_id.name\",\n",
    "                     \"day\": \"$_id.day\",\n",
    "                     \"month\": \"$_id.month\",\n",
    "                     \"year\": \"$_id.year\",\n",
    "                     \"total_retweets\": 1,\n",
    "                     \"total_likes\": 1}},\n",
    "       {\"$sort\": {\"day\": 1}}]"
   ]
  },
  {
   "cell_type": "code",
   "execution_count": 63,
   "metadata": {},
   "outputs": [
    {
     "data": {
      "text/html": [
       "<div>\n",
       "<style scoped>\n",
       "    .dataframe tbody tr th:only-of-type {\n",
       "        vertical-align: middle;\n",
       "    }\n",
       "\n",
       "    .dataframe tbody tr th {\n",
       "        vertical-align: top;\n",
       "    }\n",
       "\n",
       "    .dataframe thead th {\n",
       "        text-align: right;\n",
       "    }\n",
       "</style>\n",
       "<table border=\"1\" class=\"dataframe\">\n",
       "  <thead>\n",
       "    <tr style=\"text-align: right;\">\n",
       "      <th></th>\n",
       "      <th>day</th>\n",
       "      <th>month</th>\n",
       "      <th>norm_name</th>\n",
       "      <th>total_likes</th>\n",
       "      <th>total_retweets</th>\n",
       "      <th>year</th>\n",
       "    </tr>\n",
       "  </thead>\n",
       "  <tbody>\n",
       "    <tr>\n",
       "      <th>0</th>\n",
       "      <td>13</td>\n",
       "      <td>6</td>\n",
       "      <td>pokémon gold/silver</td>\n",
       "      <td>16</td>\n",
       "      <td>1</td>\n",
       "      <td>2019</td>\n",
       "    </tr>\n",
       "    <tr>\n",
       "      <th>1</th>\n",
       "      <td>13</td>\n",
       "      <td>6</td>\n",
       "      <td>hearthstone</td>\n",
       "      <td>588</td>\n",
       "      <td>37</td>\n",
       "      <td>2019</td>\n",
       "    </tr>\n",
       "    <tr>\n",
       "      <th>2</th>\n",
       "      <td>13</td>\n",
       "      <td>6</td>\n",
       "      <td>grand theft auto san andreas</td>\n",
       "      <td>1</td>\n",
       "      <td>2</td>\n",
       "      <td>2019</td>\n",
       "    </tr>\n",
       "    <tr>\n",
       "      <th>3</th>\n",
       "      <td>13</td>\n",
       "      <td>6</td>\n",
       "      <td>fortnite</td>\n",
       "      <td>7344</td>\n",
       "      <td>419</td>\n",
       "      <td>2019</td>\n",
       "    </tr>\n",
       "    <tr>\n",
       "      <th>4</th>\n",
       "      <td>13</td>\n",
       "      <td>6</td>\n",
       "      <td>playerunknown's battlegrounds</td>\n",
       "      <td>20</td>\n",
       "      <td>4</td>\n",
       "      <td>2019</td>\n",
       "    </tr>\n",
       "  </tbody>\n",
       "</table>\n",
       "</div>"
      ],
      "text/plain": [
       "   day  month                      norm_name  total_likes  total_retweets  \\\n",
       "0   13      6            pokémon gold/silver           16               1   \n",
       "1   13      6                    hearthstone          588              37   \n",
       "2   13      6   grand theft auto san andreas            1               2   \n",
       "3   13      6                       fortnite         7344             419   \n",
       "4   13      6  playerunknown's battlegrounds           20               4   \n",
       "\n",
       "   year  \n",
       "0  2019  \n",
       "1  2019  \n",
       "2  2019  \n",
       "3  2019  \n",
       "4  2019  "
      ]
     },
     "execution_count": 63,
     "metadata": {},
     "output_type": "execute_result"
    }
   ],
   "source": [
    "tweet_stats_query_results = list(db.twitter.aggregate(pip))\n",
    "tweet_stats_df = pd.DataFrame.from_records(tweet_stats_query_results)\n",
    "tweet_stats_df.head()"
   ]
  },
  {
   "cell_type": "code",
   "execution_count": 64,
   "metadata": {},
   "outputs": [
    {
     "data": {
      "text/html": [
       "<div>\n",
       "<style scoped>\n",
       "    .dataframe tbody tr th:only-of-type {\n",
       "        vertical-align: middle;\n",
       "    }\n",
       "\n",
       "    .dataframe tbody tr th {\n",
       "        vertical-align: top;\n",
       "    }\n",
       "\n",
       "    .dataframe thead th {\n",
       "        text-align: right;\n",
       "    }\n",
       "</style>\n",
       "<table border=\"1\" class=\"dataframe\">\n",
       "  <thead>\n",
       "    <tr style=\"text-align: right;\">\n",
       "      <th></th>\n",
       "      <th>name</th>\n",
       "      <th>norm_name</th>\n",
       "      <th>day</th>\n",
       "      <th>month</th>\n",
       "      <th>year</th>\n",
       "      <th>avgViewers</th>\n",
       "      <th>avgPopularity</th>\n",
       "      <th>avgChannels</th>\n",
       "    </tr>\n",
       "  </thead>\n",
       "  <tbody>\n",
       "    <tr>\n",
       "      <th>0</th>\n",
       "      <td>Apex Legends</td>\n",
       "      <td>apex legends</td>\n",
       "      <td>13</td>\n",
       "      <td>06</td>\n",
       "      <td>2019</td>\n",
       "      <td>17491.647059</td>\n",
       "      <td>17115.401384</td>\n",
       "      <td>1434.076125</td>\n",
       "    </tr>\n",
       "    <tr>\n",
       "      <th>1</th>\n",
       "      <td>Apex Legends</td>\n",
       "      <td>apex legends</td>\n",
       "      <td>14</td>\n",
       "      <td>06</td>\n",
       "      <td>2019</td>\n",
       "      <td>15606.502083</td>\n",
       "      <td>15777.739583</td>\n",
       "      <td>1634.522917</td>\n",
       "    </tr>\n",
       "    <tr>\n",
       "      <th>2</th>\n",
       "      <td>Apex Legends</td>\n",
       "      <td>apex legends</td>\n",
       "      <td>15</td>\n",
       "      <td>06</td>\n",
       "      <td>2019</td>\n",
       "      <td>15781.329167</td>\n",
       "      <td>15442.404167</td>\n",
       "      <td>1643.108333</td>\n",
       "    </tr>\n",
       "    <tr>\n",
       "      <th>3</th>\n",
       "      <td>Apex Legends</td>\n",
       "      <td>apex legends</td>\n",
       "      <td>16</td>\n",
       "      <td>06</td>\n",
       "      <td>2019</td>\n",
       "      <td>18600.824635</td>\n",
       "      <td>18946.350731</td>\n",
       "      <td>1656.649269</td>\n",
       "    </tr>\n",
       "    <tr>\n",
       "      <th>4</th>\n",
       "      <td>Apex Legends</td>\n",
       "      <td>apex legends</td>\n",
       "      <td>17</td>\n",
       "      <td>06</td>\n",
       "      <td>2019</td>\n",
       "      <td>19137.743750</td>\n",
       "      <td>18741.535417</td>\n",
       "      <td>1555.712500</td>\n",
       "    </tr>\n",
       "  </tbody>\n",
       "</table>\n",
       "</div>"
      ],
      "text/plain": [
       "           name     norm_name day month  year    avgViewers  avgPopularity  \\\n",
       "0  Apex Legends  apex legends  13    06  2019  17491.647059   17115.401384   \n",
       "1  Apex Legends  apex legends  14    06  2019  15606.502083   15777.739583   \n",
       "2  Apex Legends  apex legends  15    06  2019  15781.329167   15442.404167   \n",
       "3  Apex Legends  apex legends  16    06  2019  18600.824635   18946.350731   \n",
       "4  Apex Legends  apex legends  17    06  2019  19137.743750   18741.535417   \n",
       "\n",
       "   avgChannels  \n",
       "0  1434.076125  \n",
       "1  1634.522917  \n",
       "2  1643.108333  \n",
       "3  1656.649269  \n",
       "4  1555.712500  "
      ]
     },
     "execution_count": 64,
     "metadata": {},
     "output_type": "execute_result"
    }
   ],
   "source": [
    "twitch_stats_df.head()"
   ]
  },
  {
   "cell_type": "markdown",
   "metadata": {},
   "source": [
    "**Let's join *tweet_stats_df* and *twitch_stats_df***"
   ]
  },
  {
   "cell_type": "code",
   "execution_count": 65,
   "metadata": {},
   "outputs": [],
   "source": [
    "twitch_stats_df.day = twitch_stats_df.day.astype(int)\n",
    "twitch_stats_df.month = twitch_stats_df.month.astype(int)\n",
    "twitch_stats_df.year = twitch_stats_df.year.astype(int)"
   ]
  },
  {
   "cell_type": "code",
   "execution_count": 66,
   "metadata": {},
   "outputs": [
    {
     "data": {
      "text/html": [
       "<div>\n",
       "<style scoped>\n",
       "    .dataframe tbody tr th:only-of-type {\n",
       "        vertical-align: middle;\n",
       "    }\n",
       "\n",
       "    .dataframe tbody tr th {\n",
       "        vertical-align: top;\n",
       "    }\n",
       "\n",
       "    .dataframe thead th {\n",
       "        text-align: right;\n",
       "    }\n",
       "</style>\n",
       "<table border=\"1\" class=\"dataframe\">\n",
       "  <thead>\n",
       "    <tr style=\"text-align: right;\">\n",
       "      <th></th>\n",
       "      <th>day</th>\n",
       "      <th>month</th>\n",
       "      <th>norm_name</th>\n",
       "      <th>total_likes</th>\n",
       "      <th>total_retweets</th>\n",
       "      <th>year</th>\n",
       "      <th>name</th>\n",
       "      <th>avgViewers</th>\n",
       "      <th>avgPopularity</th>\n",
       "      <th>avgChannels</th>\n",
       "    </tr>\n",
       "  </thead>\n",
       "  <tbody>\n",
       "    <tr>\n",
       "      <th>0</th>\n",
       "      <td>13</td>\n",
       "      <td>6</td>\n",
       "      <td>pokémon gold/silver</td>\n",
       "      <td>16</td>\n",
       "      <td>1</td>\n",
       "      <td>2019</td>\n",
       "      <td>Pokémon Gold/Silver</td>\n",
       "      <td>8.733813</td>\n",
       "      <td>7.705036</td>\n",
       "      <td>1.942446</td>\n",
       "    </tr>\n",
       "    <tr>\n",
       "      <th>1</th>\n",
       "      <td>13</td>\n",
       "      <td>6</td>\n",
       "      <td>hearthstone</td>\n",
       "      <td>588</td>\n",
       "      <td>37</td>\n",
       "      <td>2019</td>\n",
       "      <td>Hearthstone</td>\n",
       "      <td>21380.671280</td>\n",
       "      <td>21350.159170</td>\n",
       "      <td>225.629758</td>\n",
       "    </tr>\n",
       "    <tr>\n",
       "      <th>2</th>\n",
       "      <td>13</td>\n",
       "      <td>6</td>\n",
       "      <td>grand theft auto san andreas</td>\n",
       "      <td>1</td>\n",
       "      <td>2</td>\n",
       "      <td>2019</td>\n",
       "      <td>Grand Theft Auto: San Andreas</td>\n",
       "      <td>455.910035</td>\n",
       "      <td>436.757785</td>\n",
       "      <td>28.186851</td>\n",
       "    </tr>\n",
       "    <tr>\n",
       "      <th>3</th>\n",
       "      <td>13</td>\n",
       "      <td>6</td>\n",
       "      <td>fortnite</td>\n",
       "      <td>7344</td>\n",
       "      <td>419</td>\n",
       "      <td>2019</td>\n",
       "      <td>Fortnite</td>\n",
       "      <td>117869.685121</td>\n",
       "      <td>116048.532872</td>\n",
       "      <td>7186.041522</td>\n",
       "    </tr>\n",
       "    <tr>\n",
       "      <th>4</th>\n",
       "      <td>13</td>\n",
       "      <td>6</td>\n",
       "      <td>playerunknown's battlegrounds</td>\n",
       "      <td>20</td>\n",
       "      <td>4</td>\n",
       "      <td>2019</td>\n",
       "      <td>PLAYERUNKNOWN'S BATTLEGROUNDS</td>\n",
       "      <td>40519.429066</td>\n",
       "      <td>40224.128028</td>\n",
       "      <td>1299.048443</td>\n",
       "    </tr>\n",
       "  </tbody>\n",
       "</table>\n",
       "</div>"
      ],
      "text/plain": [
       "   day  month                      norm_name  total_likes  total_retweets  \\\n",
       "0   13      6            pokémon gold/silver           16               1   \n",
       "1   13      6                    hearthstone          588              37   \n",
       "2   13      6   grand theft auto san andreas            1               2   \n",
       "3   13      6                       fortnite         7344             419   \n",
       "4   13      6  playerunknown's battlegrounds           20               4   \n",
       "\n",
       "   year                           name     avgViewers  avgPopularity  \\\n",
       "0  2019            Pokémon Gold/Silver       8.733813       7.705036   \n",
       "1  2019                    Hearthstone   21380.671280   21350.159170   \n",
       "2  2019  Grand Theft Auto: San Andreas     455.910035     436.757785   \n",
       "3  2019                       Fortnite  117869.685121  116048.532872   \n",
       "4  2019  PLAYERUNKNOWN'S BATTLEGROUNDS   40519.429066   40224.128028   \n",
       "\n",
       "   avgChannels  \n",
       "0     1.942446  \n",
       "1   225.629758  \n",
       "2    28.186851  \n",
       "3  7186.041522  \n",
       "4  1299.048443  "
      ]
     },
     "execution_count": 66,
     "metadata": {},
     "output_type": "execute_result"
    }
   ],
   "source": [
    "combined_stats = pd.merge(tweet_stats_df, twitch_stats_df, on = ['norm_name', 'day', 'month', 'year'], how=\"inner\")\n",
    "combined_stats.head()"
   ]
  },
  {
   "cell_type": "code",
   "execution_count": 67,
   "metadata": {},
   "outputs": [
    {
     "data": {
      "text/html": [
       "<div>\n",
       "<style scoped>\n",
       "    .dataframe tbody tr th:only-of-type {\n",
       "        vertical-align: middle;\n",
       "    }\n",
       "\n",
       "    .dataframe tbody tr th {\n",
       "        vertical-align: top;\n",
       "    }\n",
       "\n",
       "    .dataframe thead th {\n",
       "        text-align: right;\n",
       "    }\n",
       "</style>\n",
       "<table border=\"1\" class=\"dataframe\">\n",
       "  <thead>\n",
       "    <tr style=\"text-align: right;\">\n",
       "      <th></th>\n",
       "      <th>day</th>\n",
       "      <th>month</th>\n",
       "      <th>norm_name</th>\n",
       "      <th>total_likes</th>\n",
       "      <th>total_retweets</th>\n",
       "      <th>year</th>\n",
       "      <th>name</th>\n",
       "      <th>avgViewers</th>\n",
       "      <th>avgPopularity</th>\n",
       "      <th>avgChannels</th>\n",
       "      <th>buzz</th>\n",
       "    </tr>\n",
       "  </thead>\n",
       "  <tbody>\n",
       "    <tr>\n",
       "      <th>0</th>\n",
       "      <td>13</td>\n",
       "      <td>6</td>\n",
       "      <td>pokémon gold/silver</td>\n",
       "      <td>16</td>\n",
       "      <td>1</td>\n",
       "      <td>2019</td>\n",
       "      <td>Pokémon Gold/Silver</td>\n",
       "      <td>8.733813</td>\n",
       "      <td>7.705036</td>\n",
       "      <td>1.942446</td>\n",
       "      <td>25.733813</td>\n",
       "    </tr>\n",
       "    <tr>\n",
       "      <th>1</th>\n",
       "      <td>13</td>\n",
       "      <td>6</td>\n",
       "      <td>hearthstone</td>\n",
       "      <td>588</td>\n",
       "      <td>37</td>\n",
       "      <td>2019</td>\n",
       "      <td>Hearthstone</td>\n",
       "      <td>21380.671280</td>\n",
       "      <td>21350.159170</td>\n",
       "      <td>225.629758</td>\n",
       "      <td>22005.671280</td>\n",
       "    </tr>\n",
       "    <tr>\n",
       "      <th>2</th>\n",
       "      <td>13</td>\n",
       "      <td>6</td>\n",
       "      <td>grand theft auto san andreas</td>\n",
       "      <td>1</td>\n",
       "      <td>2</td>\n",
       "      <td>2019</td>\n",
       "      <td>Grand Theft Auto: San Andreas</td>\n",
       "      <td>455.910035</td>\n",
       "      <td>436.757785</td>\n",
       "      <td>28.186851</td>\n",
       "      <td>458.910035</td>\n",
       "    </tr>\n",
       "    <tr>\n",
       "      <th>3</th>\n",
       "      <td>13</td>\n",
       "      <td>6</td>\n",
       "      <td>fortnite</td>\n",
       "      <td>7344</td>\n",
       "      <td>419</td>\n",
       "      <td>2019</td>\n",
       "      <td>Fortnite</td>\n",
       "      <td>117869.685121</td>\n",
       "      <td>116048.532872</td>\n",
       "      <td>7186.041522</td>\n",
       "      <td>125632.685121</td>\n",
       "    </tr>\n",
       "    <tr>\n",
       "      <th>4</th>\n",
       "      <td>13</td>\n",
       "      <td>6</td>\n",
       "      <td>playerunknown's battlegrounds</td>\n",
       "      <td>20</td>\n",
       "      <td>4</td>\n",
       "      <td>2019</td>\n",
       "      <td>PLAYERUNKNOWN'S BATTLEGROUNDS</td>\n",
       "      <td>40519.429066</td>\n",
       "      <td>40224.128028</td>\n",
       "      <td>1299.048443</td>\n",
       "      <td>40543.429066</td>\n",
       "    </tr>\n",
       "  </tbody>\n",
       "</table>\n",
       "</div>"
      ],
      "text/plain": [
       "   day  month                      norm_name  total_likes  total_retweets  \\\n",
       "0   13      6            pokémon gold/silver           16               1   \n",
       "1   13      6                    hearthstone          588              37   \n",
       "2   13      6   grand theft auto san andreas            1               2   \n",
       "3   13      6                       fortnite         7344             419   \n",
       "4   13      6  playerunknown's battlegrounds           20               4   \n",
       "\n",
       "   year                           name     avgViewers  avgPopularity  \\\n",
       "0  2019            Pokémon Gold/Silver       8.733813       7.705036   \n",
       "1  2019                    Hearthstone   21380.671280   21350.159170   \n",
       "2  2019  Grand Theft Auto: San Andreas     455.910035     436.757785   \n",
       "3  2019                       Fortnite  117869.685121  116048.532872   \n",
       "4  2019  PLAYERUNKNOWN'S BATTLEGROUNDS   40519.429066   40224.128028   \n",
       "\n",
       "   avgChannels           buzz  \n",
       "0     1.942446      25.733813  \n",
       "1   225.629758   22005.671280  \n",
       "2    28.186851     458.910035  \n",
       "3  7186.041522  125632.685121  \n",
       "4  1299.048443   40543.429066  "
      ]
     },
     "execution_count": 67,
     "metadata": {},
     "output_type": "execute_result"
    }
   ],
   "source": [
    "combined_stats['buzz'] = combined_stats.total_likes + combined_stats.total_retweets + combined_stats.avgViewers\n",
    "combined_stats.head()"
   ]
  },
  {
   "cell_type": "markdown",
   "metadata": {},
   "source": [
    "## In which day a game obtained the highest \"buzz\"?"
   ]
  },
  {
   "cell_type": "code",
   "execution_count": 68,
   "metadata": {},
   "outputs": [
    {
     "data": {
      "text/plain": [
       "day                     21\n",
       "month                    6\n",
       "norm_name         fortnite\n",
       "total_likes          22664\n",
       "total_retweets        2977\n",
       "year                  2019\n",
       "name              Fortnite\n",
       "avgViewers          181664\n",
       "avgPopularity       180342\n",
       "avgChannels        7788.63\n",
       "buzz                207305\n",
       "Name: 362, dtype: object"
      ]
     },
     "execution_count": 68,
     "metadata": {},
     "output_type": "execute_result"
    }
   ],
   "source": [
    "combined_stats.loc[combined_stats['buzz'].idxmax()]"
   ]
  },
  {
   "cell_type": "markdown",
   "metadata": {},
   "source": [
    "## In which day a game obtained the lowest \"buzz\"?"
   ]
  },
  {
   "cell_type": "code",
   "execution_count": 69,
   "metadata": {},
   "outputs": [
    {
     "data": {
      "text/plain": [
       "day                                      13\n",
       "month                                     6\n",
       "norm_name         new super mario bros. wii\n",
       "total_likes                               3\n",
       "total_retweets                            0\n",
       "year                                   2019\n",
       "name              New Super Mario Bros. Wii\n",
       "avgViewers                             2.75\n",
       "avgPopularity                             0\n",
       "avgChannels                             1.5\n",
       "buzz                                   5.75\n",
       "Name: 35, dtype: object"
      ]
     },
     "execution_count": 69,
     "metadata": {},
     "output_type": "execute_result"
    }
   ],
   "source": [
    "combined_stats.loc[combined_stats['buzz'].idxmin()]"
   ]
  },
  {
   "cell_type": "code",
   "execution_count": null,
   "metadata": {},
   "outputs": [],
   "source": []
  }
 ],
 "metadata": {
  "kernelspec": {
   "display_name": "Python 3",
   "language": "python",
   "name": "python3"
  },
  "language_info": {
   "codemirror_mode": {
    "name": "ipython",
    "version": 3
   },
   "file_extension": ".py",
   "mimetype": "text/x-python",
   "name": "python",
   "nbconvert_exporter": "python",
   "pygments_lexer": "ipython3",
   "version": "3.6.8"
  }
 },
 "nbformat": 4,
 "nbformat_minor": 2
}
